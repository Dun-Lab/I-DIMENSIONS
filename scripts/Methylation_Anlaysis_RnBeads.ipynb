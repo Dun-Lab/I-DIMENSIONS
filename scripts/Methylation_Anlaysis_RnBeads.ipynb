{
 "cells": [
  {
   "cell_type": "markdown",
   "metadata": {},
   "source": [
    "# Data import"
   ]
  },
  {
   "cell_type": "code",
   "execution_count": 1,
   "metadata": {
    "vscode": {
     "languageId": "r"
    }
   },
   "outputs": [
    {
     "name": "stderr",
     "output_type": "stream",
     "text": [
      "Loading required package: BiocGenerics\n",
      "\n",
      "\n",
      "Attaching package: 'BiocGenerics'\n",
      "\n",
      "\n",
      "The following object is masked from 'package:limma':\n",
      "\n",
      "    plotMA\n",
      "\n",
      "\n",
      "The following objects are masked from 'package:stats':\n",
      "\n",
      "    IQR, mad, sd, var, xtabs\n",
      "\n",
      "\n",
      "The following objects are masked from 'package:base':\n",
      "\n",
      "    Filter, Find, Map, Position, Reduce, anyDuplicated, aperm, append,\n",
      "    as.data.frame, basename, cbind, colnames, dirname, do.call,\n",
      "    duplicated, eval, evalq, get, grep, grepl, intersect, is.unsorted,\n",
      "    lapply, mapply, match, mget, order, paste, pmax, pmax.int, pmin,\n",
      "    pmin.int, rank, rbind, rownames, sapply, setdiff, table, tapply,\n",
      "    union, unique, unsplit, which.max, which.min\n",
      "\n",
      "\n",
      "Loading required package: GenomicRanges\n",
      "\n",
      "Loading required package: stats4\n",
      "\n",
      "Loading required package: S4Vectors\n",
      "\n",
      "\n",
      "Attaching package: 'S4Vectors'\n",
      "\n",
      "\n",
      "The following object is masked from 'package:utils':\n",
      "\n",
      "    findMatches\n",
      "\n",
      "\n",
      "The following objects are masked from 'package:base':\n",
      "\n",
      "    I, expand.grid, unname\n",
      "\n",
      "\n",
      "Loading required package: IRanges\n",
      "\n",
      "Loading required package: GenomeInfoDb\n",
      "\n",
      "Loading required package: SummarizedExperiment\n",
      "\n",
      "Loading required package: MatrixGenerics\n",
      "\n",
      "Loading required package: matrixStats\n",
      "\n",
      "\n",
      "Attaching package: 'MatrixGenerics'\n",
      "\n",
      "\n",
      "The following objects are masked from 'package:matrixStats':\n",
      "\n",
      "    colAlls, colAnyNAs, colAnys, colAvgsPerRowSet, colCollapse,\n",
      "    colCounts, colCummaxs, colCummins, colCumprods, colCumsums,\n",
      "    colDiffs, colIQRDiffs, colIQRs, colLogSumExps, colMadDiffs,\n",
      "    colMads, colMaxs, colMeans2, colMedians, colMins, colOrderStats,\n",
      "    colProds, colQuantiles, colRanges, colRanks, colSdDiffs, colSds,\n",
      "    colSums2, colTabulates, colVarDiffs, colVars, colWeightedMads,\n",
      "    colWeightedMeans, colWeightedMedians, colWeightedSds,\n",
      "    colWeightedVars, rowAlls, rowAnyNAs, rowAnys, rowAvgsPerColSet,\n",
      "    rowCollapse, rowCounts, rowCummaxs, rowCummins, rowCumprods,\n",
      "    rowCumsums, rowDiffs, rowIQRDiffs, rowIQRs, rowLogSumExps,\n",
      "    rowMadDiffs, rowMads, rowMaxs, rowMeans2, rowMedians, rowMins,\n",
      "    rowOrderStats, rowProds, rowQuantiles, rowRanges, rowRanks,\n",
      "    rowSdDiffs, rowSds, rowSums2, rowTabulates, rowVarDiffs, rowVars,\n",
      "    rowWeightedMads, rowWeightedMeans, rowWeightedMedians,\n",
      "    rowWeightedSds, rowWeightedVars\n",
      "\n",
      "\n",
      "Loading required package: Biobase\n",
      "\n",
      "Welcome to Bioconductor\n",
      "\n",
      "    Vignettes contain introductory material; view with\n",
      "    'browseVignettes()'. To cite Bioconductor, see\n",
      "    'citation(\"Biobase\")', and for packages 'citation(\"pkgname\")'.\n",
      "\n",
      "\n",
      "\n",
      "Attaching package: 'Biobase'\n",
      "\n",
      "\n",
      "The following object is masked from 'package:MatrixGenerics':\n",
      "\n",
      "    rowMedians\n",
      "\n",
      "\n",
      "The following objects are masked from 'package:matrixStats':\n",
      "\n",
      "    anyMissing, rowMedians\n",
      "\n",
      "\n",
      "Loading required package: Biostrings\n",
      "\n",
      "Loading required package: XVector\n",
      "\n",
      "\n",
      "Attaching package: 'Biostrings'\n",
      "\n",
      "\n",
      "The following object is masked from 'package:base':\n",
      "\n",
      "    strsplit\n",
      "\n",
      "\n",
      "Loading required package: bumphunter\n",
      "\n",
      "Loading required package: foreach\n",
      "\n",
      "Loading required package: iterators\n",
      "\n",
      "Loading required package: parallel\n",
      "\n",
      "Loading required package: locfit\n",
      "\n",
      "locfit 1.5-9.9 \t 2024-03-01\n",
      "\n",
      "Setting options('download.file.method.GEOquery'='auto')\n",
      "\n",
      "Setting options('GEOquery.inmemory.gpl'=FALSE)\n",
      "\n",
      "Loading required package: IlluminaHumanMethylation450kanno.ilmn12.hg19\n",
      "\n",
      "\n",
      "Attaching package: 'IlluminaHumanMethylation450kanno.ilmn12.hg19'\n",
      "\n",
      "\n",
      "The following objects are masked from 'package:IlluminaHumanMethylationEPICv2anno.20a1.hg38':\n",
      "\n",
      "    Islands.UCSC, Locations, Manifest, Other, SNPs.141CommonSingle,\n",
      "    SNPs.142CommonSingle, SNPs.144CommonSingle, SNPs.146CommonSingle,\n",
      "    SNPs.147CommonSingle, SNPs.Illumina\n",
      "\n",
      "\n",
      "Loading required package: IlluminaHumanMethylationEPICanno.ilm10b4.hg19\n",
      "\n",
      "\n",
      "Attaching package: 'IlluminaHumanMethylationEPICanno.ilm10b4.hg19'\n",
      "\n",
      "\n",
      "The following objects are masked from 'package:IlluminaHumanMethylation450kanno.ilmn12.hg19':\n",
      "\n",
      "    Islands.UCSC, Locations, Manifest, Other, SNPs.132CommonSingle,\n",
      "    SNPs.135CommonSingle, SNPs.137CommonSingle, SNPs.138CommonSingle,\n",
      "    SNPs.141CommonSingle, SNPs.142CommonSingle, SNPs.144CommonSingle,\n",
      "    SNPs.146CommonSingle, SNPs.147CommonSingle, SNPs.Illumina\n",
      "\n",
      "\n",
      "The following objects are masked from 'package:IlluminaHumanMethylationEPICv2anno.20a1.hg38':\n",
      "\n",
      "    Islands.UCSC, Locations, Manifest, Other, SNPs.141CommonSingle,\n",
      "    SNPs.142CommonSingle, SNPs.144CommonSingle, SNPs.146CommonSingle,\n",
      "    SNPs.147CommonSingle, SNPs.Illumina\n",
      "\n",
      "\n",
      "\n",
      "\n",
      "Loading required package: IlluminaHumanMethylation450kmanifest\n",
      "\n",
      "Loading required package: grid\n",
      "\n",
      "\n",
      "Attaching package: 'grid'\n",
      "\n",
      "\n",
      "The following object is masked from 'package:Biostrings':\n",
      "\n",
      "    pattern\n",
      "\n",
      "\n",
      "Loading required package: mgcv\n",
      "\n",
      "Loading required package: nlme\n",
      "\n",
      "\n",
      "Attaching package: 'nlme'\n",
      "\n",
      "\n",
      "The following object is masked from 'package:Biostrings':\n",
      "\n",
      "    collapse\n",
      "\n",
      "\n",
      "The following object is masked from 'package:IRanges':\n",
      "\n",
      "    collapse\n",
      "\n",
      "\n",
      "This is mgcv 1.9-1. For overview type 'help(\"mgcv-package\")'.\n",
      "\n",
      "Loading required package: genefilter\n",
      "\n",
      "\n",
      "Attaching package: 'genefilter'\n",
      "\n",
      "\n",
      "The following objects are masked from 'package:MatrixGenerics':\n",
      "\n",
      "    rowSds, rowVars\n",
      "\n",
      "\n",
      "The following objects are masked from 'package:matrixStats':\n",
      "\n",
      "    rowSds, rowVars\n",
      "\n",
      "\n",
      "Loading required package: BiocParallel\n",
      "\n",
      "Loading required package: MASS\n",
      "\n",
      "\n",
      "Attaching package: 'MASS'\n",
      "\n",
      "\n",
      "The following object is masked from 'package:genefilter':\n",
      "\n",
      "    area\n",
      "\n",
      "\n",
      "Loading required package: cluster\n",
      "\n",
      "Loading required package: ff\n",
      "\n",
      "Loading required package: bit\n",
      "\n",
      "\n",
      "Attaching package: 'bit'\n",
      "\n",
      "\n",
      "The following object is masked from 'package:base':\n",
      "\n",
      "    xor\n",
      "\n",
      "\n",
      "Attaching package ff\n",
      "\n",
      "- getOption(\"fftempdir\")==\"/var/folders/y0/1cs3npgn3jn68yvgp05r7ntc0000gr/T//RtmptMaso3/ff\"\n",
      "\n",
      "\n",
      "- getOption(\"ffextension\")==\"ff\"\n",
      "\n",
      "\n",
      "- getOption(\"ffdrop\")==TRUE\n",
      "\n",
      "\n",
      "- getOption(\"fffinonexit\")==TRUE\n",
      "\n",
      "\n",
      "- getOption(\"ffpagesize\")==65536\n",
      "\n",
      "\n",
      "- getOption(\"ffcaching\")==\"mmnoflush\"  -- consider \"ffeachflush\" if your system stalls on large writes\n",
      "\n",
      "\n",
      "- getOption(\"ffbatchbytes\")==16777216 -- consider a different value for tuning your system\n",
      "\n",
      "\n",
      "- getOption(\"ffmaxbytes\")==536870912 -- consider a different value for tuning your system\n",
      "\n",
      "\n",
      "\n",
      "Attaching package: 'ff'\n",
      "\n",
      "\n",
      "The following object is masked from 'package:grid':\n",
      "\n",
      "    pattern\n",
      "\n",
      "\n",
      "The following objects are masked from 'package:Biostrings':\n",
      "\n",
      "    mismatch, pattern\n",
      "\n",
      "\n",
      "The following objects are masked from 'package:utils':\n",
      "\n",
      "    write.csv, write.csv2\n",
      "\n",
      "\n",
      "The following objects are masked from 'package:base':\n",
      "\n",
      "    is.factor, is.ordered\n",
      "\n",
      "\n",
      "Loading required package: fields\n",
      "\n",
      "Loading required package: spam\n",
      "\n",
      "Spam version 2.10-0 (2023-10-23) is loaded.\n",
      "Type 'help( Spam)' or 'demo( spam)' for a short introduction \n",
      "and overview of this package.\n",
      "Help for individual functions is also obtained by adding the\n",
      "suffix '.spam' to the function name, e.g. 'help( chol.spam)'.\n",
      "\n",
      "\n",
      "Attaching package: 'spam'\n",
      "\n",
      "\n",
      "The following object is masked from 'package:stats4':\n",
      "\n",
      "    mle\n",
      "\n",
      "\n",
      "The following objects are masked from 'package:base':\n",
      "\n",
      "    backsolve, forwardsolve\n",
      "\n",
      "\n",
      "Loading required package: viridisLite\n",
      "\n",
      "\n",
      "Try help(fields) to get started.\n",
      "\n",
      "Loading required package: ggplot2\n",
      "\n",
      "Loading required package: gplots\n",
      "\n",
      "\n",
      "Attaching package: 'gplots'\n",
      "\n",
      "\n",
      "The following object is masked from 'package:IRanges':\n",
      "\n",
      "    space\n",
      "\n",
      "\n",
      "The following object is masked from 'package:S4Vectors':\n",
      "\n",
      "    space\n",
      "\n",
      "\n",
      "The following object is masked from 'package:stats':\n",
      "\n",
      "    lowess\n",
      "\n",
      "\n",
      "Loading required package: gridExtra\n",
      "\n",
      "\n",
      "Attaching package: 'gridExtra'\n",
      "\n",
      "\n",
      "The following object is masked from 'package:minfi':\n",
      "\n",
      "    combine\n",
      "\n",
      "\n",
      "The following object is masked from 'package:Biobase':\n",
      "\n",
      "    combine\n",
      "\n",
      "\n",
      "The following object is masked from 'package:BiocGenerics':\n",
      "\n",
      "    combine\n",
      "\n",
      "\n",
      "Loading required package: illuminaio\n",
      "\n",
      "Loading required package: methylumi\n",
      "\n",
      "Loading required package: scales\n",
      "\n",
      "Loading required package: reshape2\n",
      "\n",
      "Loading required package: FDb.InfiniumMethylation.hg19\n",
      "\n",
      "Loading required package: GenomicFeatures\n",
      "\n",
      "Loading required package: AnnotationDbi\n",
      "\n",
      "\n",
      "Attaching package: 'AnnotationDbi'\n",
      "\n",
      "\n",
      "The following object is masked from 'package:MASS':\n",
      "\n",
      "    select\n",
      "\n",
      "\n",
      "Loading required package: TxDb.Hsapiens.UCSC.hg19.knownGene\n",
      "\n",
      "Loading required package: org.Hs.eg.db\n",
      "\n",
      "\n",
      "Attaching package: 'methylumi'\n",
      "\n",
      "\n",
      "The following objects are masked from 'package:genefilter':\n",
      "\n",
      "    featureFilter, varFilter\n",
      "\n",
      "\n",
      "Loading required package: plyr\n",
      "\n",
      "\n",
      "Attaching package: 'plyr'\n",
      "\n",
      "\n",
      "The following object is masked from 'package:XVector':\n",
      "\n",
      "    compact\n",
      "\n",
      "\n",
      "The following object is masked from 'package:matrixStats':\n",
      "\n",
      "    count\n",
      "\n",
      "\n",
      "The following object is masked from 'package:IRanges':\n",
      "\n",
      "    desc\n",
      "\n",
      "\n",
      "The following object is masked from 'package:S4Vectors':\n",
      "\n",
      "    rename\n",
      "\n",
      "\n"
     ]
    }
   ],
   "source": [
    "library(knitr)\n",
    "library(limma)\n",
    "library(minfi)\n",
    "library(IlluminaHumanMethylationEPICv2manifest)\n",
    "library(IlluminaHumanMethylationEPICv2anno.20a1.hg38)\n",
    "# library(IlluminaHumanMethylationEPICanno.ilm10b4.hg19)\n",
    "library(ConsensusClusterPlus)\n",
    "library(RColorBrewer)\n",
    "library(missMethyl)\n",
    "library(minfiData)\n",
    "library(Gviz)\n",
    "library(DMRcate)\n",
    "library(stringr)\n",
    "library(sva)\n",
    "library(ConsensusClusterPlus)\n",
    "library(RnBeads)"
   ]
  },
  {
   "cell_type": "code",
   "execution_count": 2,
   "metadata": {
    "vscode": {
     "languageId": "r"
    }
   },
   "outputs": [
    {
     "name": "stdout",
     "output_type": "stream",
     "text": [
      "2024-07-15 22:42:49     5.0  STATUS STARTED Setting up Multicore\n",
      "2024-07-15 22:42:49     5.0    INFO     Using 1 cores\n",
      "2024-07-15 22:42:50     5.0  STATUS COMPLETED Setting up Multicore\n",
      "\n"
     ]
    }
   ],
   "source": [
    "# set up a path to the data directory\n",
    "idat.dir <- '../Dataset/RnBead_methylation/idat'\n",
    "\n",
    "# get the EPICv2 annotation data\n",
    "# sample.annotation <- getAnnotation(IlluminaHumanMethylationEPICv2anno.20a1.hg38)\n",
    "sample.annotation <- '../Dataset/RnBead_methylation/Sample_annotation.csv'\n",
    "\n",
    "# set up a path to the result directory\n",
    "analysis.dir <- \"../Intermediate_results\"\n",
    "\n",
    "# set up a path to the report directory\n",
    "report.dir <- file.path(analysis.dir, \"reports\")\n",
    "\n",
    "# Parallel processing\n",
    "num.cores <- 1\n",
    "parallel.setup(num.cores)\n"
   ]
  },
  {
   "cell_type": "code",
   "execution_count": 3,
   "metadata": {
    "vscode": {
     "languageId": "r"
    }
   },
   "outputs": [],
   "source": [
    "data.source <- c(idat.dir, sample.annotation)\n",
    "rnb.options(filtering.sex.chromosomes.removal=TRUE, identifiers.column=\"Sample_ID\")\n"
   ]
  },
  {
   "cell_type": "code",
   "execution_count": 4,
   "metadata": {
    "vscode": {
     "languageId": "r"
    }
   },
   "outputs": [
    {
     "name": "stdout",
     "output_type": "stream",
     "text": [
      "2024-07-15 22:42:50     5.0  STATUS STARTED Loading Data from IDAT Files\n",
      "2024-07-15 22:42:51     5.0 WARNING     The sample sheet contained one column with empty names; renamed to Unknown Column No.\n",
      "2024-07-15 22:42:51     5.0    INFO     Added column barcode to the provided sample annotation table\n",
      "2024-07-15 22:42:52     5.0    INFO     Detected platform: MethylationEPICv2\n",
      "2024-07-15 22:42:52     5.0    INFO     Annotation package genome assembly version: hg38\n",
      "2024-07-15 22:43:36     5.2  STATUS COMPLETED Loading Data from IDAT Files\n",
      "\n"
     ]
    }
   ],
   "source": [
    "# # First run\n",
    "# result <- rnb.run.import(data.source=data.source,\n",
    "#                         data.type=\"idat.dir\", dir.reports=report.dir, init.configuration=FALSE)\n",
    "# rnb.set <- result$rnb.set\n",
    "\n",
    "# Second run\n",
    "rnb.set <- rnb.execute.import(data.source=data.source, data.type=\"infinium.idat.dir\")\n"
   ]
  },
  {
   "cell_type": "code",
   "execution_count": 5,
   "metadata": {
    "vscode": {
     "languageId": "r"
    }
   },
   "outputs": [
    {
     "data": {
      "text/plain": [
       "Object of class RnBeadRawSet\n",
       "      96 samples\n",
       "  923798 probes\n",
       "\tof which: 920026 CpG, 2906 CpH, 62 rs and 804 nv\n",
       "Region types:\n",
       "\t  266859 regions of type tiling\n",
       "\t   38298 regions of type genes\n",
       "\t   45816 regions of type promoters\n",
       "\t   25381 regions of type cpgislands\n",
       "Intensity information is present\n",
       "Detection p-values are present\n",
       "Bead counts are present\n",
       "Quality control information is present\n",
       "Summary of normalization procedures:\n",
       "\tThe methylation data was not normalized.\n",
       "\tNo background correction was performed."
      ]
     },
     "metadata": {},
     "output_type": "display_data"
    },
    {
     "data": {
      "text/plain": [
       " Unknown Column 1     index        Sample_ID         Sample_Well       \n",
       " Min.   : 0.00    Min.   : 1.00   Length:96          Length:96         \n",
       " 1st Qu.:23.75    1st Qu.:24.75   Class :character   Class :character  \n",
       " Median :47.50    Median :48.50   Mode  :character   Mode  :character  \n",
       " Mean   :47.50    Mean   :48.50                                        \n",
       " 3rd Qu.:71.25    3rd Qu.:72.25                                        \n",
       " Max.   :95.00    Max.   :96.00                                        \n",
       " Sample_Plate       Sample_Name        Pool_ID        Sample_Group      \n",
       " Length:96          Length:96          Mode:logical   Length:96         \n",
       " Class :character   Class :character   NA's:96        Class :character  \n",
       " Mode  :character   Mode  :character                  Mode  :character  \n",
       "                                                                        \n",
       "                                                                        \n",
       "                                                                        \n",
       "   I.D.Code            Sample          Sample.Type        Tumour.Normal     \n",
       " Length:96          Length:96          Length:96          Length:96         \n",
       " Class :character   Class :character   Class :character   Class :character  \n",
       " Mode  :character   Mode  :character   Mode  :character   Mode  :character  \n",
       "                                                                            \n",
       "                                                                            \n",
       "                                                                            \n",
       "  Collection        Institution        Sentrix_Position     Sentrix_ID       \n",
       " Length:96          Length:96          Length:96          Min.   :2.079e+11  \n",
       " Class :character   Class :character   Class :character   1st Qu.:2.079e+11  \n",
       " Mode  :character   Mode  :character   Mode  :character   Median :2.079e+11  \n",
       "                                                          Mean   :2.079e+11  \n",
       "                                                          3rd Qu.:2.079e+11  \n",
       "                                                          Max.   :2.079e+11  \n",
       "   Basename           barcode         \n",
       " Length:96          Length:96         \n",
       " Class :character   Class :character  \n",
       " Mode  :character   Mode  :character  \n",
       "                                      \n",
       "                                      \n",
       "                                      "
      ]
     },
     "metadata": {},
     "output_type": "display_data"
    }
   ],
   "source": [
    "rnb.set\n",
    "summary(pheno(rnb.set))\n"
   ]
  },
  {
   "cell_type": "code",
   "execution_count": 6,
   "metadata": {
    "vscode": {
     "languageId": "r"
    }
   },
   "outputs": [
    {
     "data": {
      "text/html": [
       "<style>\n",
       ".list-inline {list-style: none; margin:0; padding: 0}\n",
       ".list-inline>li {display: inline-block}\n",
       ".list-inline>li:not(:last-child)::after {content: \"\\00b7\"; padding: 0 .5ex}\n",
       "</style>\n",
       "<ol class=list-inline><li>923798</li><li>96</li></ol>\n"
      ],
      "text/latex": [
       "\\begin{enumerate*}\n",
       "\\item 923798\n",
       "\\item 96\n",
       "\\end{enumerate*}\n"
      ],
      "text/markdown": [
       "1. 923798\n",
       "2. 96\n",
       "\n",
       "\n"
      ],
      "text/plain": [
       "[1] 923798     96"
      ]
     },
     "metadata": {},
     "output_type": "display_data"
    },
    {
     "data": {
      "text/plain": [
       "  FIN13295A89     FIN13295A90     FIN13295A91     FIN13295A92   \n",
       " Min.   :    0   Min.   :    0   Min.   :    0   Min.   :    0  \n",
       " 1st Qu.: 1146   1st Qu.: 1071   1st Qu.: 1771   1st Qu.: 1139  \n",
       " Median : 3493   Median : 3466   Median : 5184   Median : 3389  \n",
       " Mean   : 5500   Mean   : 5563   Mean   : 6759   Mean   : 5740  \n",
       " 3rd Qu.: 8651   3rd Qu.: 8852   3rd Qu.:10668   3rd Qu.: 8934  \n",
       " Max.   :42278   Max.   :40733   Max.   :44620   Max.   :44015  \n",
       " NA's   :100     NA's   :93      NA's   :276     NA's   :103    \n",
       "  FIN13295A93     FIN13295A94     FIN13295A95     FIN13295A96   \n",
       " Min.   :    0   Min.   :    0   Min.   :    0   Min.   :    0  \n",
       " 1st Qu.: 1560   1st Qu.: 1487   1st Qu.: 1942   1st Qu.: 1586  \n",
       " Median : 4584   Median : 4717   Median : 6042   Median : 4424  \n",
       " Mean   : 6527   Mean   : 6867   Mean   : 7862   Mean   : 6747  \n",
       " 3rd Qu.:10284   3rd Qu.:10941   3rd Qu.:12487   3rd Qu.:10426  \n",
       " Max.   :44730   Max.   :46704   Max.   :48680   Max.   :50437  \n",
       " NA's   :228     NA's   :330     NA's   :344     NA's   :187    \n",
       "  FIN13295A49     FIN13295A50     FIN13295A51     FIN13295A52   \n",
       " Min.   :    0   Min.   :    0   Min.   :    0   Min.   :    0  \n",
       " 1st Qu.: 1282   1st Qu.: 1378   1st Qu.: 1214   1st Qu.: 1248  \n",
       " Median : 3749   Median : 3710   Median : 3663   Median : 3677  \n",
       " Mean   : 5254   Mean   : 5204   Mean   : 5632   Mean   : 5755  \n",
       " 3rd Qu.: 8195   3rd Qu.: 7904   3rd Qu.: 8848   3rd Qu.: 8929  \n",
       " Max.   :40081   Max.   :41584   Max.   :42963   Max.   :45310  \n",
       " NA's   :192     NA's   :119     NA's   :135     NA's   :138    \n",
       "  FIN13295A53     FIN13295A54     FIN13295A55     FIN13295A56   \n",
       " Min.   :    0   Min.   :    0   Min.   :    0   Min.   :    0  \n",
       " 1st Qu.: 1655   1st Qu.: 1555   1st Qu.: 1622   1st Qu.: 1625  \n",
       " Median : 4568   Median : 4545   Median : 4529   Median : 4596  \n",
       " Mean   : 6427   Mean   : 6639   Mean   : 6686   Mean   : 6791  \n",
       " 3rd Qu.: 9875   3rd Qu.:10360   3rd Qu.:10240   3rd Qu.:10533  \n",
       " Max.   :47805   Max.   :45269   Max.   :50807   Max.   :48694  \n",
       " NA's   :121     NA's   :245     NA's   :222     NA's   :244    \n",
       "  FIN13295A57     FIN13295A58     FIN13295A59     FIN13295A60   \n",
       " Min.   :    0   Min.   :    0   Min.   :    0   Min.   :    0  \n",
       " 1st Qu.: 1055   1st Qu.: 1379   1st Qu.: 1322   1st Qu.: 1523  \n",
       " Median : 3167   Median : 3809   Median : 4008   Median : 4307  \n",
       " Mean   : 5046   Mean   : 5409   Mean   : 5997   Mean   : 6182  \n",
       " 3rd Qu.: 7907   3rd Qu.: 8275   3rd Qu.: 9417   3rd Qu.: 9576  \n",
       " Max.   :39190   Max.   :43044   Max.   :44163   Max.   :43231  \n",
       " NA's   :516     NA's   :375     NA's   :291     NA's   :434    \n",
       "  FIN13295A61     FIN13295A62     FIN13295A63     FIN13295A64   \n",
       " Min.   :    0   Min.   :    0   Min.   :    0   Min.   :    6  \n",
       " 1st Qu.: 1267   1st Qu.: 1554   1st Qu.:  972   1st Qu.:  925  \n",
       " Median : 3674   Median : 4395   Median : 2953   Median : 2705  \n",
       " Mean   : 5785   Mean   : 6400   Mean   : 5676   Mean   : 5426  \n",
       " 3rd Qu.: 8935   3rd Qu.: 9958   3rd Qu.: 8630   3rd Qu.: 8304  \n",
       " Max.   :45807   Max.   :43245   Max.   :45220   Max.   :47310  \n",
       " NA's   :113     NA's   :77      NA's   :24      NA's   :16     \n",
       "  FIN13295A25     FIN13295A26     FIN13295A27     FIN13295A28   \n",
       " Min.   :    1   Min.   :    1   Min.   :    1   Min.   :    2  \n",
       " 1st Qu.: 1030   1st Qu.: 1126   1st Qu.: 1090   1st Qu.: 1444  \n",
       " Median : 2936   Median : 3261   Median : 3087   Median : 3830  \n",
       " Mean   : 4428   Mean   : 4778   Mean   : 4892   Mean   : 5301  \n",
       " 3rd Qu.: 6896   3rd Qu.: 7481   3rd Qu.: 7582   3rd Qu.: 8125  \n",
       " Max.   :33060   Max.   :32502   Max.   :35212   Max.   :36278  \n",
       " NA's   :37      NA's   :29      NA's   :16      NA's   :32     \n",
       "  FIN13295A29     FIN13295A30     FIN13295A31     FIN13295A32   \n",
       " Min.   :    1   Min.   :    0   Min.   :    0   Min.   :    1  \n",
       " 1st Qu.: 1534   1st Qu.: 1259   1st Qu.: 1330   1st Qu.: 1155  \n",
       " Median : 4049   Median : 3423   Median : 3756   Median : 3324  \n",
       " Mean   : 5466   Mean   : 5164   Mean   : 5514   Mean   : 5051  \n",
       " 3rd Qu.: 8392   3rd Qu.: 7939   3rd Qu.: 8605   3rd Qu.: 7771  \n",
       " Max.   :37133   Max.   :36900   Max.   :39861   Max.   :37608  \n",
       " NA's   :28      NA's   :22      NA's   :25      NA's   :27     \n",
       "   FIN13295A1      FIN13295A2      FIN13295A3      FIN13295A4   \n",
       " Min.   :    1   Min.   :    1   Min.   :    1   Min.   :    0  \n",
       " 1st Qu.:  902   1st Qu.: 1374   1st Qu.: 1350   1st Qu.: 1470  \n",
       " Median : 2612   Median : 3705   Median : 3649   Median : 3977  \n",
       " Mean   : 4267   Mean   : 5183   Mean   : 5451   Mean   : 5823  \n",
       " 3rd Qu.: 6603   3rd Qu.: 8017   3rd Qu.: 8415   3rd Qu.: 8988  \n",
       " Max.   :34050   Max.   :36836   Max.   :38784   Max.   :39735  \n",
       " NA's   :59      NA's   :57      NA's   :35      NA's   :36     \n",
       "   FIN13295A5      FIN13295A6      FIN13295A7      FIN13295A8   \n",
       " Min.   :    0   Min.   :    0   Min.   :    0   Min.   :    1  \n",
       " 1st Qu.: 1558   1st Qu.: 1561   1st Qu.: 1433   1st Qu.: 1563  \n",
       " Median : 4231   Median : 4145   Median : 3901   Median : 4297  \n",
       " Mean   : 5957   Mean   : 5796   Mean   : 5870   Mean   : 6244  \n",
       " 3rd Qu.: 9223   3rd Qu.: 8818   3rd Qu.: 9039   3rd Qu.: 9591  \n",
       " Max.   :40771   Max.   :42477   Max.   :43959   Max.   :48688  \n",
       " NA's   :61      NA's   :43      NA's   :50      NA's   :45     \n",
       "  FIN13295A81     FIN13295A82     FIN13295A83     FIN13295A84   \n",
       " Min.   :    0   Min.   :    0   Min.   :    0   Min.   :    0  \n",
       " 1st Qu.: 1231   1st Qu.: 1613   1st Qu.: 1204   1st Qu.: 1737  \n",
       " Median : 3775   Median : 4746   Median : 3880   Median : 4945  \n",
       " Mean   : 5754   Mean   : 6533   Mean   : 6173   Mean   : 7156  \n",
       " 3rd Qu.: 9142   3rd Qu.:10322   3rd Qu.: 9832   3rd Qu.:11274  \n",
       " Max.   :46918   Max.   :46309   Max.   :44016   Max.   :46806  \n",
       " NA's   :358     NA's   :262     NA's   :119     NA's   :145    \n",
       "  FIN13295A85     FIN13295A86     FIN13295A87     FIN13295A88   \n",
       " Min.   :    0   Min.   :    0   Min.   :    0   Min.   :    0  \n",
       " 1st Qu.: 1500   1st Qu.: 1183   1st Qu.: 1182   1st Qu.: 1361  \n",
       " Median : 4472   Median : 3688   Median : 3607   Median : 4192  \n",
       " Mean   : 6974   Mean   : 6419   Mean   : 6463   Mean   : 6858  \n",
       " 3rd Qu.:11033   3rd Qu.:10033   3rd Qu.: 9929   3rd Qu.:10740  \n",
       " Max.   :48349   Max.   :48719   Max.   :49137   Max.   :53680  \n",
       " NA's   :171     NA's   :75      NA's   :140     NA's   :201    \n",
       "  FIN13295A17     FIN13295A18     FIN13295A19     FIN13295A20   \n",
       " Min.   :    1   Min.   :    0   Min.   :    0   Min.   :    0  \n",
       " 1st Qu.:  953   1st Qu.: 1260   1st Qu.: 1222   1st Qu.: 1083  \n",
       " Median : 2718   Median : 3435   Median : 3621   Median : 3082  \n",
       " Mean   : 4413   Mean   : 4897   Mean   : 5410   Mean   : 5046  \n",
       " 3rd Qu.: 6810   3rd Qu.: 7559   3rd Qu.: 8526   3rd Qu.: 7795  \n",
       " Max.   :36086   Max.   :35129   Max.   :36892   Max.   :38243  \n",
       " NA's   :92      NA's   :66      NA's   :49      NA's   :33     \n",
       "  FIN13295A21     FIN13295A22     FIN13295A23     FIN13295A24   \n",
       " Min.   :    1   Min.   :    0   Min.   :    0   Min.   :    0  \n",
       " 1st Qu.: 1307   1st Qu.: 1208   1st Qu.: 1137   1st Qu.: 1182  \n",
       " Median : 3571   Median : 3501   Median : 3258   Median : 3357  \n",
       " Mean   : 5367   Mean   : 5406   Mean   : 5205   Mean   : 5163  \n",
       " 3rd Qu.: 8291   3rd Qu.: 8426   3rd Qu.: 8068   3rd Qu.: 7951  \n",
       " Max.   :37342   Max.   :36808   Max.   :37587   Max.   :40206  \n",
       " NA's   :28      NA's   :43      NA's   :54      NA's   :85     \n",
       "  FIN13295A73     FIN13295A74     FIN13295A75     FIN13295A76   \n",
       " Min.   :    0   Min.   :    0   Min.   :    0   Min.   :    0  \n",
       " 1st Qu.: 1271   1st Qu.: 1358   1st Qu.: 1067   1st Qu.: 1398  \n",
       " Median : 3969   Median : 4111   Median : 3464   Median : 4319  \n",
       " Mean   : 5680   Mean   : 5933   Mean   : 5858   Mean   : 6690  \n",
       " 3rd Qu.: 8994   3rd Qu.: 9386   3rd Qu.: 9289   3rd Qu.:10692  \n",
       " Max.   :43481   Max.   :43445   Max.   :45582   Max.   :47107  \n",
       " NA's   :621     NA's   :522     NA's   :265     NA's   :265    \n",
       "  FIN13295A77     FIN13295A78     FIN13295A79     FIN13295A80   \n",
       " Min.   :    0   Min.   :    0   Min.   :    0   Min.   :    0  \n",
       " 1st Qu.: 1412   1st Qu.: 1576   1st Qu.: 1601   1st Qu.: 1288  \n",
       " Median : 4381   Median : 4797   Median : 4692   Median : 3912  \n",
       " Mean   : 6887   Mean   : 7235   Mean   : 7219   Mean   : 6668  \n",
       " 3rd Qu.:11029   3rd Qu.:11534   3rd Qu.:11380   3rd Qu.:10428  \n",
       " Max.   :48731   Max.   :49265   Max.   :48769   Max.   :51066  \n",
       " NA's   :207     NA's   :258     NA's   :252     NA's   :260    \n",
       "  FIN13295A41     FIN13295A42     FIN13295A43     FIN13295A44   \n",
       " Min.   :    0   Min.   :    0   Min.   :    2   Min.   :    0  \n",
       " 1st Qu.: 1254   1st Qu.: 1347   1st Qu.: 1587   1st Qu.: 1606  \n",
       " Median : 3431   Median : 3861   Median : 4382   Median : 4680  \n",
       " Mean   : 5105   Mean   : 5561   Mean   : 6209   Mean   : 6565  \n",
       " 3rd Qu.: 7887   3rd Qu.: 8666   3rd Qu.: 9658   3rd Qu.:10329  \n",
       " Max.   :38880   Max.   :37432   Max.   :43696   Max.   :42713  \n",
       " NA's   :36      NA's   :33      NA's   :28      NA's   :23     \n",
       "  FIN13295A45     FIN13295A46     FIN13295A47     FIN13295A48   \n",
       " Min.   :    1   Min.   :    0   Min.   :    1   Min.   :    0  \n",
       " 1st Qu.: 1281   1st Qu.: 1584   1st Qu.: 1287   1st Qu.: 1540  \n",
       " Median : 3601   Median : 4265   Median : 3870   Median : 4280  \n",
       " Mean   : 5754   Mean   : 6301   Mean   : 6375   Mean   : 6458  \n",
       " 3rd Qu.: 8893   3rd Qu.: 9605   3rd Qu.: 9962   3rd Qu.: 9873  \n",
       " Max.   :42420   Max.   :45919   Max.   :47422   Max.   :48855  \n",
       " NA's   :31      NA's   :86      NA's   :42      NA's   :67     \n",
       "   FIN13295A9     FIN13295A10     FIN13295A11     FIN13295A12   \n",
       " Min.   :    0   Min.   :    0   Min.   :    1   Min.   :    0  \n",
       " 1st Qu.: 1115   1st Qu.: 1011   1st Qu.: 1307   1st Qu.: 1547  \n",
       " Median : 3111   Median : 3251   Median : 3486   Median : 4058  \n",
       " Mean   : 4513   Mean   : 4825   Mean   : 5129   Mean   : 5563  \n",
       " 3rd Qu.: 7046   3rd Qu.: 7681   3rd Qu.: 7868   3rd Qu.: 8540  \n",
       " Max.   :33032   Max.   :33746   Max.   :37846   Max.   :38964  \n",
       " NA's   :99      NA's   :116     NA's   :40      NA's   :23     \n",
       "  FIN13295A13     FIN13295A14     FIN13295A15     FIN13295A16   \n",
       " Min.   :    0   Min.   :    4   Min.   :    2   Min.   :    4  \n",
       " 1st Qu.: 1415   1st Qu.: 1327   1st Qu.: 1153   1st Qu.: 1381  \n",
       " Median : 3883   Median : 3703   Median : 3233   Median : 3604  \n",
       " Mean   : 5620   Mean   : 5543   Mean   : 5438   Mean   : 5580  \n",
       " 3rd Qu.: 8684   3rd Qu.: 8610   3rd Qu.: 8354   3rd Qu.: 8471  \n",
       " Max.   :37265   Max.   :38770   Max.   :39714   Max.   :40664  \n",
       " NA's   :24      NA's   :31      NA's   :19      NA's   :22     \n",
       "  FIN13295A33     FIN13295A34     FIN13295A35     FIN13295A36   \n",
       " Min.   :    0   Min.   :    0   Min.   :    0   Min.   :    0  \n",
       " 1st Qu.: 1165   1st Qu.: 1290   1st Qu.: 1019   1st Qu.: 1206  \n",
       " Median : 3382   Median : 3609   Median : 2984   Median : 3532  \n",
       " Mean   : 5133   Mean   : 5174   Mean   : 5163   Mean   : 5441  \n",
       " 3rd Qu.: 8008   3rd Qu.: 7981   3rd Qu.: 7969   3rd Qu.: 8315  \n",
       " Max.   :44901   Max.   :38771   Max.   :38937   Max.   :43160  \n",
       " NA's   :110     NA's   :257     NA's   :79      NA's   :159    \n",
       "  FIN13295A37     FIN13295A38     FIN13295A39     FIN13295A40   \n",
       " Min.   :    0   Min.   :    0   Min.   :    0   Min.   :    0  \n",
       " 1st Qu.: 1312   1st Qu.: 1145   1st Qu.: 1708   1st Qu.: 1393  \n",
       " Median : 3746   Median : 3385   Median : 4757   Median : 4130  \n",
       " Mean   : 5630   Mean   : 5889   Mean   : 6605   Mean   : 6332  \n",
       " 3rd Qu.: 8744   3rd Qu.: 9176   3rd Qu.:10275   3rd Qu.: 9935  \n",
       " Max.   :39781   Max.   :43655   Max.   :45380   Max.   :45396  \n",
       " NA's   :562     NA's   :92      NA's   :340     NA's   :85     \n",
       "  FIN13295A65     FIN13295A66     FIN13295A67     FIN13295A68   \n",
       " Min.   :    0   Min.   :    2   Min.   :    0   Min.   :    0  \n",
       " 1st Qu.: 1653   1st Qu.: 1518   1st Qu.: 2020   1st Qu.: 1274  \n",
       " Median : 4664   Median : 4025   Median : 5296   Median : 4006  \n",
       " Mean   : 6424   Mean   : 6033   Mean   : 7023   Mean   : 6690  \n",
       " 3rd Qu.:10022   3rd Qu.: 9202   3rd Qu.:10835   3rd Qu.:10631  \n",
       " Max.   :43156   Max.   :45120   Max.   :45009   Max.   :48063  \n",
       " NA's   :244     NA's   :154     NA's   :187     NA's   :61     \n",
       "  FIN13295A69     FIN13295A70     FIN13295A71     FIN13295A72   \n",
       " Min.   :    0   Min.   :    2   Min.   :    3   Min.   :    0  \n",
       " 1st Qu.: 1585   1st Qu.: 1599   1st Qu.:  981   1st Qu.:  966  \n",
       " Median : 4880   Median : 4685   Median : 3087   Median : 3068  \n",
       " Mean   : 7193   Mean   : 7190   Mean   : 6224   Mean   : 6103  \n",
       " 3rd Qu.:11522   3rd Qu.:11358   3rd Qu.: 9740   3rd Qu.: 9618  \n",
       " Max.   :46480   Max.   :46747   Max.   :48408   Max.   :50681  \n",
       " NA's   :121     NA's   :84      NA's   :43      NA's   :156    "
      ]
     },
     "metadata": {},
     "output_type": "display_data"
    }
   ],
   "source": [
    "dim(M(rnb.set))\n",
    "summary(M(rnb.set))\n"
   ]
  },
  {
   "cell_type": "code",
   "execution_count": 7,
   "metadata": {
    "vscode": {
     "languageId": "r"
    }
   },
   "outputs": [
    {
     "data": {
      "text/html": [
       "<style>\n",
       ".list-inline {list-style: none; margin:0; padding: 0}\n",
       ".list-inline>li {display: inline-block}\n",
       ".list-inline>li:not(:last-child)::after {content: \"\\00b7\"; padding: 0 .5ex}\n",
       "</style>\n",
       "<ol class=list-inline><li>923798</li><li>96</li></ol>\n"
      ],
      "text/latex": [
       "\\begin{enumerate*}\n",
       "\\item 923798\n",
       "\\item 96\n",
       "\\end{enumerate*}\n"
      ],
      "text/markdown": [
       "1. 923798\n",
       "2. 96\n",
       "\n",
       "\n"
      ],
      "text/plain": [
       "[1] 923798     96"
      ]
     },
     "metadata": {},
     "output_type": "display_data"
    },
    {
     "data": {
      "text/plain": [
       "  FIN13295A89      FIN13295A90      FIN13295A91      FIN13295A92    \n",
       " Min.   :0.0000   Min.   :0.0000   Min.   :0.0000   Min.   :0.0000  \n",
       " 1st Qu.:0.1850   1st Qu.:0.1312   1st Qu.:0.2574   1st Qu.:0.1772  \n",
       " Median :0.6567   Median :0.5795   Median :0.6890   Median :0.6544  \n",
       " Mean   :0.5353   Mean   :0.5006   Mean   :0.5576   Mean   :0.5333  \n",
       " 3rd Qu.:0.8226   3rd Qu.:0.8103   3rd Qu.:0.8278   3rd Qu.:0.8193  \n",
       " Max.   :0.9949   Max.   :0.9960   Max.   :0.9950   Max.   :0.9967  \n",
       " NA's   :143      NA's   :121      NA's   :354      NA's   :132     \n",
       "  FIN13295A93      FIN13295A94      FIN13295A95      FIN13295A96    \n",
       " Min.   :0.0000   Min.   :0.0000   Min.   :0.0000   Min.   :0.0000  \n",
       " 1st Qu.:0.2138   1st Qu.:0.1608   1st Qu.:0.1835   1st Qu.:0.2427  \n",
       " Median :0.6777   Median :0.5918   Median :0.7068   Median :0.6497  \n",
       " Mean   :0.5472   Mean   :0.5115   Mean   :0.5560   Mean   :0.5396  \n",
       " 3rd Qu.:0.8277   3rd Qu.:0.8153   3rd Qu.:0.8499   3rd Qu.:0.8095  \n",
       " Max.   :0.9962   Max.   :0.9966   Max.   :0.9970   Max.   :0.9968  \n",
       " NA's   :294      NA's   :438      NA's   :450      NA's   :268     \n",
       "  FIN13295A49      FIN13295A50      FIN13295A51      FIN13295A52    \n",
       " Min.   :0.0000   Min.   :0.0000   Min.   :0.0000   Min.   :0.0000  \n",
       " 1st Qu.:0.1726   1st Qu.:0.2630   1st Qu.:0.1493   1st Qu.:0.1466  \n",
       " Median :0.5910   Median :0.6215   Median :0.5170   Median :0.4729  \n",
       " Mean   :0.5058   Mean   :0.5253   Mean   :0.4702   Mean   :0.4569  \n",
       " 3rd Qu.:0.7959   3rd Qu.:0.7792   3rd Qu.:0.7541   3rd Qu.:0.7494  \n",
       " Max.   :0.9945   Max.   :0.9933   Max.   :0.9954   Max.   :0.9966  \n",
       " NA's   :234      NA's   :149      NA's   :160      NA's   :160     \n",
       "  FIN13295A53      FIN13295A54      FIN13295A55      FIN13295A56    \n",
       " Min.   :0.0000   Min.   :0.0000   Min.   :0.0000   Min.   :0.0000  \n",
       " 1st Qu.:0.2238   1st Qu.:0.1739   1st Qu.:0.2278   1st Qu.:0.2335  \n",
       " Median :0.6347   Median :0.5212   Median :0.6363   Median :0.5753  \n",
       " Mean   :0.5262   Mean   :0.4811   Mean   :0.5292   Mean   :0.5064  \n",
       " 3rd Qu.:0.7977   3rd Qu.:0.7685   3rd Qu.:0.8023   3rd Qu.:0.7732  \n",
       " Max.   :0.9954   Max.   :0.9958   Max.   :0.9966   Max.   :0.9959  \n",
       " NA's   :150      NA's   :300      NA's   :276      NA's   :290     \n",
       "  FIN13295A57      FIN13295A58      FIN13295A59      FIN13295A60    \n",
       " Min.   :0.0000   Min.   :0.0000   Min.   :0.0000   Min.   :0.0000  \n",
       " 1st Qu.:0.1598   1st Qu.:0.2641   1st Qu.:0.1644   1st Qu.:0.2347  \n",
       " Median :0.4792   Median :0.6283   Median :0.5785   Median :0.5927  \n",
       " Mean   :0.4556   Mean   :0.5325   Mean   :0.4996   Mean   :0.5170  \n",
       " 3rd Qu.:0.7338   3rd Qu.:0.7931   3rd Qu.:0.7915   3rd Qu.:0.7944  \n",
       " Max.   :0.9958   Max.   :0.9948   Max.   :0.9960   Max.   :0.9963  \n",
       " NA's   :582      NA's   :451      NA's   :346      NA's   :534     \n",
       "  FIN13295A61      FIN13295A62      FIN13295A63      FIN13295A64      \n",
       " Min.   :0.0000   Min.   :0.0000   Min.   :0.0000   Min.   :0.000431  \n",
       " 1st Qu.:0.1829   1st Qu.:0.2268   1st Qu.:0.1001   1st Qu.:0.267614  \n",
       " Median :0.5511   Median :0.5535   Median :0.4827   Median :0.605016  \n",
       " Mean   :0.4911   Mean   :0.4989   Mean   :0.4629   Mean   :0.530054  \n",
       " 3rd Qu.:0.7768   3rd Qu.:0.7700   3rd Qu.:0.7881   3rd Qu.:0.794667  \n",
       " Max.   :0.9960   Max.   :0.9956   Max.   :0.9953   Max.   :0.994275  \n",
       " NA's   :140      NA's   :98       NA's   :32       NA's   :16        \n",
       "  FIN13295A25      FIN13295A26       FIN13295A27        FIN13295A28     \n",
       " Min.   :0.0001   Min.   :0.00029   Min.   :0.000082   Min.   :0.00017  \n",
       " 1st Qu.:0.2079   1st Qu.:0.19924   1st Qu.:0.191362   1st Qu.:0.23297  \n",
       " Median :0.5654   Median :0.57046   Median :0.534438   Median :0.63880  \n",
       " Mean   :0.5037   Mean   :0.50624   Mean   :0.490323   Mean   :0.53374  \n",
       " 3rd Qu.:0.7906   3rd Qu.:0.79655   3rd Qu.:0.777712   3rd Qu.:0.81030  \n",
       " Max.   :0.9948   Max.   :0.99486   Max.   :0.994215   Max.   :0.99340  \n",
       " NA's   :43       NA's   :34        NA's   :20         NA's   :43       \n",
       "  FIN13295A29       FIN13295A30      FIN13295A31      FIN13295A32      \n",
       " Min.   :0.00006   Min.   :0.0000   Min.   :0.0000   Min.   :0.000071  \n",
       " 1st Qu.:0.26177   1st Qu.:0.2312   1st Qu.:0.2037   1st Qu.:0.146193  \n",
       " Median :0.65517   Median :0.6506   Median :0.6694   Median :0.562431  \n",
       " Mean   :0.54369   Mean   :0.5372   Mean   :0.5393   Mean   :0.491869  \n",
       " 3rd Qu.:0.81007   3rd Qu.:0.8084   3rd Qu.:0.8143   3rd Qu.:0.793552  \n",
       " Max.   :0.99263   Max.   :0.9941   Max.   :0.9939   Max.   :0.992551  \n",
       " NA's   :37        NA's   :30       NA's   :30       NA's   :31        \n",
       "   FIN13295A1        FIN13295A2        FIN13295A3        FIN13295A4    \n",
       " Min.   :0.00008   Min.   :0.00007   Min.   :0.00021   Min.   :0.0000  \n",
       " 1st Qu.:0.19580   1st Qu.:0.27510   1st Qu.:0.27592   1st Qu.:0.2997  \n",
       " Median :0.51804   Median :0.60461   Median :0.64866   Median :0.6656  \n",
       " Mean   :0.48078   Mean   :0.52724   Mean   :0.54487   Mean   :0.5563  \n",
       " 3rd Qu.:0.75754   3rd Qu.:0.78899   3rd Qu.:0.80472   3rd Qu.:0.8124  \n",
       " Max.   :0.99340   Max.   :0.99525   Max.   :0.99497   Max.   :0.9950  \n",
       " NA's   :63        NA's   :65        NA's   :41        NA's   :49      \n",
       "   FIN13295A5       FIN13295A6       FIN13295A7       FIN13295A8     \n",
       " Min.   :0.0000   Min.   :0.0000   Min.   :0.0000   Min.   :0.00006  \n",
       " 1st Qu.:0.2791   1st Qu.:0.2840   1st Qu.:0.2753   1st Qu.:0.27995  \n",
       " Median :0.6502   Median :0.6617   Median :0.6441   Median :0.67875  \n",
       " Mean   :0.5455   Mean   :0.5519   Mean   :0.5440   Mean   :0.55895  \n",
       " 3rd Qu.:0.8060   3rd Qu.:0.8129   3rd Qu.:0.8072   3rd Qu.:0.82258  \n",
       " Max.   :0.9949   Max.   :0.9951   Max.   :0.9937   Max.   :0.99500  \n",
       " NA's   :73       NA's   :63       NA's   :65       NA's   :50       \n",
       "  FIN13295A81      FIN13295A82      FIN13295A83      FIN13295A84    \n",
       " Min.   :0.0000   Min.   :0.0000   Min.   :0.0000   Min.   :0.0000  \n",
       " 1st Qu.:0.2746   1st Qu.:0.3257   1st Qu.:0.1274   1st Qu.:0.2738  \n",
       " Median :0.7001   Median :0.7517   Median :0.5827   Median :0.7391  \n",
       " Mean   :0.5655   Mean   :0.5917   Mean   :0.5055   Mean   :0.5807  \n",
       " 3rd Qu.:0.8274   3rd Qu.:0.8346   3rd Qu.:0.8238   3rd Qu.:0.8468  \n",
       " Max.   :0.9967   Max.   :0.9958   Max.   :0.9957   Max.   :0.9970  \n",
       " NA's   :488      NA's   :385      NA's   :158      NA's   :223     \n",
       "  FIN13295A85      FIN13295A86      FIN13295A87      FIN13295A88    \n",
       " Min.   :0.0000   Min.   :0.0000   Min.   :0.0000   Min.   :0.0000  \n",
       " 1st Qu.:0.2279   1st Qu.:0.1406   1st Qu.:0.1284   1st Qu.:0.1626  \n",
       " Median :0.7047   Median :0.5686   Median :0.5281   Median :0.5734  \n",
       " Mean   :0.5599   Mean   :0.4995   Mean   :0.4825   Mean   :0.5006  \n",
       " 3rd Qu.:0.8316   3rd Qu.:0.8075   3rd Qu.:0.7955   3rd Qu.:0.7954  \n",
       " Max.   :0.9959   Max.   :0.9962   Max.   :0.9968   Max.   :0.9964  \n",
       " NA's   :226      NA's   :98       NA's   :170      NA's   :272     \n",
       "  FIN13295A17      FIN13295A18      FIN13295A19      FIN13295A20    \n",
       " Min.   :0.0001   Min.   :0.0000   Min.   :0.0000   Min.   :0.0000  \n",
       " 1st Qu.:0.2123   1st Qu.:0.2425   1st Qu.:0.1809   1st Qu.:0.2421  \n",
       " Median :0.6378   Median :0.6420   Median :0.5926   Median :0.5876  \n",
       " Mean   :0.5286   Mean   :0.5339   Mean   :0.5140   Mean   :0.5177  \n",
       " 3rd Qu.:0.7989   3rd Qu.:0.7998   3rd Qu.:0.8153   3rd Qu.:0.7858  \n",
       " Max.   :0.9935   Max.   :0.9944   Max.   :0.9966   Max.   :0.9941  \n",
       " NA's   :114      NA's   :85       NA's   :63       NA's   :41      \n",
       "  FIN13295A21        FIN13295A22      FIN13295A23      FIN13295A24    \n",
       " Min.   :0.000052   Min.   :0.0000   Min.   :0.0000   Min.   :0.0000  \n",
       " 1st Qu.:0.280601   1st Qu.:0.1781   1st Qu.:0.2052   1st Qu.:0.1679  \n",
       " Median :0.641609   Median :0.5500   Median :0.5654   Median :0.6657  \n",
       " Mean   :0.542304   Mean   :0.4952   Mean   :0.5020   Mean   :0.5347  \n",
       " 3rd Qu.:0.800141   3rd Qu.:0.7884   3rd Qu.:0.7804   3rd Qu.:0.8253  \n",
       " Max.   :0.993606   Max.   :0.9948   Max.   :0.9939   Max.   :0.9961  \n",
       " NA's   :31         NA's   :52       NA's   :69       NA's   :107     \n",
       "  FIN13295A73      FIN13295A74      FIN13295A75      FIN13295A76    \n",
       " Min.   :0.0000   Min.   :0.0000   Min.   :0.0000   Min.   :0.0000  \n",
       " 1st Qu.:0.1504   1st Qu.:0.1826   1st Qu.:0.1196   1st Qu.:0.2326  \n",
       " Median :0.6430   Median :0.6328   Median :0.5627   Median :0.6851  \n",
       " Mean   :0.5272   Mean   :0.5261   Mean   :0.4922   Mean   :0.5515  \n",
       " 3rd Qu.:0.8291   3rd Qu.:0.8188   3rd Qu.:0.8064   3rd Qu.:0.8219  \n",
       " Max.   :0.9964   Max.   :0.9965   Max.   :0.9960   Max.   :0.9964  \n",
       " NA's   :785      NA's   :684      NA's   :323      NA's   :377     \n",
       "  FIN13295A77      FIN13295A78      FIN13295A79      FIN13295A80    \n",
       " Min.   :0.0000   Min.   :0.0000   Min.   :0.0000   Min.   :0.0000  \n",
       " 1st Qu.:0.2484   1st Qu.:0.2275   1st Qu.:0.2293   1st Qu.:0.1705  \n",
       " Median :0.6795   Median :0.6552   Median :0.6415   Median :0.5692  \n",
       " Mean   :0.5527   Mean   :0.5423   Mean   :0.5368   Mean   :0.5015  \n",
       " 3rd Qu.:0.8220   3rd Qu.:0.8210   3rd Qu.:0.8154   3rd Qu.:0.7934  \n",
       " Max.   :0.9964   Max.   :0.9971   Max.   :0.9966   Max.   :0.9974  \n",
       " NA's   :298      NA's   :359      NA's   :338      NA's   :326     \n",
       "  FIN13295A41      FIN13295A42      FIN13295A43       FIN13295A44    \n",
       " Min.   :0.0000   Min.   :0.0000   Min.   :0.00012   Min.   :0.0000  \n",
       " 1st Qu.:0.2588   1st Qu.:0.1555   1st Qu.:0.25322   1st Qu.:0.1729  \n",
       " Median :0.5755   Median :0.6015   Median :0.63363   Median :0.6658  \n",
       " Mean   :0.5091   Mean   :0.5062   Mean   :0.53601   Mean   :0.5333  \n",
       " 3rd Qu.:0.7662   3rd Qu.:0.8008   3rd Qu.:0.81366   3rd Qu.:0.8246  \n",
       " Max.   :0.9954   Max.   :0.9950   Max.   :0.99533   Max.   :0.9946  \n",
       " NA's   :39       NA's   :41       NA's   :36        NA's   :28      \n",
       "  FIN13295A45      FIN13295A46      FIN13295A47       FIN13295A48    \n",
       " Min.   :0.0001   Min.   :0.0000   Min.   :0.00008   Min.   :0.0000  \n",
       " 1st Qu.:0.1774   1st Qu.:0.2678   1st Qu.:0.13880   1st Qu.:0.1479  \n",
       " Median :0.4901   Median :0.6388   Median :0.54343   Median :0.6368  \n",
       " Mean   :0.4626   Mean   :0.5382   Mean   :0.48392   Mean   :0.5182  \n",
       " 3rd Qu.:0.7358   3rd Qu.:0.7990   3rd Qu.:0.78538   3rd Qu.:0.8123  \n",
       " Max.   :0.9948   Max.   :0.9961   Max.   :0.99544   Max.   :0.9960  \n",
       " NA's   :39       NA's   :111      NA's   :56        NA's   :80      \n",
       "   FIN13295A9      FIN13295A10      FIN13295A11       FIN13295A12    \n",
       " Min.   :0.0000   Min.   :0.0000   Min.   :0.00012   Min.   :0.0000  \n",
       " 1st Qu.:0.2360   1st Qu.:0.1107   1st Qu.:0.27146   1st Qu.:0.2959  \n",
       " Median :0.6273   Median :0.4703   Median :0.61257   Median :0.6423  \n",
       " Mean   :0.5273   Mean   :0.4537   Mean   :0.52750   Mean   :0.5446  \n",
       " 3rd Qu.:0.7942   3rd Qu.:0.7669   3rd Qu.:0.78355   3rd Qu.:0.7994  \n",
       " Max.   :0.9932   Max.   :0.9941   Max.   :0.99486   Max.   :0.9951  \n",
       " NA's   :122      NA's   :137      NA's   :48        NA's   :32      \n",
       "  FIN13295A13      FIN13295A14       FIN13295A15        FIN13295A16      \n",
       " Min.   :0.0000   Min.   :0.00026   Min.   :0.000793   Min.   :0.001113  \n",
       " 1st Qu.:0.1732   1st Qu.:0.20463   1st Qu.:0.294450   1st Qu.:0.272521  \n",
       " Median :0.6832   Median :0.58128   Median :0.610098   Median :0.630491  \n",
       " Mean   :0.5431   Mean   :0.50650   Mean   :0.534326   Mean   :0.535432  \n",
       " 3rd Qu.:0.8306   3rd Qu.:0.78246   3rd Qu.:0.788771   3rd Qu.:0.788284  \n",
       " Max.   :0.9941   Max.   :0.99455   Max.   :0.993248   Max.   :0.994560  \n",
       " NA's   :26       NA's   :35        NA's   :21         NA's   :23        \n",
       "  FIN13295A33      FIN13295A34      FIN13295A35      FIN13295A36    \n",
       " Min.   :0.0000   Min.   :0.0000   Min.   :0.0000   Min.   :0.0000  \n",
       " 1st Qu.:0.2365   1st Qu.:0.2075   1st Qu.:0.1450   1st Qu.:0.2343  \n",
       " Median :0.6576   Median :0.4760   Median :0.4685   Median :0.5621  \n",
       " Mean   :0.5384   Mean   :0.4605   Mean   :0.4533   Mean   :0.5048  \n",
       " 3rd Qu.:0.8031   3rd Qu.:0.7207   3rd Qu.:0.7435   3rd Qu.:0.7777  \n",
       " Max.   :0.9951   Max.   :0.9948   Max.   :0.9951   Max.   :0.9957  \n",
       " NA's   :133      NA's   :301      NA's   :95       NA's   :184     \n",
       "  FIN13295A37      FIN13295A38      FIN13295A39      FIN13295A40    \n",
       " Min.   :0.0000   Min.   :0.0000   Min.   :0.0000   Min.   :0.0000  \n",
       " 1st Qu.:0.1695   1st Qu.:0.1617   1st Qu.:0.2547   1st Qu.:0.1337  \n",
       " Median :0.4629   Median :0.5573   Median :0.6387   Median :0.6416  \n",
       " Mean   :0.4495   Mean   :0.4964   Mean   :0.5373   Mean   :0.5206  \n",
       " 3rd Qu.:0.7167   3rd Qu.:0.7943   3rd Qu.:0.8027   3rd Qu.:0.8186  \n",
       " Max.   :0.9954   Max.   :0.9955   Max.   :0.9965   Max.   :0.9963  \n",
       " NA's   :642      NA's   :111      NA's   :443      NA's   :105     \n",
       "  FIN13295A65      FIN13295A66       FIN13295A67      FIN13295A68    \n",
       " Min.   :0.0000   Min.   :0.00015   Min.   :0.0000   Min.   :0.0000  \n",
       " 1st Qu.:0.2037   1st Qu.:0.25363   1st Qu.:0.2774   1st Qu.:0.1480  \n",
       " Median :0.5660   Median :0.62044   Median :0.6290   Median :0.5749  \n",
       " Mean   :0.5031   Mean   :0.52506   Mean   :0.5357   Mean   :0.5056  \n",
       " 3rd Qu.:0.7873   3rd Qu.:0.78162   3rd Qu.:0.7940   3rd Qu.:0.8140  \n",
       " Max.   :0.9955   Max.   :0.99533   Max.   :0.9959   Max.   :0.9961  \n",
       " NA's   :297      NA's   :180       NA's   :226      NA's   :73      \n",
       "  FIN13295A69      FIN13295A70       FIN13295A71       FIN13295A72    \n",
       " Min.   :0.0000   Min.   :0.00008   Min.   :0.00028   Min.   :0.0000  \n",
       " 1st Qu.:0.1569   1st Qu.:0.17303   1st Qu.:0.15231   1st Qu.:0.1852  \n",
       " Median :0.5788   Median :0.64229   Median :0.53491   Median :0.5926  \n",
       " Mean   :0.5015   Mean   :0.52799   Mean   :0.48607   Mean   :0.5144  \n",
       " 3rd Qu.:0.7920   3rd Qu.:0.81546   3rd Qu.:0.78098   3rd Qu.:0.8018  \n",
       " Max.   :0.9959   Max.   :0.99613   Max.   :0.99507   Max.   :0.9959  \n",
       " NA's   :145      NA's   :106       NA's   :53        NA's   :173     "
      ]
     },
     "metadata": {},
     "output_type": "display_data"
    }
   ],
   "source": [
    "dim(meth(rnb.set))\n",
    "summary(meth(rnb.set))\n"
   ]
  },
  {
   "cell_type": "code",
   "execution_count": 8,
   "metadata": {
    "vscode": {
     "languageId": "r"
    }
   },
   "outputs": [
    {
     "data": {
      "text/html": [
       "<style>\n",
       ".list-inline {list-style: none; margin:0; padding: 0}\n",
       ".list-inline>li {display: inline-block}\n",
       ".list-inline>li:not(:last-child)::after {content: \"\\00b7\"; padding: 0 .5ex}\n",
       "</style>\n",
       "<ol class=list-inline><li>45816</li><li>96</li></ol>\n"
      ],
      "text/latex": [
       "\\begin{enumerate*}\n",
       "\\item 45816\n",
       "\\item 96\n",
       "\\end{enumerate*}\n"
      ],
      "text/markdown": [
       "1. 45816\n",
       "2. 96\n",
       "\n",
       "\n"
      ],
      "text/plain": [
       "[1] 45816    96"
      ]
     },
     "metadata": {},
     "output_type": "display_data"
    },
    {
     "data": {
      "text/plain": [
       "  FIN13295A89        FIN13295A90        FIN13295A91        FIN13295A92      \n",
       " Min.   :0.002838   Min.   :0.001391   Min.   :0.002023   Min.   :0.009471  \n",
       " 1st Qu.:0.172256   1st Qu.:0.138024   1st Qu.:0.181952   1st Qu.:0.161906  \n",
       " Median :0.444115   Median :0.393003   Median :0.516620   Median :0.458443  \n",
       " Mean   :0.447071   Mean   :0.414036   Mean   :0.471074   Mean   :0.445828  \n",
       " 3rd Qu.:0.719433   3rd Qu.:0.676417   3rd Qu.:0.736680   3rd Qu.:0.714465  \n",
       " Max.   :0.989257   Max.   :0.984970   Max.   :0.993661   Max.   :0.988821  \n",
       " NA's   :2                             NA's   :1                            \n",
       "  FIN13295A93        FIN13295A94        FIN13295A95        FIN13295A96      \n",
       " Min.   :0.001729   Min.   :0.004423   Min.   :0.001772   Min.   :0.006402  \n",
       " 1st Qu.:0.165835   1st Qu.:0.177791   1st Qu.:0.163867   1st Qu.:0.183806  \n",
       " Median :0.477143   Median :0.408888   Median :0.469012   Median :0.459033  \n",
       " Mean   :0.455463   Mean   :0.430528   Mean   :0.463207   Mean   :0.448404  \n",
       " 3rd Qu.:0.727848   3rd Qu.:0.680173   3rd Qu.:0.758331   3rd Qu.:0.702252  \n",
       " Max.   :0.984918   Max.   :0.986013   Max.   :0.990720   Max.   :0.991599  \n",
       "                    NA's   :3          NA's   :1          NA's   :2         \n",
       "  FIN13295A49        FIN13295A50        FIN13295A51        FIN13295A52      \n",
       " Min.   :0.003402   Min.   :0.002152   Min.   :0.004972   Min.   :0.007373  \n",
       " 1st Qu.:0.150367   1st Qu.:0.147772   1st Qu.:0.131201   1st Qu.:0.123839  \n",
       " Median :0.434787   Median :0.491576   Median :0.397925   Median :0.367943  \n",
       " Mean   :0.428201   Mean   :0.444126   Mean   :0.398552   Mean   :0.384043  \n",
       " 3rd Qu.:0.686218   3rd Qu.:0.711546   3rd Qu.:0.638422   3rd Qu.:0.617258  \n",
       " Max.   :0.984385   Max.   :0.982439   Max.   :0.982783   Max.   :0.984905  \n",
       " NA's   :1          NA's   :1                             NA's   :2         \n",
       "  FIN13295A53       FIN13295A54        FIN13295A55        FIN13295A56      \n",
       " Min.   :0.00617   Min.   :0.001763   Min.   :0.001736   Min.   :0.004703  \n",
       " 1st Qu.:0.15653   1st Qu.:0.142424   1st Qu.:0.155365   1st Qu.:0.148028  \n",
       " Median :0.47070   Median :0.380871   Median :0.474142   Median :0.439568  \n",
       " Mean   :0.44706   Mean   :0.401867   Mean   :0.448360   Mean   :0.427170  \n",
       " 3rd Qu.:0.71988   3rd Qu.:0.646523   3rd Qu.:0.721398   3rd Qu.:0.685837  \n",
       " Max.   :0.98674   Max.   :0.988857   Max.   :0.985476   Max.   :0.991559  \n",
       " NA's   :1         NA's   :2          NA's   :1                            \n",
       "  FIN13295A57        FIN13295A58       FIN13295A59        FIN13295A60      \n",
       " Min.   :0.006177   Min.   :0.00269   Min.   :0.001631   Min.   :0.004046  \n",
       " 1st Qu.:0.128065   1st Qu.:0.14908   1st Qu.:0.134794   1st Qu.:0.150438  \n",
       " Median :0.376599   Median :0.49812   Median :0.418162   Median :0.447363  \n",
       " Mean   :0.383857   Mean   :0.45177   Mean   :0.419130   Mean   :0.432387  \n",
       " 3rd Qu.:0.608502   3rd Qu.:0.72413   3rd Qu.:0.685240   3rd Qu.:0.692348  \n",
       " Max.   :0.987182   Max.   :0.98197   Max.   :0.983741   Max.   :0.987659  \n",
       " NA's   :4          NA's   :2         NA's   :1          NA's   :4         \n",
       "  FIN13295A61       FIN13295A62        FIN13295A63      FIN13295A64      \n",
       " Min.   :0.00232   Min.   :0.002687   Min.   :0.0077   Min.   :0.009865  \n",
       " 1st Qu.:0.13401   1st Qu.:0.152678   1st Qu.:0.1178   1st Qu.:0.167279  \n",
       " Median :0.40030   Median :0.433078   Median :0.3235   Median :0.475739  \n",
       " Mean   :0.40875   Mean   :0.420484   Mean   :0.3783   Mean   :0.446060  \n",
       " 3rd Qu.:0.66508   3rd Qu.:0.661004   3rd Qu.:0.6249   3rd Qu.:0.694106  \n",
       " Max.   :0.98603   Max.   :0.985741   Max.   :0.9853   Max.   :0.978225  \n",
       "                                                                         \n",
       "  FIN13295A25        FIN13295A26       FIN13295A27        FIN13295A28      \n",
       " Min.   :0.005488   Min.   :0.01043   Min.   :0.005351   Min.   :0.009331  \n",
       " 1st Qu.:0.154631   1st Qu.:0.16012   1st Qu.:0.154214   1st Qu.:0.160890  \n",
       " Median :0.404224   Median :0.40848   Median :0.385431   Median :0.481325  \n",
       " Mean   :0.420437   Mean   :0.42309   Mean   :0.408259   Mean   :0.454920  \n",
       " 3rd Qu.:0.675527   3rd Qu.:0.67794   3rd Qu.:0.650575   3rd Qu.:0.731290  \n",
       " Max.   :0.982474   Max.   :0.98894   Max.   :0.984415   Max.   :0.981338  \n",
       "                    NA's   :1                                              \n",
       "  FIN13295A29        FIN13295A30        FIN13295A31        FIN13295A32    \n",
       " Min.   :0.004398   Min.   :0.005229   Min.   :0.006555   Min.   :0.0073  \n",
       " 1st Qu.:0.167496   1st Qu.:0.166195   1st Qu.:0.148553   1st Qu.:0.1350  \n",
       " Median :0.497451   Median :0.482480   Median :0.489017   Median :0.4195  \n",
       " Mean   :0.463393   Mean   :0.455689   Mean   :0.456182   Mean   :0.4230  \n",
       " 3rd Qu.:0.740042   3rd Qu.:0.726055   3rd Qu.:0.742530   3rd Qu.:0.6947  \n",
       " Max.   :0.982012   Max.   :0.983667   Max.   :0.977464   Max.   :0.9851  \n",
       "                                                                          \n",
       "   FIN13295A1         FIN13295A2         FIN13295A3        FIN13295A4      \n",
       " Min.   :0.003286   Min.   :0.008833   Min.   :0.00924   Min.   :0.005882  \n",
       " 1st Qu.:0.146564   1st Qu.:0.166906   1st Qu.:0.16614   1st Qu.:0.164123  \n",
       " Median :0.396336   Median :0.470307   Median :0.50882   Median :0.531911  \n",
       " Mean   :0.401925   Mean   :0.442811   Mean   :0.46210   Mean   :0.471605  \n",
       " 3rd Qu.:0.633550   3rd Qu.:0.693584   3rd Qu.:0.73198   3rd Qu.:0.748042  \n",
       " Max.   :0.979791   Max.   :0.980485   Max.   :0.98259   Max.   :0.978920  \n",
       " NA's   :1                                                                 \n",
       "   FIN13295A5         FIN13295A6         FIN13295A7         FIN13295A8      \n",
       " Min.   :0.004494   Min.   :0.005658   Min.   :0.005959   Min.   :0.008617  \n",
       " 1st Qu.:0.163299   1st Qu.:0.162905   1st Qu.:0.164603   1st Qu.:0.168612  \n",
       " Median :0.508045   Median :0.518116   Median :0.500582   Median :0.524372  \n",
       " Mean   :0.463014   Mean   :0.467476   Mean   :0.459163   Mean   :0.473399  \n",
       " 3rd Qu.:0.738156   3rd Qu.:0.744977   3rd Qu.:0.727481   3rd Qu.:0.753065  \n",
       " Max.   :0.983338   Max.   :0.985017   Max.   :0.982969   Max.   :0.980194  \n",
       "                                                                            \n",
       "  FIN13295A81        FIN13295A82        FIN13295A83        FIN13295A84      \n",
       " Min.   :0.003645   Min.   :0.000252   Min.   :0.006793   Min.   :0.006793  \n",
       " 1st Qu.:0.194651   1st Qu.:0.188963   1st Qu.:0.161554   1st Qu.:0.194408  \n",
       " Median :0.517661   Median :0.570108   Median :0.376669   Median :0.518017  \n",
       " Mean   :0.476789   Mean   :0.494999   Mean   :0.417589   Mean   :0.484706  \n",
       " 3rd Qu.:0.742363   3rd Qu.:0.774703   3rd Qu.:0.675417   3rd Qu.:0.766688  \n",
       " Max.   :0.989924   Max.   :0.994018   Max.   :0.990641   Max.   :0.989845  \n",
       "                    NA's   :4                                               \n",
       "  FIN13295A85        FIN13295A86       FIN13295A87        FIN13295A88      \n",
       " Min.   :0.000928   Min.   :0.00339   Min.   :0.002397   Min.   :0.004412  \n",
       " 1st Qu.:0.165389   1st Qu.:0.15234   1st Qu.:0.141307   1st Qu.:0.148724  \n",
       " Median :0.485062   Median :0.39657   Median :0.363826   Median :0.412850  \n",
       " Mean   :0.462958   Mean   :0.41916   Mean   :0.400826   Mean   :0.418289  \n",
       " 3rd Qu.:0.747955   3rd Qu.:0.67851   3rd Qu.:0.651687   3rd Qu.:0.669802  \n",
       " Max.   :0.989134   Max.   :0.99301   Max.   :0.990674   Max.   :0.990074  \n",
       "                                      NA's   :2                            \n",
       "  FIN13295A17        FIN13295A18        FIN13295A19        FIN13295A20      \n",
       " Min.   :0.001732   Min.   :0.003322   Min.   :0.007527   Min.   :0.006095  \n",
       " 1st Qu.:0.162306   1st Qu.:0.159620   1st Qu.:0.153591   1st Qu.:0.167479  \n",
       " Median :0.475741   Median :0.489256   Median :0.424015   Median :0.459116  \n",
       " Mean   :0.447967   Mean   :0.453566   Mean   :0.430636   Mean   :0.436929  \n",
       " 3rd Qu.:0.714350   3rd Qu.:0.726595   3rd Qu.:0.693218   3rd Qu.:0.680542  \n",
       " Max.   :0.981532   Max.   :0.983748   Max.   :0.987489   Max.   :0.981812  \n",
       "                                                                            \n",
       "  FIN13295A21        FIN13295A22        FIN13295A23        FIN13295A24      \n",
       " Min.   :0.002267   Min.   :0.005692   Min.   :0.006549   Min.   :0.003868  \n",
       " 1st Qu.:0.159984   1st Qu.:0.149752   1st Qu.:0.152955   1st Qu.:0.145303  \n",
       " Median :0.511611   Median :0.420919   Median :0.433628   Median :0.482845  \n",
       " Mean   :0.460507   Mean   :0.421690   Mean   :0.423806   Mean   :0.455512  \n",
       " 3rd Qu.:0.730873   3rd Qu.:0.670718   3rd Qu.:0.670213   3rd Qu.:0.747470  \n",
       " Max.   :0.977864   Max.   :0.984247   Max.   :0.985444   Max.   :0.985926  \n",
       "                                                                            \n",
       "  FIN13295A73        FIN13295A74        FIN13295A75        FIN13295A76       \n",
       " Min.   :0.002292   Min.   :0.001715   Min.   :0.002053   Min.   :0.0005378  \n",
       " 1st Qu.:0.156019   1st Qu.:0.169966   1st Qu.:0.133555   1st Qu.:0.1758193  \n",
       " Median :0.429123   Median :0.430331   Median :0.351776   Median :0.4825555  \n",
       " Mean   :0.437804   Mean   :0.440929   Mean   :0.401638   Mean   :0.4596944  \n",
       " 3rd Qu.:0.716029   3rd Qu.:0.712652   3rd Qu.:0.671331   3rd Qu.:0.7314714  \n",
       " Max.   :0.990459   Max.   :0.992024   Max.   :0.988900   Max.   :0.9909100  \n",
       " NA's   :2                             NA's   :1                             \n",
       "  FIN13295A77        FIN13295A78        FIN13295A79      FIN13295A80     \n",
       " Min.   :0.002413   Min.   :0.001291   Min.   :0.0000   Min.   :0.00078  \n",
       " 1st Qu.:0.183846   1st Qu.:0.183690   1st Qu.:0.1848   1st Qu.:0.15955  \n",
       " Median :0.477393   Median :0.471007   Median :0.4486   Median :0.38532  \n",
       " Mean   :0.460185   Mean   :0.455488   Mean   :0.4462   Mean   :0.40962  \n",
       " 3rd Qu.:0.727814   3rd Qu.:0.715531   3rd Qu.:0.7001   3rd Qu.:0.64910  \n",
       " Max.   :0.992135   Max.   :0.991483   Max.   :0.9876   Max.   :0.98567  \n",
       "                    NA's   :3          NA's   :2                         \n",
       "  FIN13295A41        FIN13295A42        FIN13295A43        FIN13295A44     \n",
       " Min.   :0.008896   Min.   :0.007778   Min.   :0.007351   Min.   :0.00122  \n",
       " 1st Qu.:0.150786   1st Qu.:0.147438   1st Qu.:0.158630   1st Qu.:0.14959  \n",
       " Median :0.475195   Median :0.431300   Median :0.476684   Median :0.47368  \n",
       " Mean   :0.440323   Mean   :0.431882   Mean   :0.455605   Mean   :0.45370  \n",
       " 3rd Qu.:0.697872   3rd Qu.:0.705598   3rd Qu.:0.736661   3rd Qu.:0.74311  \n",
       " Max.   :0.983058   Max.   :0.988225   Max.   :0.986313   Max.   :0.99075  \n",
       "                                                                           \n",
       "  FIN13295A45        FIN13295A46        FIN13295A47        FIN13295A48      \n",
       " Min.   :0.006095   Min.   :0.005255   Min.   :0.004058   Min.   :0.006386  \n",
       " 1st Qu.:0.134594   1st Qu.:0.151731   1st Qu.:0.134709   1st Qu.:0.139190  \n",
       " Median :0.395855   Median :0.505804   Median :0.388656   Median :0.453516  \n",
       " Mean   :0.396672   Mean   :0.457009   Mean   :0.405628   Mean   :0.442117  \n",
       " 3rd Qu.:0.628852   3rd Qu.:0.732415   3rd Qu.:0.658990   3rd Qu.:0.729295  \n",
       " Max.   :0.986880   Max.   :0.984535   Max.   :0.988460   Max.   :0.981913  \n",
       "                    NA's   :1                                               \n",
       "   FIN13295A9        FIN13295A10        FIN13295A11        FIN13295A12      \n",
       " Min.   :0.003603   Min.   :0.003977   Min.   :0.007773   Min.   :0.006097  \n",
       " 1st Qu.:0.157037   1st Qu.:0.120994   1st Qu.:0.165604   1st Qu.:0.166383  \n",
       " Median :0.476896   Median :0.366044   Median :0.481192   Median :0.513139  \n",
       " Mean   :0.446248   Mean   :0.389294   Mean   :0.447683   Mean   :0.463512  \n",
       " 3rd Qu.:0.710986   3rd Qu.:0.628418   3rd Qu.:0.703722   3rd Qu.:0.732256  \n",
       " Max.   :0.979368   Max.   :0.978752   Max.   :0.979588   Max.   :0.977565  \n",
       " NA's   :1          NA's   :1                                               \n",
       "  FIN13295A13        FIN13295A14        FIN13295A15       FIN13295A16     \n",
       " Min.   :0.008309   Min.   :0.007709   Min.   :0.01217   Min.   :0.01069  \n",
       " 1st Qu.:0.152097   1st Qu.:0.155195   1st Qu.:0.19070   1st Qu.:0.17710  \n",
       " Median :0.488458   Median :0.445713   Median :0.48651   Median :0.49503  \n",
       " Mean   :0.462089   Mean   :0.433020   Mean   :0.45474   Mean   :0.45567  \n",
       " 3rd Qu.:0.755409   3rd Qu.:0.689119   3rd Qu.:0.69298   3rd Qu.:0.70937  \n",
       " Max.   :0.985135   Max.   :0.979943   Max.   :0.98675   Max.   :0.98094  \n",
       "                                                                          \n",
       "  FIN13295A33        FIN13295A34        FIN13295A35        FIN13295A36      \n",
       " Min.   :0.006392   Min.   :0.004925   Min.   :0.004021   Min.   :0.005629  \n",
       " 1st Qu.:0.164175   1st Qu.:0.142799   1st Qu.:0.144550   1st Qu.:0.165111  \n",
       " Median :0.494341   Median :0.385449   Median :0.350145   Median :0.446955  \n",
       " Mean   :0.454781   Mean   :0.390236   Mean   :0.380288   Mean   :0.432699  \n",
       " 3rd Qu.:0.723761   3rd Qu.:0.606240   3rd Qu.:0.593800   3rd Qu.:0.678116  \n",
       " Max.   :0.983432   Max.   :0.983111   Max.   :0.986846   Max.   :0.989908  \n",
       " NA's   :2                                                NA's   :3         \n",
       "  FIN13295A37       FIN13295A38        FIN13295A39        FIN13295A40     \n",
       " Min.   :0.00101   Min.   :0.005789   Min.   :0.003323   Min.   :0.00211  \n",
       " 1st Qu.:0.12691   1st Qu.:0.165612   1st Qu.:0.164672   1st Qu.:0.13029  \n",
       " Median :0.36203   Median :0.385882   Median :0.489324   Median :0.46301  \n",
       " Mean   :0.38039   Mean   :0.412007   Mean   :0.455623   Mean   :0.44280  \n",
       " 3rd Qu.:0.60377   3rd Qu.:0.647971   3rd Qu.:0.724981   3rd Qu.:0.73284  \n",
       " Max.   :0.98892   Max.   :0.989215   Max.   :0.987393   Max.   :0.98737  \n",
       " NA's   :4         NA's   :1          NA's   :2          NA's   :1        \n",
       "  FIN13295A65        FIN13295A66       FIN13295A67        FIN13295A68      \n",
       " Min.   :0.006817   Min.   :0.00291   Min.   :0.002677   Min.   :0.009497  \n",
       " 1st Qu.:0.151073   1st Qu.:0.16283   1st Qu.:0.160939   1st Qu.:0.178000  \n",
       " Median :0.417924   Median :0.47568   Median :0.501425   Median :0.392673  \n",
       " Mean   :0.420349   Mean   :0.44366   Mean   :0.457607   Mean   :0.425738  \n",
       " 3rd Qu.:0.672152   3rd Qu.:0.70015   3rd Qu.:0.727044   3rd Qu.:0.677655  \n",
       " Max.   :0.986119   Max.   :0.97932   Max.   :0.977634   Max.   :0.985034  \n",
       " NA's   :2          NA's   :1                                              \n",
       "  FIN13295A69       FIN13295A70        FIN13295A71       FIN13295A72      \n",
       " Min.   :0.00508   Min.   :0.009694   Min.   :0.01009   Min.   :0.002959  \n",
       " 1st Qu.:0.14643   1st Qu.:0.154787   1st Qu.:0.15652   1st Qu.:0.162922  \n",
       " Median :0.41436   Median :0.425982   Median :0.37973   Median :0.446490  \n",
       " Mean   :0.41712   Mean   :0.436422   Mean   :0.40669   Mean   :0.431170  \n",
       " 3rd Qu.:0.66747   3rd Qu.:0.712509   3rd Qu.:0.64391   3rd Qu.:0.673203  \n",
       " Max.   :0.98663   Max.   :0.987617   Max.   :0.98065   Max.   :0.983238  \n",
       "                                                        NA's   :1         "
      ]
     },
     "metadata": {},
     "output_type": "display_data"
    }
   ],
   "source": [
    "dim(meth(rnb.set, type=\"promoters\"))\n",
    "summary(meth(rnb.set, type=\"promoters\"))\n"
   ]
  },
  {
   "cell_type": "code",
   "execution_count": 9,
   "metadata": {
    "vscode": {
     "languageId": "r"
    }
   },
   "outputs": [
    {
     "data": {
      "text/plain": [
       "  FIN13295A89         FIN13295A90         FIN13295A91        FIN13295A92       \n",
       " Min.   :0.0000000   Min.   :0.0000000   Min.   :0.000000   Min.   :0.0000000  \n",
       " 1st Qu.:0.0000000   1st Qu.:0.0000000   1st Qu.:0.000000   1st Qu.:0.0000000  \n",
       " Median :0.0000000   Median :0.0000000   Median :0.000000   Median :0.0000000  \n",
       " Mean   :0.0004141   Mean   :0.0004539   Mean   :0.000536   Mean   :0.0004523  \n",
       " 3rd Qu.:0.0000000   3rd Qu.:0.0000000   3rd Qu.:0.000000   3rd Qu.:0.0000000  \n",
       " Max.   :1.0000000   Max.   :1.0000000   Max.   :1.000000   Max.   :1.0000000  \n",
       "  FIN13295A93         FIN13295A94         FIN13295A95       \n",
       " Min.   :0.0000000   Min.   :0.0000000   Min.   :0.0000000  \n",
       " 1st Qu.:0.0000000   1st Qu.:0.0000000   1st Qu.:0.0000000  \n",
       " Median :0.0000000   Median :0.0000000   Median :0.0000000  \n",
       " Mean   :0.0003625   Mean   :0.0004707   Mean   :0.0002399  \n",
       " 3rd Qu.:0.0000000   3rd Qu.:0.0000000   3rd Qu.:0.0000000  \n",
       " Max.   :1.0000000   Max.   :1.0000000   Max.   :1.0000000  \n",
       "  FIN13295A96         FIN13295A49         FIN13295A50       \n",
       " Min.   :0.0000000   Min.   :0.0000000   Min.   :0.0000000  \n",
       " 1st Qu.:0.0000000   1st Qu.:0.0000000   1st Qu.:0.0000000  \n",
       " Median :0.0000000   Median :0.0000000   Median :0.0000000  \n",
       " Mean   :0.0004939   Mean   :0.0003579   Mean   :0.0002129  \n",
       " 3rd Qu.:0.0000000   3rd Qu.:0.0000000   3rd Qu.:0.0000000  \n",
       " Max.   :1.0000000   Max.   :1.0000000   Max.   :1.0000000  \n",
       "  FIN13295A51         FIN13295A52         FIN13295A53       \n",
       " Min.   :0.0000000   Min.   :0.0000000   Min.   :0.0000000  \n",
       " 1st Qu.:0.0000000   1st Qu.:0.0000000   1st Qu.:0.0000000  \n",
       " Median :0.0000000   Median :0.0000000   Median :0.0000000  \n",
       " Mean   :0.0002447   Mean   :0.0003582   Mean   :0.0003047  \n",
       " 3rd Qu.:0.0000000   3rd Qu.:0.0000000   3rd Qu.:0.0000000  \n",
       " Max.   :1.0000000   Max.   :1.0000000   Max.   :1.0000000  \n",
       "  FIN13295A54         FIN13295A55         FIN13295A56       \n",
       " Min.   :0.0000000   Min.   :0.0000000   Min.   :0.0000000  \n",
       " 1st Qu.:0.0000000   1st Qu.:0.0000000   1st Qu.:0.0000000  \n",
       " Median :0.0000000   Median :0.0000000   Median :0.0000000  \n",
       " Mean   :0.0003566   Mean   :0.0003309   Mean   :0.0002568  \n",
       " 3rd Qu.:0.0000000   3rd Qu.:0.0000000   3rd Qu.:0.0000000  \n",
       " Max.   :1.0000000   Max.   :1.0000000   Max.   :1.0000000  \n",
       "  FIN13295A57         FIN13295A58         FIN13295A59       \n",
       " Min.   :0.0000000   Min.   :0.0000000   Min.   :0.0000000  \n",
       " 1st Qu.:0.0000000   1st Qu.:0.0000000   1st Qu.:0.0000000  \n",
       " Median :0.0000000   Median :0.0000000   Median :0.0000000  \n",
       " Mean   :0.0004067   Mean   :0.0002791   Mean   :0.0002603  \n",
       " 3rd Qu.:0.0000000   3rd Qu.:0.0000000   3rd Qu.:0.0000000  \n",
       " Max.   :1.0000000   Max.   :1.0000000   Max.   :1.0000000  \n",
       "  FIN13295A60         FIN13295A61         FIN13295A62       \n",
       " Min.   :0.0000000   Min.   :0.0000000   Min.   :0.0000000  \n",
       " 1st Qu.:0.0000000   1st Qu.:0.0000000   1st Qu.:0.0000000  \n",
       " Median :0.0000000   Median :0.0000000   Median :0.0000000  \n",
       " Mean   :0.0002472   Mean   :0.0002631   Mean   :0.0002417  \n",
       " 3rd Qu.:0.0000000   3rd Qu.:0.0000000   3rd Qu.:0.0000000  \n",
       " Max.   :1.0000000   Max.   :1.0000000   Max.   :1.0000000  \n",
       "  FIN13295A63         FIN13295A64         FIN13295A25       \n",
       " Min.   :0.0000000   Min.   :0.0000000   Min.   :0.0000000  \n",
       " 1st Qu.:0.0000000   1st Qu.:0.0000000   1st Qu.:0.0000000  \n",
       " Median :0.0000000   Median :0.0000000   Median :0.0000000  \n",
       " Mean   :0.0005087   Mean   :0.0008097   Mean   :0.0003909  \n",
       " 3rd Qu.:0.0000000   3rd Qu.:0.0000000   3rd Qu.:0.0000000  \n",
       " Max.   :1.0000000   Max.   :1.0000000   Max.   :1.0000000  \n",
       "  FIN13295A26         FIN13295A27        FIN13295A28         FIN13295A29       \n",
       " Min.   :0.0000000   Min.   :0.000000   Min.   :0.0000000   Min.   :0.0000000  \n",
       " 1st Qu.:0.0000000   1st Qu.:0.000000   1st Qu.:0.0000000   1st Qu.:0.0000000  \n",
       " Median :0.0000000   Median :0.000000   Median :0.0000000   Median :0.0000000  \n",
       " Mean   :0.0002907   Mean   :0.000365   Mean   :0.0003285   Mean   :0.0002844  \n",
       " 3rd Qu.:0.0000000   3rd Qu.:0.000000   3rd Qu.:0.0000000   3rd Qu.:0.0000000  \n",
       " Max.   :1.0000000   Max.   :1.000000   Max.   :1.0000000   Max.   :1.0000000  \n",
       "  FIN13295A30         FIN13295A31         FIN13295A32       \n",
       " Min.   :0.0000000   Min.   :0.0000000   Min.   :0.0000000  \n",
       " 1st Qu.:0.0000000   1st Qu.:0.0000000   1st Qu.:0.0000000  \n",
       " Median :0.0000000   Median :0.0000000   Median :0.0000000  \n",
       " Mean   :0.0004004   Mean   :0.0001971   Mean   :0.0002327  \n",
       " 3rd Qu.:0.0000000   3rd Qu.:0.0000000   3rd Qu.:0.0000000  \n",
       " Max.   :1.0000000   Max.   :1.0000000   Max.   :1.0000000  \n",
       "   FIN13295A1          FIN13295A2          FIN13295A3       \n",
       " Min.   :0.0000000   Min.   :0.0000000   Min.   :0.0000000  \n",
       " 1st Qu.:0.0000000   1st Qu.:0.0000000   1st Qu.:0.0000000  \n",
       " Median :0.0000000   Median :0.0000000   Median :0.0000000  \n",
       " Mean   :0.0005394   Mean   :0.0004149   Mean   :0.0002927  \n",
       " 3rd Qu.:0.0000000   3rd Qu.:0.0000000   3rd Qu.:0.0000000  \n",
       " Max.   :1.0000000   Max.   :1.0000000   Max.   :1.0000000  \n",
       "   FIN13295A4          FIN13295A5          FIN13295A6       \n",
       " Min.   :0.0000000   Min.   :0.0000000   Min.   :0.0000000  \n",
       " 1st Qu.:0.0000000   1st Qu.:0.0000000   1st Qu.:0.0000000  \n",
       " Median :0.0000000   Median :0.0000000   Median :0.0000000  \n",
       " Mean   :0.0003205   Mean   :0.0002645   Mean   :0.0002537  \n",
       " 3rd Qu.:0.0000000   3rd Qu.:0.0000000   3rd Qu.:0.0000000  \n",
       " Max.   :1.0000000   Max.   :1.0000000   Max.   :1.0000000  \n",
       "   FIN13295A7          FIN13295A8         FIN13295A81       \n",
       " Min.   :0.0000000   Min.   :0.0000000   Min.   :0.0000000  \n",
       " 1st Qu.:0.0000000   1st Qu.:0.0000000   1st Qu.:0.0000000  \n",
       " Median :0.0000000   Median :0.0000000   Median :0.0000000  \n",
       " Mean   :0.0003242   Mean   :0.0002874   Mean   :0.0005566  \n",
       " 3rd Qu.:0.0000000   3rd Qu.:0.0000000   3rd Qu.:0.0000000  \n",
       " Max.   :1.0000000   Max.   :1.0000000   Max.   :1.0000000  \n",
       "  FIN13295A82         FIN13295A83         FIN13295A84       \n",
       " Min.   :0.0000000   Min.   :0.0000000   Min.   :0.0000000  \n",
       " 1st Qu.:0.0000000   1st Qu.:0.0000000   1st Qu.:0.0000000  \n",
       " Median :0.0000000   Median :0.0000000   Median :0.0000000  \n",
       " Mean   :0.0003321   Mean   :0.0003458   Mean   :0.0004144  \n",
       " 3rd Qu.:0.0000000   3rd Qu.:0.0000000   3rd Qu.:0.0000000  \n",
       " Max.   :1.0000000   Max.   :1.0000000   Max.   :1.0000000  \n",
       "  FIN13295A85         FIN13295A86         FIN13295A87         FIN13295A88     \n",
       " Min.   :0.0000000   Min.   :0.0000000   Min.   :0.0000000   Min.   :0.00000  \n",
       " 1st Qu.:0.0000000   1st Qu.:0.0000000   1st Qu.:0.0000000   1st Qu.:0.00000  \n",
       " Median :0.0000000   Median :0.0000000   Median :0.0000000   Median :0.00000  \n",
       " Mean   :0.0003434   Mean   :0.0004998   Mean   :0.0005322   Mean   :0.00041  \n",
       " 3rd Qu.:0.0000000   3rd Qu.:0.0000000   3rd Qu.:0.0000000   3rd Qu.:0.00000  \n",
       " Max.   :1.0000000   Max.   :1.0000000   Max.   :1.0000000   Max.   :1.00000  \n",
       "  FIN13295A17         FIN13295A18         FIN13295A19       \n",
       " Min.   :0.0000000   Min.   :0.0000000   Min.   :0.0000000  \n",
       " 1st Qu.:0.0000000   1st Qu.:0.0000000   1st Qu.:0.0000000  \n",
       " Median :0.0000000   Median :0.0000000   Median :0.0000000  \n",
       " Mean   :0.0004862   Mean   :0.0002674   Mean   :0.0002381  \n",
       " 3rd Qu.:0.0000000   3rd Qu.:0.0000000   3rd Qu.:0.0000000  \n",
       " Max.   :1.0000000   Max.   :1.0000000   Max.   :1.0000000  \n",
       "  FIN13295A20         FIN13295A21         FIN13295A22       \n",
       " Min.   :0.0000000   Min.   :0.0000000   Min.   :0.0000000  \n",
       " 1st Qu.:0.0000000   1st Qu.:0.0000000   1st Qu.:0.0000000  \n",
       " Median :0.0000000   Median :0.0000000   Median :0.0000000  \n",
       " Mean   :0.0005038   Mean   :0.0002652   Mean   :0.0002534  \n",
       " 3rd Qu.:0.0000000   3rd Qu.:0.0000000   3rd Qu.:0.0000000  \n",
       " Max.   :1.0000000   Max.   :1.0000000   Max.   :1.0000000  \n",
       "  FIN13295A23         FIN13295A24         FIN13295A73        FIN13295A74       \n",
       " Min.   :0.0000000   Min.   :0.0000000   Min.   :0.000000   Min.   :0.0000000  \n",
       " 1st Qu.:0.0000000   1st Qu.:0.0000000   1st Qu.:0.000000   1st Qu.:0.0000000  \n",
       " Median :0.0000000   Median :0.0000000   Median :0.000000   Median :0.0000000  \n",
       " Mean   :0.0002962   Mean   :0.0002945   Mean   :0.000672   Mean   :0.0007294  \n",
       " 3rd Qu.:0.0000000   3rd Qu.:0.0000000   3rd Qu.:0.000000   3rd Qu.:0.0000000  \n",
       " Max.   :1.0000000   Max.   :1.0000000   Max.   :1.000000   Max.   :1.0000000  \n",
       "  FIN13295A75         FIN13295A76         FIN13295A77       \n",
       " Min.   :0.0000000   Min.   :0.0000000   Min.   :0.0000000  \n",
       " 1st Qu.:0.0000000   1st Qu.:0.0000000   1st Qu.:0.0000000  \n",
       " Median :0.0000000   Median :0.0000000   Median :0.0000000  \n",
       " Mean   :0.0007105   Mean   :0.0004723   Mean   :0.0005821  \n",
       " 3rd Qu.:0.0000000   3rd Qu.:0.0000000   3rd Qu.:0.0000000  \n",
       " Max.   :1.0000000   Max.   :1.0000000   Max.   :1.0000000  \n",
       "  FIN13295A78         FIN13295A79         FIN13295A80       \n",
       " Min.   :0.0000000   Min.   :0.0000000   Min.   :0.0000000  \n",
       " 1st Qu.:0.0000000   1st Qu.:0.0000000   1st Qu.:0.0000000  \n",
       " Median :0.0000000   Median :0.0000000   Median :0.0000000  \n",
       " Mean   :0.0007254   Mean   :0.0006152   Mean   :0.0008239  \n",
       " 3rd Qu.:0.0000000   3rd Qu.:0.0000000   3rd Qu.:0.0000000  \n",
       " Max.   :1.0000000   Max.   :1.0000000   Max.   :1.0000000  \n",
       "  FIN13295A41         FIN13295A42         FIN13295A43       \n",
       " Min.   :0.0000000   Min.   :0.0000000   Min.   :0.0000000  \n",
       " 1st Qu.:0.0000000   1st Qu.:0.0000000   1st Qu.:0.0000000  \n",
       " Median :0.0000000   Median :0.0000000   Median :0.0000000  \n",
       " Mean   :0.0003435   Mean   :0.0001449   Mean   :0.0003345  \n",
       " 3rd Qu.:0.0000000   3rd Qu.:0.0000000   3rd Qu.:0.0000000  \n",
       " Max.   :1.0000000   Max.   :1.0000000   Max.   :1.0000000  \n",
       "  FIN13295A44         FIN13295A45         FIN13295A46       \n",
       " Min.   :0.0000000   Min.   :0.0000000   Min.   :0.0000000  \n",
       " 1st Qu.:0.0000000   1st Qu.:0.0000000   1st Qu.:0.0000000  \n",
       " Median :0.0000000   Median :0.0000000   Median :0.0000000  \n",
       " Mean   :0.0001492   Mean   :0.0002018   Mean   :0.0002586  \n",
       " 3rd Qu.:0.0000000   3rd Qu.:0.0000000   3rd Qu.:0.0000000  \n",
       " Max.   :1.0000000   Max.   :1.0000000   Max.   :1.0000000  \n",
       "  FIN13295A47         FIN13295A48          FIN13295A9       \n",
       " Min.   :0.0000000   Min.   :0.0000000   Min.   :0.0000000  \n",
       " 1st Qu.:0.0000000   1st Qu.:0.0000000   1st Qu.:0.0000000  \n",
       " Median :0.0000000   Median :0.0000000   Median :0.0000000  \n",
       " Mean   :0.0002667   Mean   :0.0002828   Mean   :0.0003199  \n",
       " 3rd Qu.:0.0000000   3rd Qu.:0.0000000   3rd Qu.:0.0000000  \n",
       " Max.   :1.0000000   Max.   :1.0000000   Max.   :1.0000000  \n",
       "  FIN13295A10         FIN13295A11         FIN13295A12       \n",
       " Min.   :0.0000000   Min.   :0.0000000   Min.   :0.0000000  \n",
       " 1st Qu.:0.0000000   1st Qu.:0.0000000   1st Qu.:0.0000000  \n",
       " Median :0.0000000   Median :0.0000000   Median :0.0000000  \n",
       " Mean   :0.0003618   Mean   :0.0004549   Mean   :0.0003605  \n",
       " 3rd Qu.:0.0000000   3rd Qu.:0.0000000   3rd Qu.:0.0000000  \n",
       " Max.   :1.0000000   Max.   :1.0000000   Max.   :1.0000000  \n",
       "  FIN13295A13         FIN13295A14         FIN13295A15       \n",
       " Min.   :0.0000000   Min.   :0.0000000   Min.   :0.0000000  \n",
       " 1st Qu.:0.0000000   1st Qu.:0.0000000   1st Qu.:0.0000000  \n",
       " Median :0.0000000   Median :0.0000000   Median :0.0000000  \n",
       " Mean   :0.0003482   Mean   :0.0003791   Mean   :0.0005127  \n",
       " 3rd Qu.:0.0000000   3rd Qu.:0.0000000   3rd Qu.:0.0000000  \n",
       " Max.   :1.0000000   Max.   :1.0000000   Max.   :1.0000000  \n",
       "  FIN13295A16         FIN13295A33         FIN13295A34        FIN13295A35       \n",
       " Min.   :0.0000000   Min.   :0.0000000   Min.   :0.000000   Min.   :0.0000000  \n",
       " 1st Qu.:0.0000000   1st Qu.:0.0000000   1st Qu.:0.000000   1st Qu.:0.0000000  \n",
       " Median :0.0000000   Median :0.0000000   Median :0.000000   Median :0.0000000  \n",
       " Mean   :0.0003361   Mean   :0.0004021   Mean   :0.000405   Mean   :0.0006033  \n",
       " 3rd Qu.:0.0000000   3rd Qu.:0.0000000   3rd Qu.:0.000000   3rd Qu.:0.0000000  \n",
       " Max.   :1.0000000   Max.   :1.0000000   Max.   :1.000000   Max.   :1.0000000  \n",
       "  FIN13295A36         FIN13295A37         FIN13295A38       \n",
       " Min.   :0.0000000   Min.   :0.0000000   Min.   :0.0000000  \n",
       " 1st Qu.:0.0000000   1st Qu.:0.0000000   1st Qu.:0.0000000  \n",
       " Median :0.0000000   Median :0.0000000   Median :0.0000000  \n",
       " Mean   :0.0006019   Mean   :0.0005049   Mean   :0.0006865  \n",
       " 3rd Qu.:0.0000000   3rd Qu.:0.0000000   3rd Qu.:0.0000000  \n",
       " Max.   :1.0000000   Max.   :1.0000000   Max.   :1.0000000  \n",
       "  FIN13295A39         FIN13295A40         FIN13295A65       \n",
       " Min.   :0.0000000   Min.   :0.0000000   Min.   :0.0000000  \n",
       " 1st Qu.:0.0000000   1st Qu.:0.0000000   1st Qu.:0.0000000  \n",
       " Median :0.0000000   Median :0.0000000   Median :0.0000000  \n",
       " Mean   :0.0003434   Mean   :0.0002686   Mean   :0.0005572  \n",
       " 3rd Qu.:0.0000000   3rd Qu.:0.0000000   3rd Qu.:0.0000000  \n",
       " Max.   :1.0000000   Max.   :1.0000000   Max.   :1.0000000  \n",
       "  FIN13295A66         FIN13295A67        FIN13295A68         FIN13295A69       \n",
       " Min.   :0.0000000   Min.   :0.000000   Min.   :0.0000000   Min.   :0.0000000  \n",
       " 1st Qu.:0.0000000   1st Qu.:0.000000   1st Qu.:0.0000000   1st Qu.:0.0000000  \n",
       " Median :0.0000000   Median :0.000000   Median :0.0000000   Median :0.0000000  \n",
       " Mean   :0.0005665   Mean   :0.000469   Mean   :0.0008581   Mean   :0.0004962  \n",
       " 3rd Qu.:0.0000000   3rd Qu.:0.000000   3rd Qu.:0.0000000   3rd Qu.:0.0000000  \n",
       " Max.   :1.0000000   Max.   :1.000000   Max.   :1.0000000   Max.   :1.0000000  \n",
       "  FIN13295A70         FIN13295A71        FIN13295A72      \n",
       " Min.   :0.0000000   Min.   :0.000000   Min.   :0.000000  \n",
       " 1st Qu.:0.0000000   1st Qu.:0.000000   1st Qu.:0.000000  \n",
       " Median :0.0000000   Median :0.000000   Median :0.000000  \n",
       " Mean   :0.0003437   Mean   :0.001038   Mean   :0.001381  \n",
       " 3rd Qu.:0.0000000   3rd Qu.:0.000000   3rd Qu.:0.000000  \n",
       " Max.   :1.0000000   Max.   :1.000000   Max.   :1.000000  "
      ]
     },
     "metadata": {},
     "output_type": "display_data"
    }
   ],
   "source": [
    "summary(dpval(rnb.set))"
   ]
  },
  {
   "cell_type": "markdown",
   "metadata": {},
   "source": [
    "# Quality control"
   ]
  },
  {
   "cell_type": "code",
   "execution_count": 10,
   "metadata": {
    "vscode": {
     "languageId": "r"
    }
   },
   "outputs": [
    {
     "name": "stdout",
     "output_type": "stream",
     "text": [
      "2024-07-15 22:47:42    11.0  STATUS STARTED Quality Control\n",
      "2024-07-15 22:47:43    11.0    INFO     Number of cores: 1\n",
      "2024-07-15 22:47:43    11.0  STATUS     STARTED Quality Control Section\n",
      "2024-07-15 22:47:56     6.5  STATUS         Added quality control box plots\n",
      "2024-07-15 22:49:02     5.2  STATUS         Added quality control bar plots\n",
      "2024-07-15 22:49:04     5.2  STATUS         Added negative control boxplots\n",
      "2024-07-15 22:49:05     5.2  STATUS     COMPLETED Quality Control Section\n",
      "2024-07-15 22:49:05     5.2  STATUS     STARTED Visualizing SNP Probe Data\n",
      "2024-07-15 22:49:06     5.2  STATUS         STARTED Mixups Visualization Section\n",
      "2024-07-15 22:49:10     6.5  STATUS             Added SNP Heatmap\n"
     ]
    },
    {
     "name": "stderr",
     "output_type": "stream",
     "text": [
      "Found more than one class \"dist\" in cache; using the first, from namespace 'BiocGenerics'\n",
      "\n",
      "Also defined by 'spam'\n",
      "\n",
      "Found more than one class \"dist\" in cache; using the first, from namespace 'BiocGenerics'\n",
      "\n",
      "Also defined by 'spam'\n",
      "\n"
     ]
    },
    {
     "name": "stdout",
     "output_type": "stream",
     "text": [
      "2024-07-15 22:49:11     6.5  STATUS             Calculated Manhattan distances between samples based on SNP probes\n",
      "2024-07-15 22:49:12     6.5  STATUS             Added SNP-based Distances\n",
      "2024-07-15 22:49:13     6.5  STATUS         COMPLETED Mixups Visualization Section\n",
      "2024-07-15 22:49:13     6.5  STATUS     COMPLETED Visualizing SNP Probe Data\n",
      "2024-07-15 22:49:14     6.5  STATUS COMPLETED Quality Control\n",
      "\n"
     ]
    }
   ],
   "source": [
    "rnb.run.qc(rnb.set, report.dir, close.report = TRUE)\n"
   ]
  },
  {
   "cell_type": "markdown",
   "metadata": {},
   "source": [
    "# Preprocessing"
   ]
  },
  {
   "cell_type": "code",
   "execution_count": 11,
   "metadata": {
    "vscode": {
     "languageId": "r"
    }
   },
   "outputs": [],
   "source": [
    "# # First run\n",
    "# rnb.set.unfiltered <- rnb.set\n",
    "# result <- rnb.run.preprocessing(rnb.set.unfiltered, dir.reports=report.dir)\n",
    "# rnb.set <- result$rnb.set\n"
   ]
  },
  {
   "cell_type": "code",
   "execution_count": 12,
   "metadata": {
    "vscode": {
     "languageId": "r"
    }
   },
   "outputs": [],
   "source": [
    "rnb.set.unfiltered <- rnb.set"
   ]
  },
  {
   "cell_type": "markdown",
   "metadata": {},
   "source": [
    "## Filtering"
   ]
  },
  {
   "cell_type": "code",
   "execution_count": 13,
   "metadata": {
    "vscode": {
     "languageId": "r"
    }
   },
   "outputs": [
    {
     "data": {
      "text/html": [
       "923798"
      ],
      "text/latex": [
       "923798"
      ],
      "text/markdown": [
       "923798"
      ],
      "text/plain": [
       "[1] 923798"
      ]
     },
     "metadata": {},
     "output_type": "display_data"
    },
    {
     "name": "stdout",
     "output_type": "stream",
     "text": [
      "2024-07-15 22:49:15     7.9    INFO Detected nv probes in the dataset. Will not remove any nv probes based on context\n"
     ]
    },
    {
     "data": {
      "text/html": [
       "920601"
      ],
      "text/latex": [
       "920601"
      ],
      "text/markdown": [
       "920601"
      ],
      "text/plain": [
       "[1] 920601"
      ]
     },
     "metadata": {},
     "output_type": "display_data"
    },
    {
     "data": {
      "text/html": [
       "817358"
      ],
      "text/latex": [
       "817358"
      ],
      "text/markdown": [
       "817358"
      ],
      "text/plain": [
       "[1] 817358"
      ]
     },
     "metadata": {},
     "output_type": "display_data"
    },
    {
     "data": {
      "text/html": [
       "794556"
      ],
      "text/latex": [
       "794556"
      ],
      "text/markdown": [
       "794556"
      ],
      "text/plain": [
       "[1] 794556"
      ]
     },
     "metadata": {},
     "output_type": "display_data"
    },
    {
     "data": {
      "text/html": [
       "794556"
      ],
      "text/latex": [
       "794556"
      ],
      "text/markdown": [
       "794556"
      ],
      "text/plain": [
       "[1] 794556"
      ]
     },
     "metadata": {},
     "output_type": "display_data"
    },
    {
     "data": {
      "text/html": [
       "784013"
      ],
      "text/latex": [
       "784013"
      ],
      "text/markdown": [
       "784013"
      ],
      "text/plain": [
       "[1] 784013"
      ]
     },
     "metadata": {},
     "output_type": "display_data"
    }
   ],
   "source": [
    "# Second run\n",
    "nrow(meth(rnb.set.unfiltered)) # the number of sites in the unfiltered object\n",
    "# Remove probes outside of CpG context\n",
    "rnb.set.filtered <- rnb.execute.context.removal(rnb.set.unfiltered)$dataset\n",
    "nrow(meth(rnb.set.filtered)) # the number of CpG sites in the unfiltered object\n",
    "# SNP filtering allowing no SNPs in the probe sequence\n",
    "rnb.set.filtered <- rnb.execute.snp.removal(rnb.set.filtered, snp=\"any\")$dataset\n",
    "# the number of CpG sites in the unfiltered object\n",
    "# that do not contain a SNP\n",
    "nrow(meth(rnb.set.filtered))\n",
    "# Remove CpGs on sex chromosomes\n",
    "rnb.set.filtered <- rnb.execute.sex.removal(rnb.set.filtered)$dataset\n",
    "nrow(meth(rnb.set.filtered))\n",
    "# # Remove probes and samples based on a greedy approach\n",
    "# rnb.set.filtered <- rnb.execute.greedycut(rnb.set.filtered)$dataset\n",
    "# nrow(meth(rnb.set.filtered))\n",
    "# Remove probes containing NA for beta values\n",
    "rnb.set.filtered <- rnb.execute.na.removal(rnb.set.filtered)$dataset\n",
    "nrow(meth(rnb.set.filtered))\n",
    "# Remove probes for which the beta values have low standard deviation\n",
    "rnb.set.filtered <- rnb.execute.variability.removal(rnb.set.filtered, 0.005)$dataset\n",
    "nrow(meth(rnb.set.filtered))\n"
   ]
  },
  {
   "cell_type": "markdown",
   "metadata": {},
   "source": [
    "## Normalization"
   ]
  },
  {
   "cell_type": "code",
   "execution_count": 14,
   "metadata": {
    "vscode": {
     "languageId": "r"
    }
   },
   "outputs": [],
   "source": [
    "tmp <- rnb.set.filtered"
   ]
  },
  {
   "cell_type": "code",
   "execution_count": 15,
   "metadata": {
    "vscode": {
     "languageId": "r"
    }
   },
   "outputs": [
    {
     "name": "stdout",
     "output_type": "stream",
     "text": [
      "2024-07-15 23:05:29     6.3 WARNING Incompatible dataset and background correction method: methylumi.noob is not supported for MethylationEPICv2. Changed the method to \"none\"\n",
      "2024-07-15 23:05:29     6.3  STATUS Performed background subtraction with method none\n",
      "2024-07-15 23:05:30     6.3 WARNING Incompatible dataset and normalization method: not supported for HumanMethylationEPICv2. Changed the method to \"none\"\n"
     ]
    }
   ],
   "source": [
    "rnb.set.norm <- rnb.execute.normalization(rnb.set.unfiltered, \n",
    "                                          method=\"illumina\",\n",
    "                                          bgcorr.method=\"methylumi.noob\"\n",
    "                                          )"
   ]
  },
  {
   "cell_type": "markdown",
   "metadata": {},
   "source": [
    "# Covariate inference"
   ]
  },
  {
   "cell_type": "code",
   "execution_count": 16,
   "metadata": {
    "vscode": {
     "languageId": "r"
    }
   },
   "outputs": [],
   "source": [
    " rnb.options(inference=TRUE)"
   ]
  },
  {
   "cell_type": "code",
   "execution_count": 17,
   "metadata": {
    "vscode": {
     "languageId": "r"
    }
   },
   "outputs": [
    {
     "name": "stdout",
     "output_type": "stream",
     "text": [
      "2024-07-15 23:05:30     6.3  STATUS STARTED Covariate Inference\n",
      "2024-07-15 23:05:31     6.3    INFO     Number of cores: 1\n",
      "2024-07-15 23:05:34     5.2  STATUS COMPLETED Covariate Inference\n",
      "\n"
     ]
    }
   ],
   "source": [
    "rnb.set <- rnb.run.inference(rnb.set, report.dir)$rnb.set"
   ]
  },
  {
   "cell_type": "code",
   "execution_count": 18,
   "metadata": {
    "vscode": {
     "languageId": "r"
    }
   },
   "outputs": [
    {
     "data": {
      "text/plain": [
       "Object of class RnBeadRawSet\n",
       "      96 samples\n",
       "  923798 probes\n",
       "\tof which: 920026 CpG, 2906 CpH, 62 rs and 804 nv\n",
       "Region types:\n",
       "\t  266859 regions of type tiling\n",
       "\t   38298 regions of type genes\n",
       "\t   45816 regions of type promoters\n",
       "\t   25381 regions of type cpgislands\n",
       "Intensity information is present\n",
       "Detection p-values are present\n",
       "Bead counts are present\n",
       "Quality control information is present\n",
       "Summary of normalization procedures:\n",
       "\tThe methylation data was not normalized.\n",
       "\tNo background correction was performed."
      ]
     },
     "metadata": {},
     "output_type": "display_data"
    }
   ],
   "source": [
    "rnb.set"
   ]
  },
  {
   "cell_type": "markdown",
   "metadata": {},
   "source": [
    "## Surrogate Variable Analysis"
   ]
  },
  {
   "cell_type": "code",
   "execution_count": 19,
   "metadata": {
    "vscode": {
     "languageId": "r"
    }
   },
   "outputs": [],
   "source": [
    "sva.obj <- rnb.execute.sva(rnb.set.norm, cmp.cols=\"Sample_Group\", numSVmethod=\"be\")\n",
    "rnb.set.sv <- set.covariates.sva(rnb.set.norm, sva.obj)\n",
    "rnb.set.sv"
   ]
  },
  {
   "cell_type": "code",
   "execution_count": null,
   "metadata": {
    "vscode": {
     "languageId": "r"
    }
   },
   "outputs": [],
   "source": [
    "save.rnb.set(rnb.set.sv, file.path(analysis.dir, \"rnb.set.sv.RData\"))\n",
    "save.rnb.set(rnb.set.norm, file.path(analysis.dir, \"rnb.set.norm.RData\"))\n",
    "save.rnb.set(rnb.set, file.path(analysis.dir, \"rnb.set.RData\"))"
   ]
  },
  {
   "cell_type": "markdown",
   "metadata": {},
   "source": [
    "# Exploratory analysis"
   ]
  },
  {
   "cell_type": "code",
   "execution_count": null,
   "metadata": {
    "vscode": {
     "languageId": "r"
    }
   },
   "outputs": [],
   "source": [
    "rnb.run.exploratory(rnb.set, report.dir)"
   ]
  },
  {
   "cell_type": "markdown",
   "metadata": {},
   "source": [
    "# Differential Methylation Analysis"
   ]
  },
  {
   "cell_type": "code",
   "execution_count": null,
   "metadata": {
    "vscode": {
     "languageId": "r"
    }
   },
   "outputs": [
    {
     "data": {
      "text/html": [
       "<table class=\"dataframe\">\n",
       "<caption>A data.frame: 6 x 18</caption>\n",
       "<thead>\n",
       "\t<tr><th></th><th scope=col>Unknown Column 1</th><th scope=col>index</th><th scope=col>Sample_ID</th><th scope=col>Sample_Well</th><th scope=col>Sample_Plate</th><th scope=col>Sample_Name</th><th scope=col>Pool_ID</th><th scope=col>Sample_Group</th><th scope=col>I.D.Code</th><th scope=col>Sample</th><th scope=col>Sample.Type</th><th scope=col>Tumour.Normal</th><th scope=col>Collection</th><th scope=col>Institution</th><th scope=col>Sentrix_Position</th><th scope=col>Sentrix_ID</th><th scope=col>Basename</th><th scope=col>barcode</th></tr>\n",
       "\t<tr><th></th><th scope=col>&lt;int&gt;</th><th scope=col>&lt;int&gt;</th><th scope=col>&lt;chr&gt;</th><th scope=col>&lt;chr&gt;</th><th scope=col>&lt;chr&gt;</th><th scope=col>&lt;chr&gt;</th><th scope=col>&lt;lgl&gt;</th><th scope=col>&lt;chr&gt;</th><th scope=col>&lt;chr&gt;</th><th scope=col>&lt;chr&gt;</th><th scope=col>&lt;chr&gt;</th><th scope=col>&lt;chr&gt;</th><th scope=col>&lt;chr&gt;</th><th scope=col>&lt;chr&gt;</th><th scope=col>&lt;chr&gt;</th><th scope=col>&lt;dbl&gt;</th><th scope=col>&lt;chr&gt;</th><th scope=col>&lt;chr&gt;</th></tr>\n",
       "</thead>\n",
       "<tbody>\n",
       "\t<tr><th scope=row>1</th><td>0</td><td>1</td><td>FIN13295A89</td><td>A12</td><td>207881760004_R01C01_FIN13295A89_A12</td><td>I_D_102</td><td>NA</td><td>Diffuse midline glioma</td><td>I-D-102</td><td>SU-DIPG-17         </td><td>Cell-line</td><td>Tumour</td><td>Post-mortem</td><td>Stanford Univeristy        </td><td>R01C01</td><td>207881760004</td><td>../Dataset/Izac_Methylomics/FIN13296/iDAT/207881760004/207881760004_R01C01/207881760004_R01C01</td><td>207881760004_R01C01</td></tr>\n",
       "\t<tr><th scope=row>2</th><td>1</td><td>2</td><td>FIN13295A90</td><td>B12</td><td>207881760004_R02C01_FIN13295A90_B12</td><td>I_D_103</td><td>NA</td><td>Diffuse midline glioma</td><td>I-D-103</td><td>RA055              </td><td>Cell-line</td><td>Tumour</td><td>Progression</td><td>Zero Childhood Cancer      </td><td>R02C01</td><td>207881760004</td><td>../Dataset/Izac_Methylomics/FIN13296/iDAT/207881760004/207881760004_R02C01/207881760004_R02C01</td><td>207881760004_R02C01</td></tr>\n",
       "\t<tr><th scope=row>3</th><td>2</td><td>3</td><td>FIN13295A91</td><td>C12</td><td>207881760004_R03C01_FIN13295A91_C12</td><td>I_D_104</td><td>NA</td><td>Diffuse midline glioma</td><td>I-D-104</td><td>PBT-28             </td><td>Cell-line</td><td>Tumour</td><td>Diagnosis  </td><td>Seattle Children's Hospital</td><td>R03C01</td><td>207881760004</td><td>../Dataset/Izac_Methylomics/FIN13296/iDAT/207881760004/207881760004_R03C01/207881760004_R03C01</td><td>207881760004_R03C01</td></tr>\n",
       "\t<tr><th scope=row>4</th><td>3</td><td>4</td><td>FIN13295A92</td><td>D12</td><td>207881760004_R04C01_FIN13295A92_D12</td><td>I_D_105</td><td>NA</td><td>Diffuse midline glioma</td><td>I-D-105</td><td>P002306            </td><td>Cell-line</td><td>Tumour</td><td>Unknown    </td><td>Zero Childhood Cancer      </td><td>R04C01</td><td>207881760004</td><td>../Dataset/Izac_Methylomics/FIN13296/iDAT/207881760004/207881760004_R04C01/207881760004_R04C01</td><td>207881760004_R04C01</td></tr>\n",
       "\t<tr><th scope=row>5</th><td>4</td><td>5</td><td>FIN13295A93</td><td>E12</td><td>207881760004_R05C01_FIN13295A93_E12</td><td>I_D_106</td><td>NA</td><td>Diffuse midline glioma</td><td>I-D-106</td><td>P007601            </td><td>Cell-line</td><td>Tumour</td><td>Unknown    </td><td>Zero Childhood Cancer      </td><td>R05C01</td><td>207881760004</td><td>../Dataset/Izac_Methylomics/FIN13296/iDAT/207881760004/207881760004_R05C01/207881760004_R05C01</td><td>207881760004_R05C01</td></tr>\n",
       "\t<tr><th scope=row>6</th><td>5</td><td>6</td><td>FIN13295A94</td><td>F12</td><td>207881760004_R06C01_FIN13295A94_F12</td><td>I_D_107</td><td>NA</td><td>Diffuse midline glioma</td><td>I-D-107</td><td>P005401 Progression</td><td>Cell-line</td><td>Tumour</td><td>Progression</td><td>Zero Childhood Cancer      </td><td>R06C01</td><td>207881760004</td><td>../Dataset/Izac_Methylomics/FIN13296/iDAT/207881760004/207881760004_R06C01/207881760004_R06C01</td><td>207881760004_R06C01</td></tr>\n",
       "</tbody>\n",
       "</table>\n"
      ],
      "text/latex": [
       "A data.frame: 6 x 18\n",
       "\\begin{tabular}{r|llllllllllllllllll}\n",
       "  & Unknown Column 1 & index & Sample\\_ID & Sample\\_Well & Sample\\_Plate & Sample\\_Name & Pool\\_ID & Sample\\_Group & I.D.Code & Sample & Sample.Type & Tumour.Normal & Collection & Institution & Sentrix\\_Position & Sentrix\\_ID & Basename & barcode\\\\\n",
       "  & <int> & <int> & <chr> & <chr> & <chr> & <chr> & <lgl> & <chr> & <chr> & <chr> & <chr> & <chr> & <chr> & <chr> & <chr> & <dbl> & <chr> & <chr>\\\\\n",
       "\\hline\n",
       "\t1 & 0 & 1 & FIN13295A89 & A12 & 207881760004\\_R01C01\\_FIN13295A89\\_A12 & I\\_D\\_102 & NA & Diffuse midline glioma & I-D-102 & SU-DIPG-17          & Cell-line & Tumour & Post-mortem & Stanford Univeristy         & R01C01 & 207881760004 & ../Dataset/Izac\\_Methylomics/FIN13296/iDAT/207881760004/207881760004\\_R01C01/207881760004\\_R01C01 & 207881760004\\_R01C01\\\\\n",
       "\t2 & 1 & 2 & FIN13295A90 & B12 & 207881760004\\_R02C01\\_FIN13295A90\\_B12 & I\\_D\\_103 & NA & Diffuse midline glioma & I-D-103 & RA055               & Cell-line & Tumour & Progression & Zero Childhood Cancer       & R02C01 & 207881760004 & ../Dataset/Izac\\_Methylomics/FIN13296/iDAT/207881760004/207881760004\\_R02C01/207881760004\\_R02C01 & 207881760004\\_R02C01\\\\\n",
       "\t3 & 2 & 3 & FIN13295A91 & C12 & 207881760004\\_R03C01\\_FIN13295A91\\_C12 & I\\_D\\_104 & NA & Diffuse midline glioma & I-D-104 & PBT-28              & Cell-line & Tumour & Diagnosis   & Seattle Children's Hospital & R03C01 & 207881760004 & ../Dataset/Izac\\_Methylomics/FIN13296/iDAT/207881760004/207881760004\\_R03C01/207881760004\\_R03C01 & 207881760004\\_R03C01\\\\\n",
       "\t4 & 3 & 4 & FIN13295A92 & D12 & 207881760004\\_R04C01\\_FIN13295A92\\_D12 & I\\_D\\_105 & NA & Diffuse midline glioma & I-D-105 & P002306             & Cell-line & Tumour & Unknown     & Zero Childhood Cancer       & R04C01 & 207881760004 & ../Dataset/Izac\\_Methylomics/FIN13296/iDAT/207881760004/207881760004\\_R04C01/207881760004\\_R04C01 & 207881760004\\_R04C01\\\\\n",
       "\t5 & 4 & 5 & FIN13295A93 & E12 & 207881760004\\_R05C01\\_FIN13295A93\\_E12 & I\\_D\\_106 & NA & Diffuse midline glioma & I-D-106 & P007601             & Cell-line & Tumour & Unknown     & Zero Childhood Cancer       & R05C01 & 207881760004 & ../Dataset/Izac\\_Methylomics/FIN13296/iDAT/207881760004/207881760004\\_R05C01/207881760004\\_R05C01 & 207881760004\\_R05C01\\\\\n",
       "\t6 & 5 & 6 & FIN13295A94 & F12 & 207881760004\\_R06C01\\_FIN13295A94\\_F12 & I\\_D\\_107 & NA & Diffuse midline glioma & I-D-107 & P005401 Progression & Cell-line & Tumour & Progression & Zero Childhood Cancer       & R06C01 & 207881760004 & ../Dataset/Izac\\_Methylomics/FIN13296/iDAT/207881760004/207881760004\\_R06C01/207881760004\\_R06C01 & 207881760004\\_R06C01\\\\\n",
       "\\end{tabular}\n"
      ],
      "text/markdown": [
       "\n",
       "A data.frame: 6 x 18\n",
       "\n",
       "| <!--/--> | Unknown Column 1 &lt;int&gt; | index &lt;int&gt; | Sample_ID &lt;chr&gt; | Sample_Well &lt;chr&gt; | Sample_Plate &lt;chr&gt; | Sample_Name &lt;chr&gt; | Pool_ID &lt;lgl&gt; | Sample_Group &lt;chr&gt; | I.D.Code &lt;chr&gt; | Sample &lt;chr&gt; | Sample.Type &lt;chr&gt; | Tumour.Normal &lt;chr&gt; | Collection &lt;chr&gt; | Institution &lt;chr&gt; | Sentrix_Position &lt;chr&gt; | Sentrix_ID &lt;dbl&gt; | Basename &lt;chr&gt; | barcode &lt;chr&gt; |\n",
       "|---|---|---|---|---|---|---|---|---|---|---|---|---|---|---|---|---|---|---|\n",
       "| 1 | 0 | 1 | FIN13295A89 | A12 | 207881760004_R01C01_FIN13295A89_A12 | I_D_102 | NA | Diffuse midline glioma | I-D-102 | SU-DIPG-17          | Cell-line | Tumour | Post-mortem | Stanford Univeristy         | R01C01 | 207881760004 | ../Dataset/Izac_Methylomics/FIN13296/iDAT/207881760004/207881760004_R01C01/207881760004_R01C01 | 207881760004_R01C01 |\n",
       "| 2 | 1 | 2 | FIN13295A90 | B12 | 207881760004_R02C01_FIN13295A90_B12 | I_D_103 | NA | Diffuse midline glioma | I-D-103 | RA055               | Cell-line | Tumour | Progression | Zero Childhood Cancer       | R02C01 | 207881760004 | ../Dataset/Izac_Methylomics/FIN13296/iDAT/207881760004/207881760004_R02C01/207881760004_R02C01 | 207881760004_R02C01 |\n",
       "| 3 | 2 | 3 | FIN13295A91 | C12 | 207881760004_R03C01_FIN13295A91_C12 | I_D_104 | NA | Diffuse midline glioma | I-D-104 | PBT-28              | Cell-line | Tumour | Diagnosis   | Seattle Children's Hospital | R03C01 | 207881760004 | ../Dataset/Izac_Methylomics/FIN13296/iDAT/207881760004/207881760004_R03C01/207881760004_R03C01 | 207881760004_R03C01 |\n",
       "| 4 | 3 | 4 | FIN13295A92 | D12 | 207881760004_R04C01_FIN13295A92_D12 | I_D_105 | NA | Diffuse midline glioma | I-D-105 | P002306             | Cell-line | Tumour | Unknown     | Zero Childhood Cancer       | R04C01 | 207881760004 | ../Dataset/Izac_Methylomics/FIN13296/iDAT/207881760004/207881760004_R04C01/207881760004_R04C01 | 207881760004_R04C01 |\n",
       "| 5 | 4 | 5 | FIN13295A93 | E12 | 207881760004_R05C01_FIN13295A93_E12 | I_D_106 | NA | Diffuse midline glioma | I-D-106 | P007601             | Cell-line | Tumour | Unknown     | Zero Childhood Cancer       | R05C01 | 207881760004 | ../Dataset/Izac_Methylomics/FIN13296/iDAT/207881760004/207881760004_R05C01/207881760004_R05C01 | 207881760004_R05C01 |\n",
       "| 6 | 5 | 6 | FIN13295A94 | F12 | 207881760004_R06C01_FIN13295A94_F12 | I_D_107 | NA | Diffuse midline glioma | I-D-107 | P005401 Progression | Cell-line | Tumour | Progression | Zero Childhood Cancer       | R06C01 | 207881760004 | ../Dataset/Izac_Methylomics/FIN13296/iDAT/207881760004/207881760004_R06C01/207881760004_R06C01 | 207881760004_R06C01 |\n",
       "\n"
      ],
      "text/plain": [
       "  Unknown Column 1 index Sample_ID   Sample_Well\n",
       "1 0                1     FIN13295A89 A12        \n",
       "2 1                2     FIN13295A90 B12        \n",
       "3 2                3     FIN13295A91 C12        \n",
       "4 3                4     FIN13295A92 D12        \n",
       "5 4                5     FIN13295A93 E12        \n",
       "6 5                6     FIN13295A94 F12        \n",
       "  Sample_Plate                        Sample_Name Pool_ID\n",
       "1 207881760004_R01C01_FIN13295A89_A12 I_D_102     NA     \n",
       "2 207881760004_R02C01_FIN13295A90_B12 I_D_103     NA     \n",
       "3 207881760004_R03C01_FIN13295A91_C12 I_D_104     NA     \n",
       "4 207881760004_R04C01_FIN13295A92_D12 I_D_105     NA     \n",
       "5 207881760004_R05C01_FIN13295A93_E12 I_D_106     NA     \n",
       "6 207881760004_R06C01_FIN13295A94_F12 I_D_107     NA     \n",
       "  Sample_Group           I.D.Code Sample              Sample.Type Tumour.Normal\n",
       "1 Diffuse midline glioma I-D-102  SU-DIPG-17          Cell-line   Tumour       \n",
       "2 Diffuse midline glioma I-D-103  RA055               Cell-line   Tumour       \n",
       "3 Diffuse midline glioma I-D-104  PBT-28              Cell-line   Tumour       \n",
       "4 Diffuse midline glioma I-D-105  P002306             Cell-line   Tumour       \n",
       "5 Diffuse midline glioma I-D-106  P007601             Cell-line   Tumour       \n",
       "6 Diffuse midline glioma I-D-107  P005401 Progression Cell-line   Tumour       \n",
       "  Collection  Institution                 Sentrix_Position Sentrix_ID  \n",
       "1 Post-mortem Stanford Univeristy         R01C01           207881760004\n",
       "2 Progression Zero Childhood Cancer       R02C01           207881760004\n",
       "3 Diagnosis   Seattle Children's Hospital R03C01           207881760004\n",
       "4 Unknown     Zero Childhood Cancer       R04C01           207881760004\n",
       "5 Unknown     Zero Childhood Cancer       R05C01           207881760004\n",
       "6 Progression Zero Childhood Cancer       R06C01           207881760004\n",
       "  Basename                                                                                      \n",
       "1 ../Dataset/Izac_Methylomics/FIN13296/iDAT/207881760004/207881760004_R01C01/207881760004_R01C01\n",
       "2 ../Dataset/Izac_Methylomics/FIN13296/iDAT/207881760004/207881760004_R02C01/207881760004_R02C01\n",
       "3 ../Dataset/Izac_Methylomics/FIN13296/iDAT/207881760004/207881760004_R03C01/207881760004_R03C01\n",
       "4 ../Dataset/Izac_Methylomics/FIN13296/iDAT/207881760004/207881760004_R04C01/207881760004_R04C01\n",
       "5 ../Dataset/Izac_Methylomics/FIN13296/iDAT/207881760004/207881760004_R05C01/207881760004_R05C01\n",
       "6 ../Dataset/Izac_Methylomics/FIN13296/iDAT/207881760004/207881760004_R06C01/207881760004_R06C01\n",
       "  barcode            \n",
       "1 207881760004_R01C01\n",
       "2 207881760004_R02C01\n",
       "3 207881760004_R03C01\n",
       "4 207881760004_R04C01\n",
       "5 207881760004_R05C01\n",
       "6 207881760004_R06C01"
      ]
     },
     "metadata": {},
     "output_type": "display_data"
    }
   ],
   "source": [
    "head(pheno(rnb.set))"
   ]
  },
  {
   "cell_type": "code",
   "execution_count": null,
   "metadata": {
    "vscode": {
     "languageId": "r"
    }
   },
   "outputs": [],
   "source": [
    "# rnb.options(\"differential.variability\"=TRUE)"
   ]
  },
  {
   "cell_type": "code",
   "execution_count": null,
   "metadata": {
    "vscode": {
     "languageId": "r"
    }
   },
   "outputs": [
    {
     "name": "stderr",
     "output_type": "stream",
     "text": [
      "Installing package into '/Users/c3503862/Library/R/arm64/4.4/library'\n",
      "(as 'lib' is unspecified)\n",
      "\n"
     ]
    },
    {
     "name": "stdout",
     "output_type": "stream",
     "text": [
      "\n",
      "The downloaded binary packages are in\n",
      "\t/var/folders/y0/1cs3npgn3jn68yvgp05r7ntc0000gr/T//RtmpFg381V/downloaded_packages\n"
     ]
    }
   ],
   "source": [
    "install.packages(\"hexbin\")"
   ]
  },
  {
   "cell_type": "code",
   "execution_count": null,
   "metadata": {
    "vscode": {
     "languageId": "r"
    }
   },
   "outputs": [
    {
     "data": {
      "text/plain": [
       "Object of class RnBeadRawSet\n",
       "      96 samples\n",
       "  923798 probes\n",
       "\tof which: 920026 CpG, 2906 CpH, 62 rs and 804 nv\n",
       "Region types:\n",
       "\t  266859 regions of type tiling\n",
       "\t   38298 regions of type genes\n",
       "\t   45816 regions of type promoters\n",
       "\t   25381 regions of type cpgislands\n",
       "Intensity information is present\n",
       "Detection p-values are present\n",
       "Bead counts are present\n",
       "Quality control information is present\n",
       "Summary of normalization procedures:\n",
       "\tThe methylation data was not normalized.\n",
       "\tNo background correction was performed."
      ]
     },
     "metadata": {},
     "output_type": "display_data"
    }
   ],
   "source": [
    "rnb.set.norm"
   ]
  },
  {
   "cell_type": "code",
   "execution_count": null,
   "metadata": {
    "vscode": {
     "languageId": "r"
    }
   },
   "outputs": [],
   "source": [
    "A NAMED vector containing for each column name for which paired analysis should be performed (say columnA) the name or index of another column (say columnB) in which same values indicate the same pairing. columnA should be the name of the value columnB in this vector. For more details see rnb.sample.groups"
   ]
  },
  {
   "cell_type": "code",
   "execution_count": null,
   "metadata": {
    "vscode": {
     "languageId": "r"
    }
   },
   "outputs": [
    {
     "name": "stdout",
     "output_type": "stream",
     "text": [
      "2024-07-04 15:12:45     7.1  STATUS                                                                                                                                                             STARTED Differential Methylation\n",
      "2024-07-04 15:12:46     7.1    INFO                                                                                                                                                                 Number of cores: 1\n",
      "2024-07-04 15:12:47     7.1  STATUS                                                                                                                                                                 STARTED Analysis\n",
      "2024-07-04 15:12:47     7.1    INFO                                                                                                                                                                     Using 0 permutation tests\n",
      "2024-07-04 15:12:47     7.1    INFO                                                                                                                                                                     Using columns: Sample.Type,Sample_Group,Tumour.Normal\n",
      "2024-07-04 15:12:48     7.1    INFO                                                                                                                                                                     Using region types: tiling,genes,promoters,cpgislands\n",
      "2024-07-04 15:12:48     7.1  STATUS                                                                                                                                                                     STARTED Retrieving comparison info\n",
      "2024-07-04 15:12:49     7.1 WARNING                                                                                                                                                                         Invalid pairing information for column Sample.Type . --> Treating as unpaired.\n",
      "2024-07-04 15:12:49     7.1 WARNING                                                                                                                                                                         Invalid pairing information for column Tumour.Normal . --> Treating as unpaired.\n",
      "2024-07-04 15:12:49     7.1  STATUS                                                                                                                                                                     COMPLETED Retrieving comparison info\n",
      "2024-07-04 15:12:50     7.1  STATUS                                                                                                                                                                     STARTED Computing differential methylation tables\n",
      "2024-07-04 15:12:50     7.1  STATUS                                                                                                                                                                         STARTED Comparing: Cell-line vs. Tissue (based on Sample.Type)\n",
      "2024-07-04 15:12:51     7.1  STATUS                                                                                                                                                                             STARTED Computing Differential Methylation Table\n",
      "2024-07-04 15:12:52     8.8    INFO                                                                                                                                                                                 Conducting differential analysis using limma\n",
      "2024-07-04 15:13:25     9.1  STATUS                                                                                                                                                                                 STARTED Imputation procedure mean.samples \n",
      "2024-07-04 15:13:37    11.0  STATUS                                                                                                                                                                                 COMPLETED Imputation procedure mean.samples \n",
      "2024-07-04 15:13:38    11.0    INFO                                                                                                                                                                                 Conducting differential variability using diffVar\n",
      "2024-07-04 15:13:38    11.0  STATUS                                                                                                                                                                                 STARTED diffVar method\n"
     ]
    },
    {
     "name": "stderr",
     "output_type": "stream",
     "text": [
      "coef not specified. Using all columns of design matrix.\n",
      "\n"
     ]
    },
    {
     "name": "stdout",
     "output_type": "stream",
     "text": [
      "2024-07-04 15:13:49    13.0  STATUS                                                                                                                                                                                 COMPLETED diffVar method\n",
      "2024-07-04 15:14:04    12.0  STATUS                                                                                                                                                                             COMPLETED Computing Differential Methylation Table\n",
      "2024-07-04 15:14:05    12.0  STATUS                                                                                                                                                                             STARTED Computing Differential Methylation Tables (Region Level)\n",
      "2024-07-04 15:16:13     8.9  STATUS                                                                                                                                                                                 Computed table for tiling\n",
      "2024-07-04 15:16:38     6.6  STATUS                                                                                                                                                                                 Computed table for genes\n",
      "2024-07-04 15:17:03     6.6  STATUS                                                                                                                                                                                 Computed table for promoters\n",
      "2024-07-04 15:17:17     6.6  STATUS                                                                                                                                                                                 Computed table for cpgislands\n",
      "2024-07-04 15:17:17     6.6  STATUS                                                                                                                                                                             COMPLETED Computing Differential Methylation Tables (Region Level)\n",
      "2024-07-04 15:17:18     6.7  STATUS                                                                                                                                                                         COMPLETED Comparing: Cell-line vs. Tissue (based on Sample.Type)\n",
      "2024-07-04 15:17:18     6.7  STATUS                                                                                                                                                                         STARTED Comparing: Normal vs. Tumour (based on Tumour.Normal)\n",
      "2024-07-04 15:17:18     6.7  STATUS                                                                                                                                                                             STARTED Computing Differential Methylation Table\n",
      "2024-07-04 15:17:20     8.7    INFO                                                                                                                                                                                 Conducting differential analysis using limma\n",
      "2024-07-04 15:17:49     8.9  STATUS                                                                                                                                                                                 STARTED Imputation procedure mean.samples \n",
      "2024-07-04 15:18:00    12.0  STATUS                                                                                                                                                                                 COMPLETED Imputation procedure mean.samples \n",
      "2024-07-04 15:18:00    13.0    INFO                                                                                                                                                                                 Conducting differential variability using diffVar\n",
      "2024-07-04 15:18:01    13.0  STATUS                                                                                                                                                                                 STARTED diffVar method\n"
     ]
    },
    {
     "name": "stderr",
     "output_type": "stream",
     "text": [
      "coef not specified. Using all columns of design matrix.\n",
      "\n"
     ]
    },
    {
     "name": "stdout",
     "output_type": "stream",
     "text": [
      "2024-07-04 15:18:14    14.0  STATUS                                                                                                                                                                                 COMPLETED diffVar method\n",
      "2024-07-04 15:18:29    12.0  STATUS                                                                                                                                                                             COMPLETED Computing Differential Methylation Table\n",
      "2024-07-04 15:18:30    12.0  STATUS                                                                                                                                                                             STARTED Computing Differential Methylation Tables (Region Level)\n",
      "2024-07-04 15:20:33    11.0  STATUS                                                                                                                                                                                 Computed table for tiling\n",
      "2024-07-04 15:20:58     6.6  STATUS                                                                                                                                                                                 Computed table for genes\n",
      "2024-07-04 15:21:23     6.6  STATUS                                                                                                                                                                                 Computed table for promoters\n",
      "2024-07-04 15:21:37     6.6  STATUS                                                                                                                                                                                 Computed table for cpgislands\n",
      "2024-07-04 15:21:37     6.6  STATUS                                                                                                                                                                             COMPLETED Computing Differential Methylation Tables (Region Level)\n",
      "2024-07-04 15:21:38     6.7  STATUS                                                                                                                                                                         COMPLETED Comparing: Normal vs. Tumour (based on Tumour.Normal)\n",
      "2024-07-04 15:21:38     6.7  STATUS                                                                                                                                                                     COMPLETED Computing differential methylation tables\n",
      "2024-07-04 15:21:39     6.7  STATUS                                                                                                                                                                     STARTED Differential Methylation GO Enrichment Analysis\n",
      "2024-07-04 15:21:39     6.7  STATUS                                                                                                                                                                         STARTED Comparison:  Cell-line vs. Tissue (based on Sample.Type)\n",
      "2024-07-04 15:21:40     6.7  STATUS                                                                                                                                                                             STARTED Ontology:  BP\n",
      "2024-07-04 15:21:40     6.7  STATUS                                                                                                                                                                                 STARTED Region Level\n",
      "2024-07-04 15:21:40     6.7  STATUS                                                                                                                                                                                     STARTED Region Type: tiling\n",
      "2024-07-04 15:21:41     6.7    INFO                                                                                                                                                                                         Not annotated with entrezID --> Skipped\n",
      "2024-07-04 15:21:41     6.7  STATUS                                                                                                                                                                                     COMPLETED Region Type: tiling\n",
      "2024-07-04 15:21:42     6.7  STATUS                                                                                                                                                                                     STARTED Region Type: genes\n",
      "2024-07-04 15:21:42     6.7    INFO                                                                                                                                                                                         Rank cutoff: 100\n",
      "2024-07-04 15:22:08     6.8    INFO                                                                                                                                                                                         Rank cutoff: 500\n",
      "2024-07-04 15:22:40     8.5    INFO                                                                                                                                                                                         Rank cutoff: 1000\n",
      "2024-07-04 15:23:14     7.1    INFO                                                                                                                                                                                         Rank cutoff: 994 (auto-select)\n",
      "2024-07-04 15:23:48     7.0  STATUS                                                                                                                                                                                     COMPLETED Region Type: genes\n",
      "2024-07-04 15:23:49     7.0  STATUS                                                                                                                                                                                     STARTED Region Type: promoters\n",
      "2024-07-04 15:23:49     7.0    INFO                                                                                                                                                                                         Rank cutoff: 100\n",
      "2024-07-04 15:24:16     7.5    INFO                                                                                                                                                                                         Rank cutoff: 500\n",
      "2024-07-04 15:24:49     7.6    INFO                                                                                                                                                                                         Rank cutoff: 1000\n",
      "2024-07-04 15:25:26     6.8    INFO                                                                                                                                                                                         Rank cutoff: 2579 (auto-select)\n",
      "2024-07-04 15:25:56     6.9  STATUS                                                                                                                                                                                     COMPLETED Region Type: promoters\n",
      "2024-07-04 15:25:56     6.9  STATUS                                                                                                                                                                                     STARTED Region Type: cpgislands\n",
      "2024-07-04 15:25:57     6.9    INFO                                                                                                                                                                                         Not annotated with entrezID --> Skipped\n",
      "2024-07-04 15:25:57     6.9  STATUS                                                                                                                                                                                     COMPLETED Region Type: cpgislands\n",
      "2024-07-04 15:25:58     6.9  STATUS                                                                                                                                                                                 COMPLETED Region Level\n",
      "2024-07-04 15:25:58     6.9  STATUS                                                                                                                                                                             COMPLETED Ontology:  BP\n",
      "2024-07-04 15:25:58     6.9  STATUS                                                                                                                                                                             STARTED Ontology:  MF\n",
      "2024-07-04 15:25:59     6.9  STATUS                                                                                                                                                                                 STARTED Region Level\n",
      "2024-07-04 15:25:59     6.9  STATUS                                                                                                                                                                                     STARTED Region Type: tiling\n",
      "2024-07-04 15:26:00     6.9    INFO                                                                                                                                                                                         Not annotated with entrezID --> Skipped\n",
      "2024-07-04 15:26:00     6.9  STATUS                                                                                                                                                                                     COMPLETED Region Type: tiling\n",
      "2024-07-04 15:26:00     6.9  STATUS                                                                                                                                                                                     STARTED Region Type: genes\n",
      "2024-07-04 15:26:01     6.9    INFO                                                                                                                                                                                         Rank cutoff: 100\n",
      "2024-07-04 15:26:13     6.8    INFO                                                                                                                                                                                         Rank cutoff: 500\n",
      "2024-07-04 15:26:25     6.7    INFO                                                                                                                                                                                         Rank cutoff: 1000\n",
      "2024-07-04 15:26:37     6.7    INFO                                                                                                                                                                                         Rank cutoff: 994 (auto-select)\n",
      "2024-07-04 15:26:50     6.7  STATUS                                                                                                                                                                                     COMPLETED Region Type: genes\n",
      "2024-07-04 15:26:50     6.7  STATUS                                                                                                                                                                                     STARTED Region Type: promoters\n",
      "2024-07-04 15:26:50     6.7    INFO                                                                                                                                                                                         Rank cutoff: 100\n",
      "2024-07-04 15:27:03     6.9    INFO                                                                                                                                                                                         Rank cutoff: 500\n",
      "2024-07-04 15:27:17     6.9    INFO                                                                                                                                                                                         Rank cutoff: 1000\n",
      "2024-07-04 15:27:27     6.9    INFO                                                                                                                                                                                         Rank cutoff: 2579 (auto-select)\n",
      "2024-07-04 15:27:38     6.7  STATUS                                                                                                                                                                                     COMPLETED Region Type: promoters\n",
      "2024-07-04 15:27:38     6.7  STATUS                                                                                                                                                                                     STARTED Region Type: cpgislands\n",
      "2024-07-04 15:27:39     6.7    INFO                                                                                                                                                                                         Not annotated with entrezID --> Skipped\n",
      "2024-07-04 15:27:39     6.7  STATUS                                                                                                                                                                                     COMPLETED Region Type: cpgislands\n",
      "2024-07-04 15:27:39     6.7  STATUS                                                                                                                                                                                 COMPLETED Region Level\n",
      "2024-07-04 15:27:40     6.7  STATUS                                                                                                                                                                             COMPLETED Ontology:  MF\n",
      "2024-07-04 15:27:40     6.7  STATUS                                                                                                                                                                         COMPLETED Comparison:  Cell-line vs. Tissue (based on Sample.Type)\n",
      "2024-07-04 15:27:41     6.7  STATUS                                                                                                                                                                         STARTED Comparison:  Normal vs. Tumour (based on Tumour.Normal)\n",
      "2024-07-04 15:27:41     6.7  STATUS                                                                                                                                                                             STARTED Ontology:  BP\n",
      "2024-07-04 15:27:41     6.7  STATUS                                                                                                                                                                                 STARTED Region Level\n",
      "2024-07-04 15:27:42     6.7  STATUS                                                                                                                                                                                     STARTED Region Type: tiling\n",
      "2024-07-04 15:27:42     6.7    INFO                                                                                                                                                                                         Not annotated with entrezID --> Skipped\n",
      "2024-07-04 15:27:43     6.7  STATUS                                                                                                                                                                                     COMPLETED Region Type: tiling\n",
      "2024-07-04 15:27:43     6.7  STATUS                                                                                                                                                                                     STARTED Region Type: genes\n",
      "2024-07-04 15:27:43     6.7    INFO                                                                                                                                                                                         Rank cutoff: 100\n",
      "2024-07-04 15:28:10     6.8    INFO                                                                                                                                                                                         Rank cutoff: 500\n",
      "2024-07-04 15:28:42     6.8    INFO                                                                                                                                                                                         Rank cutoff: 1000\n",
      "2024-07-04 15:29:17     6.8    INFO                                                                                                                                                                                         Rank cutoff: 916 (auto-select)\n",
      "2024-07-04 15:29:52     6.8  STATUS                                                                                                                                                                                     COMPLETED Region Type: genes\n",
      "2024-07-04 15:29:52     6.8  STATUS                                                                                                                                                                                     STARTED Region Type: promoters\n",
      "2024-07-04 15:29:52     6.8    INFO                                                                                                                                                                                         Rank cutoff: 100\n",
      "2024-07-04 15:30:24     6.8    INFO                                                                                                                                                                                         Rank cutoff: 500\n",
      "2024-07-04 15:30:58     6.7    INFO                                                                                                                                                                                         Rank cutoff: 1000\n",
      "2024-07-04 15:31:37     6.9    INFO                                                                                                                                                                                         Rank cutoff: 965 (auto-select)\n",
      "2024-07-04 15:32:10     7.0  STATUS                                                                                                                                                                                     COMPLETED Region Type: promoters\n",
      "2024-07-04 15:32:10     7.0  STATUS                                                                                                                                                                                     STARTED Region Type: cpgislands\n",
      "2024-07-04 15:32:11     7.0    INFO                                                                                                                                                                                         Not annotated with entrezID --> Skipped\n",
      "2024-07-04 15:32:11     7.0  STATUS                                                                                                                                                                                     COMPLETED Region Type: cpgislands\n",
      "2024-07-04 15:32:12     7.0  STATUS                                                                                                                                                                                 COMPLETED Region Level\n",
      "2024-07-04 15:32:12     7.0  STATUS                                                                                                                                                                             COMPLETED Ontology:  BP\n",
      "2024-07-04 15:32:12     7.0  STATUS                                                                                                                                                                             STARTED Ontology:  MF\n",
      "2024-07-04 15:32:13     7.0  STATUS                                                                                                                                                                                 STARTED Region Level\n",
      "2024-07-04 15:32:13     7.0  STATUS                                                                                                                                                                                     STARTED Region Type: tiling\n",
      "2024-07-04 15:32:14     7.0    INFO                                                                                                                                                                                         Not annotated with entrezID --> Skipped\n",
      "2024-07-04 15:32:14     7.0  STATUS                                                                                                                                                                                     COMPLETED Region Type: tiling\n",
      "2024-07-04 15:32:14     7.0  STATUS                                                                                                                                                                                     STARTED Region Type: genes\n",
      "2024-07-04 15:32:15     7.0    INFO                                                                                                                                                                                         Rank cutoff: 100\n",
      "2024-07-04 15:32:26     6.7    INFO                                                                                                                                                                                         Rank cutoff: 500\n",
      "2024-07-04 15:32:36     6.7    INFO                                                                                                                                                                                         Rank cutoff: 1000\n",
      "2024-07-04 15:32:47     6.7    INFO                                                                                                                                                                                         Rank cutoff: 916 (auto-select)\n",
      "2024-07-04 15:32:59     6.7  STATUS                                                                                                                                                                                     COMPLETED Region Type: genes\n",
      "2024-07-04 15:32:59     6.7  STATUS                                                                                                                                                                                     STARTED Region Type: promoters\n",
      "2024-07-04 15:33:00     6.7    INFO                                                                                                                                                                                         Rank cutoff: 100\n",
      "2024-07-04 15:33:12     6.7    INFO                                                                                                                                                                                         Rank cutoff: 500\n",
      "2024-07-04 15:33:24     6.7    INFO                                                                                                                                                                                         Rank cutoff: 1000\n",
      "2024-07-04 15:33:37     6.7    INFO                                                                                                                                                                                         Rank cutoff: 965 (auto-select)\n",
      "2024-07-04 15:33:50     6.6  STATUS                                                                                                                                                                                     COMPLETED Region Type: promoters\n",
      "2024-07-04 15:33:50     6.6  STATUS                                                                                                                                                                                     STARTED Region Type: cpgislands\n",
      "2024-07-04 15:33:51     6.6    INFO                                                                                                                                                                                         Not annotated with entrezID --> Skipped\n",
      "2024-07-04 15:33:51     6.6  STATUS                                                                                                                                                                                     COMPLETED Region Type: cpgislands\n",
      "2024-07-04 15:33:52     6.6  STATUS                                                                                                                                                                                 COMPLETED Region Level\n",
      "2024-07-04 15:33:52     6.6  STATUS                                                                                                                                                                             COMPLETED Ontology:  MF\n",
      "2024-07-04 15:33:52     6.6  STATUS                                                                                                                                                                         COMPLETED Comparison:  Normal vs. Tumour (based on Tumour.Normal)\n",
      "2024-07-04 15:33:53     6.6  STATUS                                                                                                                                                                     COMPLETED Differential Methylation GO Enrichment Analysis\n",
      "2024-07-04 15:33:53     6.6  STATUS                                                                                                                                                                     STARTED Differential Variability Enrichment Analysis\n",
      "2024-07-04 15:33:54     6.6  STATUS                                                                                                                                                                         STARTED Comparison:  Cell-line vs. Tissue (based on Sample.Type)\n",
      "2024-07-04 15:33:54     6.6  STATUS                                                                                                                                                                             STARTED Ontology:  BP\n",
      "2024-07-04 15:33:54     6.6  STATUS                                                                                                                                                                                 STARTED Region Level\n",
      "2024-07-04 15:33:55     6.6  STATUS                                                                                                                                                                                     STARTED Region Type: tiling\n",
      "2024-07-04 15:33:55     6.6    INFO                                                                                                                                                                                         Not annotated with entrezID --> Skipped\n",
      "2024-07-04 15:33:56     6.6  STATUS                                                                                                                                                                                     COMPLETED Region Type: tiling\n",
      "2024-07-04 15:33:56     6.6  STATUS                                                                                                                                                                                     STARTED Region Type: genes\n",
      "2024-07-04 15:33:57     6.6    INFO                                                                                                                                                                                         Rank cutoff: 100\n",
      "2024-07-04 15:34:23     6.8    INFO                                                                                                                                                                                         Rank cutoff: 500\n",
      "2024-07-04 15:34:56     6.9    INFO                                                                                                                                                                                         Rank cutoff: 1000\n",
      "2024-07-04 15:35:27     7.1    INFO                                                                                                                                                                                         Rank cutoff: 1009 (auto-select)\n",
      "2024-07-04 15:35:59     7.0  STATUS                                                                                                                                                                                     COMPLETED Region Type: genes\n",
      "2024-07-04 15:35:59     7.0  STATUS                                                                                                                                                                                     STARTED Region Type: promoters\n",
      "2024-07-04 15:36:00     7.0    INFO                                                                                                                                                                                         Rank cutoff: 100\n",
      "2024-07-04 15:36:30     6.7    INFO                                                                                                                                                                                         Rank cutoff: 500\n",
      "2024-07-04 15:37:05     6.7    INFO                                                                                                                                                                                         Rank cutoff: 1000\n",
      "2024-07-04 15:37:39     6.9    INFO                                                                                                                                                                                         Rank cutoff: 1500 (auto-select)\n",
      "2024-07-04 15:38:07     6.7  STATUS                                                                                                                                                                                     COMPLETED Region Type: promoters\n",
      "2024-07-04 15:38:07     6.7  STATUS                                                                                                                                                                                     STARTED Region Type: cpgislands\n",
      "2024-07-04 15:38:08     6.7    INFO                                                                                                                                                                                         Not annotated with entrezID --> Skipped\n",
      "2024-07-04 15:38:08     6.7  STATUS                                                                                                                                                                                     COMPLETED Region Type: cpgislands\n",
      "2024-07-04 15:38:09     6.7  STATUS                                                                                                                                                                                 COMPLETED Region Level\n",
      "2024-07-04 15:38:09     6.7  STATUS                                                                                                                                                                             COMPLETED Ontology:  BP\n",
      "2024-07-04 15:38:09     6.7  STATUS                                                                                                                                                                             STARTED Ontology:  MF\n",
      "2024-07-04 15:38:10     6.7  STATUS                                                                                                                                                                                 STARTED Region Level\n",
      "2024-07-04 15:38:10     6.7  STATUS                                                                                                                                                                                     STARTED Region Type: tiling\n",
      "2024-07-04 15:38:11     6.7    INFO                                                                                                                                                                                         Not annotated with entrezID --> Skipped\n",
      "2024-07-04 15:38:11     6.7  STATUS                                                                                                                                                                                     COMPLETED Region Type: tiling\n",
      "2024-07-04 15:38:12     6.7  STATUS                                                                                                                                                                                     STARTED Region Type: genes\n",
      "2024-07-04 15:38:12     6.7    INFO                                                                                                                                                                                         Rank cutoff: 100\n",
      "2024-07-04 15:38:24     6.6    INFO                                                                                                                                                                                         Rank cutoff: 500\n",
      "2024-07-04 15:38:34     6.6    INFO                                                                                                                                                                                         Rank cutoff: 1000\n",
      "2024-07-04 15:38:46     6.6    INFO                                                                                                                                                                                         Rank cutoff: 1009 (auto-select)\n",
      "2024-07-04 15:38:57     6.6  STATUS                                                                                                                                                                                     COMPLETED Region Type: genes\n",
      "2024-07-04 15:38:58     6.6  STATUS                                                                                                                                                                                     STARTED Region Type: promoters\n",
      "2024-07-04 15:38:59     6.6    INFO                                                                                                                                                                                         Rank cutoff: 100\n",
      "2024-07-04 15:39:11     6.6    INFO                                                                                                                                                                                         Rank cutoff: 500\n",
      "2024-07-04 15:39:23     6.6    INFO                                                                                                                                                                                         Rank cutoff: 1000\n",
      "2024-07-04 15:39:35     6.6    INFO                                                                                                                                                                                         Rank cutoff: 1500 (auto-select)\n",
      "2024-07-04 15:39:51     6.6  STATUS                                                                                                                                                                                     COMPLETED Region Type: promoters\n",
      "2024-07-04 15:39:52     6.6  STATUS                                                                                                                                                                                     STARTED Region Type: cpgislands\n",
      "2024-07-04 15:39:52     6.6    INFO                                                                                                                                                                                         Not annotated with entrezID --> Skipped\n",
      "2024-07-04 15:39:53     6.6  STATUS                                                                                                                                                                                     COMPLETED Region Type: cpgislands\n",
      "2024-07-04 15:39:53     6.6  STATUS                                                                                                                                                                                 COMPLETED Region Level\n",
      "2024-07-04 15:39:53     6.6  STATUS                                                                                                                                                                             COMPLETED Ontology:  MF\n",
      "2024-07-04 15:39:54     6.6  STATUS                                                                                                                                                                         COMPLETED Comparison:  Cell-line vs. Tissue (based on Sample.Type)\n",
      "2024-07-04 15:39:54     6.6  STATUS                                                                                                                                                                         STARTED Comparison:  Normal vs. Tumour (based on Tumour.Normal)\n",
      "2024-07-04 15:39:55     6.6  STATUS                                                                                                                                                                             STARTED Ontology:  BP\n",
      "2024-07-04 15:39:55     6.6  STATUS                                                                                                                                                                                 STARTED Region Level\n",
      "2024-07-04 15:39:55     6.6  STATUS                                                                                                                                                                                     STARTED Region Type: tiling\n",
      "2024-07-04 15:39:56     6.6    INFO                                                                                                                                                                                         Not annotated with entrezID --> Skipped\n",
      "2024-07-04 15:39:56     6.6  STATUS                                                                                                                                                                                     COMPLETED Region Type: tiling\n",
      "2024-07-04 15:39:57     6.6  STATUS                                                                                                                                                                                     STARTED Region Type: genes\n",
      "2024-07-04 15:39:57     6.6    INFO                                                                                                                                                                                         Rank cutoff: 100\n",
      "2024-07-04 15:40:23     6.6    INFO                                                                                                                                                                                         Rank cutoff: 500\n",
      "2024-07-04 15:40:54     6.7    INFO                                                                                                                                                                                         Rank cutoff: 1000\n",
      "2024-07-04 15:41:28     7.4    INFO                                                                                                                                                                                         Rank cutoff: 894 (auto-select)\n",
      "2024-07-04 15:42:03     7.5  STATUS                                                                                                                                                                                     COMPLETED Region Type: genes\n",
      "2024-07-04 15:42:04     7.5  STATUS                                                                                                                                                                                     STARTED Region Type: promoters\n",
      "2024-07-04 15:42:04     7.5    INFO                                                                                                                                                                                         Rank cutoff: 100\n",
      "2024-07-04 15:42:33     7.0    INFO                                                                                                                                                                                         Rank cutoff: 500\n",
      "2024-07-04 15:43:07     6.9    INFO                                                                                                                                                                                         Rank cutoff: 1000\n",
      "2024-07-04 15:43:43     7.3    INFO                                                                                                                                                                                         Rank cutoff: 1201 (auto-select)\n",
      "2024-07-04 15:44:22     7.3  STATUS                                                                                                                                                                                     COMPLETED Region Type: promoters\n",
      "2024-07-04 15:44:22     7.3  STATUS                                                                                                                                                                                     STARTED Region Type: cpgislands\n",
      "2024-07-04 15:44:23     7.3    INFO                                                                                                                                                                                         Not annotated with entrezID --> Skipped\n",
      "2024-07-04 15:44:23     7.3  STATUS                                                                                                                                                                                     COMPLETED Region Type: cpgislands\n",
      "2024-07-04 15:44:23     7.3  STATUS                                                                                                                                                                                 COMPLETED Region Level\n",
      "2024-07-04 15:44:24     7.3  STATUS                                                                                                                                                                             COMPLETED Ontology:  BP\n",
      "2024-07-04 15:44:24     7.3  STATUS                                                                                                                                                                             STARTED Ontology:  MF\n",
      "2024-07-04 15:44:25     7.3  STATUS                                                                                                                                                                                 STARTED Region Level\n",
      "2024-07-04 15:44:25     7.3  STATUS                                                                                                                                                                                     STARTED Region Type: tiling\n",
      "2024-07-04 15:44:25     7.3    INFO                                                                                                                                                                                         Not annotated with entrezID --> Skipped\n",
      "2024-07-04 15:44:26     7.3  STATUS                                                                                                                                                                                     COMPLETED Region Type: tiling\n",
      "2024-07-04 15:44:26     7.3  STATUS                                                                                                                                                                                     STARTED Region Type: genes\n",
      "2024-07-04 15:44:27     7.3    INFO                                                                                                                                                                                         Rank cutoff: 100\n",
      "2024-07-04 15:44:37     7.0    INFO                                                                                                                                                                                         Rank cutoff: 500\n",
      "2024-07-04 15:44:48     7.0    INFO                                                                                                                                                                                         Rank cutoff: 1000\n",
      "2024-07-04 15:44:59     7.0    INFO                                                                                                                                                                                         Rank cutoff: 894 (auto-select)\n",
      "2024-07-04 15:45:10     7.0  STATUS                                                                                                                                                                                     COMPLETED Region Type: genes\n",
      "2024-07-04 15:45:11     7.0  STATUS                                                                                                                                                                                     STARTED Region Type: promoters\n",
      "2024-07-04 15:45:12     7.0    INFO                                                                                                                                                                                         Rank cutoff: 100\n",
      "2024-07-04 15:45:25     7.0    INFO                                                                                                                                                                                         Rank cutoff: 500\n",
      "2024-07-04 15:45:35     7.0    INFO                                                                                                                                                                                         Rank cutoff: 1000\n",
      "2024-07-04 15:45:46     7.0    INFO                                                                                                                                                                                         Rank cutoff: 1201 (auto-select)\n",
      "2024-07-04 15:45:58     7.0  STATUS                                                                                                                                                                                     COMPLETED Region Type: promoters\n",
      "2024-07-04 15:45:59     7.0  STATUS                                                                                                                                                                                     STARTED Region Type: cpgislands\n",
      "2024-07-04 15:45:59     7.0    INFO                                                                                                                                                                                         Not annotated with entrezID --> Skipped\n",
      "2024-07-04 15:45:59     7.0  STATUS                                                                                                                                                                                     COMPLETED Region Type: cpgislands\n",
      "2024-07-04 15:46:00     7.0  STATUS                                                                                                                                                                                 COMPLETED Region Level\n",
      "2024-07-04 15:46:00     7.0  STATUS                                                                                                                                                                             COMPLETED Ontology:  MF\n",
      "2024-07-04 15:46:00     7.0  STATUS                                                                                                                                                                         COMPLETED Comparison:  Normal vs. Tumour (based on Tumour.Normal)\n",
      "2024-07-04 15:46:01     7.0  STATUS                                                                                                                                                                     COMPLETED Differential Variability Enrichment Analysis\n",
      "2024-07-04 15:46:01     7.0  STATUS                                                                                                                                                                 COMPLETED Analysis\n",
      "2024-07-04 15:46:02     7.0  STATUS                                                                                                                                                                 STARTED Saving temp objects for debugging\n",
      "2024-07-04 15:46:58     7.0  STATUS                                                                                                                                                                 COMPLETED Saving temp objects for debugging\n",
      "2024-07-04 15:46:59     7.0  STATUS                                                                                                                                                                 STARTED Report Generation\n",
      "2024-07-04 15:46:59     7.0  STATUS                                                                                                                                                                     Added introductory section\n",
      "2024-07-04 15:46:59     7.0  STATUS                                                                                                                                                                     STARTED Adding Site Level Information\n",
      "2024-07-04 15:47:00     7.0  STATUS                                                                                                                                                                         STARTED Selection of rank cutoffs\n"
     ]
    },
    {
     "name": "stderr",
     "output_type": "stream",
     "text": [
      "opening ff /private/var/folders/y0/1cs3npgn3jn68yvgp05r7ntc0000gr/T/RtmpFg381V/diffMethTables_444651156d4/sites_cmp1.ff\n",
      "\n",
      "opening ff /private/var/folders/y0/1cs3npgn3jn68yvgp05r7ntc0000gr/T/RtmpFg381V/diffMethTables_444651156d4/sites_cmp2.ff\n",
      "\n"
     ]
    },
    {
     "name": "stdout",
     "output_type": "stream",
     "text": [
      "2024-07-04 15:47:01     7.0  STATUS                                                                                                                                                                         COMPLETED Selection of rank cutoffs\n",
      "2024-07-04 15:47:02     7.0  STATUS                                                                                                                                                                         STARTED Adding scatterplots\n",
      "2024-07-04 15:53:53     9.0  STATUS                                                                                                                                                                         COMPLETED Adding scatterplots\n",
      "2024-07-04 15:53:53     9.0  STATUS                                                                                                                                                                         STARTED Adding volcano plots\n",
      "2024-07-04 15:55:57     8.0  STATUS                                                                                                                                                                         COMPLETED Adding volcano plots\n",
      "2024-07-04 15:55:57     8.0  STATUS                                                                                                                                                                         STARTED Adding tables\n",
      "2024-07-04 15:56:25     8.6    INFO                                                                                                                                                                             Saving table(s) containing only nv-probes\n",
      "2024-07-04 15:56:26     8.6    INFO                                                                                                                                                                             Enriching nv-probes comparison table with HGNC symbols. see: GeneSymbol column in the finished table.\n"
     ]
    },
    {
     "ename": "ERROR",
     "evalue": "Error in .lock2(dbfile, exclusive = TRUE): requested an exclusive lock when caller only holds a shared lock\n",
     "output_type": "error",
     "traceback": [
      "Error in .lock2(dbfile, exclusive = TRUE): requested an exclusive lock when caller only holds a shared lock\nTraceback:\n",
      "1. rnb.run.differential(rnb.set.norm, report.dir)",
      "2. rnb.section.diffMeth.site(rnb.set, diffmeth, report, gzTable = gz)",
      "3. get.genesymbol.of.coordinate(nv_diff[j, \"Start\"], nv_diff[j, \n .     \"Start\"], nv_diff[j, \"Chromosome\"], mart)",
      "4. paste(getBM(attributes = \"hgnc_symbol\", filter = c(\"chromosome_name\", \n .     \"start\", \"end\"), values = list(gsub(\"chr\", \"\", chromosome), \n .     start, end), mart = ensembl)$hgnc_symbol, collapse = \";\")",
      "5. standardGeneric(\"paste\")",
      "6. eval(quote(list(...)), env)",
      "7. eval(quote(list(...)), env)",
      "8. eval(quote(list(...)), env)",
      "9. getBM(attributes = \"hgnc_symbol\", filter = c(\"chromosome_name\", \n .     \"start\", \"end\"), values = list(gsub(\"chr\", \"\", chromosome), \n .     start, end), mart = ensembl)",
      "10. .addToCache(bfc = bfc, result = result, hash = hash)",
      "11. bfcadd(bfc, rname = hash, fpath = tf, action = \"asis\")",
      "12. bfcadd(bfc, rname = hash, fpath = tf, action = \"asis\")",
      "13. .sql_add_resource(x, rname, rtype, fpath, ext, fname)",
      "14. .sql_connect_RW(.sql_dbfile(bfc))",
      "15. .lock2(dbfile, exclusive = TRUE)",
      "16. stop(\"requested an exclusive lock when caller only holds a shared lock\")"
     ]
    }
   ],
   "source": [
    "rnb.options(\"differential.comparison.columns\"=c(\"Sample.Type\", \"Sample_Group\", \"Tumour.Normal\"), \n",
    "            \"columns.pairing\"=c(\"Sample.Type\"=\"Sample_Group\", \n",
    "                                \"Sample.Type\"=\"Tumour.Normal\",\n",
    "                                \"Sample_Group\"=\"Tumour.Normal\",\n",
    "                                \"Sample_Group\"=\"Sample_Type\",\n",
    "                                \"Tumour.Normal\"=\"Sample_Group\",\n",
    "                                \"Tumour.Normal\"=\"Sample_Type\"))\n",
    "rnb.run.differential(rnb.set.norm, report.dir)\n"
   ]
  },
  {
   "cell_type": "code",
   "execution_count": null,
   "metadata": {
    "vscode": {
     "languageId": "r"
    }
   },
   "outputs": [
    {
     "data": {
      "text/plain": [
       "Object of class RnBeadRawSet\n",
       "      96 samples\n",
       "  923798 probes\n",
       "\tof which: 920026 CpG, 2906 CpH, 62 rs and 804 nv\n",
       "Region types:\n",
       "\t  266859 regions of type tiling\n",
       "\t   38298 regions of type genes\n",
       "\t   45816 regions of type promoters\n",
       "\t   25381 regions of type cpgislands\n",
       "Intensity information is present\n",
       "Detection p-values are present\n",
       "Bead counts are present\n",
       "Quality control information is present\n",
       "Summary of normalization procedures:\n",
       "\tThe methylation data was not normalized.\n",
       "\tNo background correction was performed."
      ]
     },
     "metadata": {},
     "output_type": "display_data"
    },
    {
     "data": {
      "text/plain": [
       " Unknown Column 1     index        Sample_ID         Sample_Well       \n",
       " Min.   : 0.00    Min.   : 1.00   Length:96          Length:96         \n",
       " 1st Qu.:23.75    1st Qu.:24.75   Class :character   Class :character  \n",
       " Median :47.50    Median :48.50   Mode  :character   Mode  :character  \n",
       " Mean   :47.50    Mean   :48.50                                        \n",
       " 3rd Qu.:71.25    3rd Qu.:72.25                                        \n",
       " Max.   :95.00    Max.   :96.00                                        \n",
       " Sample_Plate       Sample_Name        Pool_ID        Sample_Group      \n",
       " Length:96          Length:96          Mode:logical   Length:96         \n",
       " Class :character   Class :character   NA's:96        Class :character  \n",
       " Mode  :character   Mode  :character                  Mode  :character  \n",
       "                                                                        \n",
       "                                                                        \n",
       "                                                                        \n",
       "   I.D.Code            Sample          Sample.Type        Tumour.Normal     \n",
       " Length:96          Length:96          Length:96          Length:96         \n",
       " Class :character   Class :character   Class :character   Class :character  \n",
       " Mode  :character   Mode  :character   Mode  :character   Mode  :character  \n",
       "                                                                            \n",
       "                                                                            \n",
       "                                                                            \n",
       "  Collection        Institution        Sentrix_Position     Sentrix_ID       \n",
       " Length:96          Length:96          Length:96          Min.   :2.079e+11  \n",
       " Class :character   Class :character   Class :character   1st Qu.:2.079e+11  \n",
       " Mode  :character   Mode  :character   Mode  :character   Median :2.079e+11  \n",
       "                                                          Mean   :2.079e+11  \n",
       "                                                          3rd Qu.:2.079e+11  \n",
       "                                                          Max.   :2.079e+11  \n",
       "   Basename           barcode         \n",
       " Length:96          Length:96         \n",
       " Class :character   Class :character  \n",
       " Mode  :character   Mode  :character  \n",
       "                                      \n",
       "                                      \n",
       "                                      "
      ]
     },
     "metadata": {},
     "output_type": "display_data"
    }
   ],
   "source": [
    "rnb.set.norm\n",
    "summary(pheno(rnb.set.norm))\n"
   ]
  },
  {
   "cell_type": "code",
   "execution_count": null,
   "metadata": {
    "vscode": {
     "languageId": "r"
    }
   },
   "outputs": [
    {
     "name": "stdout",
     "output_type": "stream",
     "text": [
      "2024-07-04 10:04:50    11.0  STATUS                                     STARTED Retrieving comparison info\n",
      "2024-07-04 10:04:50    11.0  STATUS                                     COMPLETED Retrieving comparison info\n",
      "2024-07-04 10:04:51    11.0  STATUS                                     STARTED Computing differential methylation tables\n",
      "2024-07-04 10:04:51    11.0  STATUS                                         STARTED Comparing: Cell-line vs. Tissue (based on Sample.Type)\n",
      "2024-07-04 10:04:51    11.0  STATUS                                             STARTED Computing Differential Methylation Table\n",
      "2024-07-04 10:04:52    13.0    INFO                                                 Conducting differential analysis using limma\n",
      "2024-07-04 10:05:25    14.0  STATUS                                             COMPLETED Computing Differential Methylation Table\n",
      "2024-07-04 10:05:26    15.0  STATUS                                             STARTED Computing Differential Methylation Tables (Region Level)\n",
      "2024-07-04 10:05:59     9.1  STATUS                                                 Computed table for tiling\n",
      "2024-07-04 10:06:06     6.2  STATUS                                                 Computed table for genes\n",
      "2024-07-04 10:06:12     6.2  STATUS                                                 Computed table for promoters\n",
      "2024-07-04 10:06:18     6.2  STATUS                                                 Computed table for cpgislands\n",
      "2024-07-04 10:06:18     6.2  STATUS                                             COMPLETED Computing Differential Methylation Tables (Region Level)\n",
      "2024-07-04 10:06:19     6.2  STATUS                                         COMPLETED Comparing: Cell-line vs. Tissue (based on Sample.Type)\n",
      "2024-07-04 10:06:19     6.2  STATUS                                     COMPLETED Computing differential methylation tables\n"
     ]
    },
    {
     "data": {
      "text/html": [
       "<strong>cmp1:</strong> 'Cell-line vs. Tissue (based on Sample.Type)'"
      ],
      "text/latex": [
       "\\textbf{cmp1:} 'Cell-line vs. Tissue (based on Sample.Type)'"
      ],
      "text/markdown": [
       "**cmp1:** 'Cell-line vs. Tissue (based on Sample.Type)'"
      ],
      "text/plain": [
       "                                         cmp1 \n",
       "\"Cell-line vs. Tissue (based on Sample.Type)\" "
      ]
     },
     "metadata": {},
     "output_type": "display_data"
    }
   ],
   "source": [
    "cmp.cols <- \"Sample_Group\"\n",
    "diffmeth <- rnb.execute.computeDiffMeth(rnb.set.norm, pheno.cols=c(\"Sample_Group\",\"Sample.Type\"))\n",
    "\n"
   ]
  },
  {
   "cell_type": "code",
   "execution_count": null,
   "metadata": {
    "vscode": {
     "languageId": "r"
    }
   },
   "outputs": [
    {
     "name": "stdout",
     "output_type": "stream",
     "text": [
      "'data.frame':\t923798 obs. of  24 variables:\n",
      " $ mean.g1                : num  0.0246 0.2409 0.3854 0.389 0.3149 ...\n",
      " $ mean.g2                : num  0.0222 0.5574 0.2937 0.4715 0.3276 ...\n",
      " $ mean.diff              : num  0.00243 -0.3165 0.0917 -0.08249 -0.01271 ...\n",
      " $ mean.quot.log2         : num  0.1049 -1.1771 0.3807 -0.2712 -0.0554 ...\n",
      " $ diffmeth.p.val         : num  7.95e-02 7.31e-16 1.21e-02 1.65e-03 3.78e-01 ...\n",
      " $ max.g1                 : num  0.0456 0.5735 0.622 0.6423 0.4939 ...\n",
      " $ min.g1                 : num  0.0149 0.033 0.0718 0.1754 0.1253 ...\n",
      " $ sd.g1                  : num  0.00654 0.14642 0.17014 0.13861 0.09492 ...\n",
      " $ max.g2                 : num  0.0345 0.82 0.5868 0.7128 0.5107 ...\n",
      " $ min.g2                 : num  0.00565 0.14967 0.09946 0.22286 0.12891 ...\n",
      " $ sd.g2                  : num  0.00558 0.14797 0.0861 0.11015 0.07612 ...\n",
      " $ min.diff               : num  0 0 0 0 0 0 0 0 0 0 ...\n",
      " $ diffmeth.p.adj.fdr     : num  1.23e-01 1.64e-14 2.35e-02 3.94e-03 4.63e-01 ...\n",
      " $ num.na.g1              : num  0 0 0 0 0 0 0 0 0 0 ...\n",
      " $ num.na.g2              : num  0 0 0 0 0 0 0 0 0 0 ...\n",
      " $ mean.covg.g1           : num  10.6 14 10.6 10.3 12.7 ...\n",
      " $ mean.covg.g2           : num  11 13.8 12.1 10.7 12.8 ...\n",
      " $ min.covg.g1            : num  4 7 4 3 3 6 6 5 4 6 ...\n",
      " $ min.covg.g2            : num  4 5 3 4 6 4 4 6 3 4 ...\n",
      " $ max.covg.g1            : num  18 20 17 18 20 23 22 20 17 20 ...\n",
      " $ max.covg.g2            : num  17 22 23 20 22 20 21 22 22 20 ...\n",
      " $ covg.thresh.nsamples.g1: num  28 30 29 28 29 30 30 30 29 30 ...\n",
      " $ covg.thresh.nsamples.g2: num  65 66 65 64 66 65 65 66 65 64 ...\n",
      " $ combinedRank           : num  851260 45509 476354 387422 753658 ...\n"
     ]
    }
   ],
   "source": [
    "comparison <- get.comparisons(diffmeth)[1]\n",
    "tab.sites <- get.table(diffmeth, comparison, \"sites\", return.data.frame=TRUE)\n",
    "str(tab.sites)\n"
   ]
  },
  {
   "cell_type": "code",
   "execution_count": null,
   "metadata": {
    "vscode": {
     "languageId": "r"
    }
   },
   "outputs": [
    {
     "name": "stdout",
     "output_type": "stream",
     "text": [
      "'data.frame':\t45816 obs. of  14 variables:\n",
      " $ mean.mean.g1                : num  0.0246 0.0246 0.0246 0.0315 0.1229 ...\n",
      " $ mean.mean.g2                : num  0.0222 0.0222 0.0222 0.0316 0.1049 ...\n",
      " $ mean.mean.diff              : num  0.002426 0.002426 0.002426 -0.000144 0.017964 ...\n",
      " $ mean.mean.quot.log2         : num  0.105 0.105 0.105 -0.005 0.21 ...\n",
      " $ comb.p.val                  : num  0.079456 0.079456 0.079456 0.737653 0.000165 ...\n",
      " $ comb.p.adj.fdr              : num  0.095941 0.095941 0.095941 0.744823 0.000422 ...\n",
      " $ num.sites                   : num  1 1 1 1 1 1 1 1 1 2 ...\n",
      " $ mean.num.na.g1              : num  0 0 0 0 0 0 0 0 0 0 ...\n",
      " $ mean.num.na.g2              : num  0 0 0 0 0 0 0 0 0 0 ...\n",
      " $ mean.mean.covg.g1           : num  10.6 10.6 10.6 8.77 11.8 ...\n",
      " $ mean.mean.covg.g2           : num  11.05 11.05 11.05 9.27 10.68 ...\n",
      " $ mean.nsamples.covg.thresh.g1: num  28 28 28 25 30 30 30 30 29 30 ...\n",
      " $ mean.nsamples.covg.thresh.g2: num  65 65 65 63 65 65 65 65 65 65.5 ...\n",
      " $ combinedRank                : num  42307 42307 42307 45591 31682 ...\n"
     ]
    }
   ],
   "source": [
    "tab.promoters <- get.table(diffmeth, comparison, \"promoters\",\n",
    "return.data.frame=TRUE)\n",
    "str(tab.promoters)"
   ]
  },
  {
   "cell_type": "code",
   "execution_count": null,
   "metadata": {
    "vscode": {
     "languageId": "r"
    }
   },
   "outputs": [
    {
     "data": {
      "image/png": "[encoded data removed]",
      "text/plain": [
       "plot without title"
      ]
     },
     "metadata": {
      "image/png": {
       "height": 420,
       "width": 420
      }
     },
     "output_type": "display_data"
    }
   ],
   "source": [
    "dmps <- tab.sites[order(tab.sites[, \"combinedRank\"]), ]\n",
    "which.diffmeth <- abs(dmps[, \"mean.diff\"]) > 0.2 & dmps$diffmeth.p.adj.fdr<0.05\n",
    "  dmps.cutoff <- dmps[which.diffmeth, ]\n",
    "dmrs <- get.table(diffmeth, comparison, \"promoters\")\n",
    "\n",
    "plot(dmrs[, \"mean.mean.diff\"], -log10(dmrs[, \"comb.p.val\"]),\n",
    "xlab=\"mean difference\", ylab=\"-log10(combined p-value)\", col=\"blue\")"
   ]
  },
  {
   "cell_type": "markdown",
   "metadata": {},
   "source": [
    "## Differential variability analysis"
   ]
  },
  {
   "cell_type": "code",
   "execution_count": null,
   "metadata": {
    "vscode": {
     "languageId": "r"
    }
   },
   "outputs": [
    {
     "data": {
      "text/plain": [
       "Object of class RnBeadRawSet\n",
       "      96 samples\n",
       "  923798 probes\n",
       "\tof which: 920026 CpG, 2906 CpH, 62 rs and 804 nv\n",
       "Region types:\n",
       "\t  266859 regions of type tiling\n",
       "\t   38298 regions of type genes\n",
       "\t   45816 regions of type promoters\n",
       "\t   25381 regions of type cpgislands\n",
       "Intensity information is present\n",
       "Detection p-values are present\n",
       "Bead counts are present\n",
       "Quality control information is present\n",
       "Summary of normalization procedures:\n",
       "\tThe methylation data was not normalized.\n",
       "\tNo background correction was performed."
      ]
     },
     "metadata": {},
     "output_type": "display_data"
    }
   ],
   "source": [
    "rnb.set.norm"
   ]
  },
  {
   "cell_type": "code",
   "execution_count": null,
   "metadata": {
    "vscode": {
     "languageId": "r"
    }
   },
   "outputs": [
    {
     "name": "stdout",
     "output_type": "stream",
     "text": [
      "2024-07-04 09:30:54    15.0  STATUS                     STARTED Differential Variability\n",
      "2024-07-04 09:30:54    15.0  STATUS                         STARTED Retrieving comparison info\n",
      "2024-07-04 09:30:55    15.0 WARNING                             No valid grouping information found. NULL returned\n",
      "2024-07-04 09:30:55    15.0  STATUS                         COMPLETED Retrieving comparison info\n"
     ]
    },
    {
     "data": {
      "text/plain": [
       "NULL"
      ]
     },
     "metadata": {},
     "output_type": "display_data"
    },
    {
     "ename": "ERROR",
     "evalue": "Error: unable to find an inherited method for function 'get.comparisons' for signature 'object = \"NULL\"'\n",
     "output_type": "error",
     "traceback": [
      "Error: unable to find an inherited method for function 'get.comparisons' for signature 'object = \"NULL\"'\nTraceback:\n",
      "1. get.comparisons(diff.var)",
      "2. (function (classes, fdef, mtable) \n . {\n .     methods <- .findInheritedMethods(classes, fdef, mtable)\n .     if (length(methods) == 1L) \n .         return(methods[[1L]])\n .     else if (length(methods) == 0L) {\n .         cnames <- paste0(fdef@signature[seq_along(classes)], \n .             \" = \\\"\", vapply(classes, as.character, \"\"), \"\\\"\", \n .             collapse = \", \")\n .         stop(gettextf(\"unable to find an inherited method for function %s for signature %s\", \n .             sQuote(fdef@generic), sQuote(cnames)), call. = FALSE, \n .             domain = NA)\n .     }\n .     else stop(\"Internal error in finding inherited methods; didn't return a unique method\", \n .         domain = NA)\n . })(list(\"NULL\"), new(\"standardGeneric\", .Data = function (object) \n . standardGeneric(\"get.comparisons\"), generic = structure(\"get.comparisons\", package = \"RnBeads\"), \n .     package = \"RnBeads\", group = list(), valueClass = character(0), \n .     signature = \"object\", default = NULL, skeleton = (function (object) \n .     stop(gettextf(\"invalid call in method dispatch to '%s' (no default method)\", \n .         \"get.comparisons\"), domain = NA))(object)), <environment>)",
      "3. stop(gettextf(\"unable to find an inherited method for function %s for signature %s\", \n .     sQuote(fdef@generic), sQuote(cnames)), call. = FALSE, domain = NA)"
     ]
    }
   ],
   "source": [
    "cmp.cols <- \"Sample_Group\"\n",
    "reg.types <- c(\"genes\", \"promoters\")\n",
    "diff.var <- rnb.execute.diffVar(rnb.set, cmp.cols, region.types=reg.types)\n",
    "diff.var\n",
    "\n",
    "comparison <- get.comparisons(diff.var)[1]\n",
    "tab.sites <- get.table(diff.var, comparison,\"sites\", return.data.frame=TRUE)\n",
    "tab.genes <- get.table(diff.var, comparison,\"genes\", return.data.frame=TRUE)"
   ]
  },
  {
   "cell_type": "code",
   "execution_count": null,
   "metadata": {
    "vscode": {
     "languageId": "r"
    }
   },
   "outputs": [],
   "source": []
  }
 ],
 "metadata": {
  "kernelspec": {
   "display_name": "R",
   "language": "R",
   "name": "ir"
  },
  "language_info": {
   "codemirror_mode": "r",
   "file_extension": ".r",
   "mimetype": "text/x-r-source",
   "name": "R",
   "pygments_lexer": "r",
   "version": "4.4.0"
  }
 },
 "nbformat": 4,
 "nbformat_minor": 2
}
