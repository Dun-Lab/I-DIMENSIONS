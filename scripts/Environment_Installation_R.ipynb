{
 "cells": [
  {
   "cell_type": "code",
   "execution_count": null,
   "metadata": {
    "vscode": {
     "languageId": "r"
    }
   },
   "outputs": [],
   "source": [
    "# Install BiocManager if not already installed\n",
    "if (!requireNamespace(\"BiocManager\", quietly = TRUE)) {\n",
    "  install.packages(\"BiocManager\")\n",
    "}\n",
    "\n",
    "# Install CRAN packages\n",
    "install.packages(c(\"knitr\", \"RColorBrewer\", \"stringr\", \"shinyjs\", \"plotrix\"))\n",
    "\n",
    "\n",
    "# Install Bioconductor packages\n",
    "BiocManager::install(c(\n",
    "  \"limma\",\n",
    "  \"minfi\",\n",
    "  \"missMethyl\",\n",
    "  \"minfiData\",\n",
    "  \"Gviz\",\n",
    "  \"DMRcate\",\n",
    "  \"ChAMP\",\n",
    "  \"methylationArrayAnalysis\",\n",
    "  \"IlluminaHumanMethylationEPICv2manifest\",\n",
    "  \"IlluminaHumanMethylationEPICv2anno.20a1.hg38\",\n",
    "  \"ConsensusClusterPlus\",\n",
    "  \"sva\",\n",
    "  \"RnBeads\", \n",
    "  \"RnBeads.hg38\",\n",
    "  \"GenomicRanges\", \n",
    "  \"GenomeInfoDb\", \n",
    "  \"IRanges\",\n",
    "  \"GOstats\",\n",
    "  \"AnnotationDbi\"\n",
    "))"
   ]
  }
 ],
 "metadata": {
  "language_info": {
   "name": "python"
  }
 },
 "nbformat": 4,
 "nbformat_minor": 2
}
