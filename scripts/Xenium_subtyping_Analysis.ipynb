{
 "cells": [
  {
   "cell_type": "markdown",
   "metadata": {},
   "source": [
    "# Subtyping DMG from Xenium data by multi-view learning"
   ]
  },
  {
   "cell_type": "markdown",
   "metadata": {},
   "source": [
    "* Summary\n",
    "  * DMG is classified in four subtypes by the 2021 edition of the WHO Classification of CNS tumors. Previous study mainly leverage DNA methylation landscape to classify the DMG subgroups. Xenium is a image-based single cell spatial transcriptomic techinique which enable to generate high resolution H&E image and RNA sequencing simoutanously. This bi-modality data provide a spatial-informed understanding of subgroups classification. In this study, we investigated that how subgroups distribute on the microenvironment and if there is new subgroup existed in DMG. We performed clustering analysis on the Xenium data to identify subgroups, then we conduct the cluster-specific differential gene expression analysis. The differential genes were used to identify the key pathway by enrichment analysis. Key findings provide better understanding of DMG and pave the way to the precision medicine.\n",
    "* Data\n",
    "  * Time-series Xenium data.\n",
    "  * Three mouse models, four time-points in total.\n",
    "* Tool\n",
    "  * Scanpy\n",
    "  * Squidpy\n",
    "  * Pytorch\n",
    "  "
   ]
  },
  {
   "cell_type": "markdown",
   "metadata": {},
   "source": [
    "# Clustering"
   ]
  },
  {
   "cell_type": "markdown",
   "metadata": {},
   "source": [
    "## Consensus clustering on H&E image"
   ]
  },
  {
   "cell_type": "markdown",
   "metadata": {},
   "source": [
    "Processing whole slide imaging is computational-intensive. To address this issue, we patchify the whole slide image into single cell level tiles. Then we used few methods to represent the H&E imaging:\n",
    "* Flatten the 3D pixel vector, then using PCA to reduce the dimensionality.\n",
    "* Using varational autoencoder to represent high dimensional image by low dimensional latent space.\n",
    "* Using pretrained foundation model to extract image features."
   ]
  },
  {
   "cell_type": "code",
   "execution_count": null,
   "metadata": {},
   "outputs": [],
   "source": []
  },
  {
   "cell_type": "code",
   "execution_count": null,
   "metadata": {},
   "outputs": [],
   "source": []
  },
  {
   "cell_type": "code",
   "execution_count": null,
   "metadata": {},
   "outputs": [],
   "source": []
  },
  {
   "cell_type": "code",
   "execution_count": null,
   "metadata": {},
   "outputs": [],
   "source": []
  },
  {
   "cell_type": "markdown",
   "metadata": {},
   "source": [
    "## Consensus clustering on RNA sequencing"
   ]
  },
  {
   "cell_type": "markdown",
   "metadata": {},
   "source": [
    "Even if the Xenium can only detect around three hundred genes, it is high dimensional data. We tried various methods to represent the RNA sequencing:\n",
    "* Autoencoder\n",
    "* Varational autoencoder\n",
    "* Graph autoencoder\n",
    "  * Distance-based graph\n",
    "  * Correlation-based graph"
   ]
  },
  {
   "cell_type": "code",
   "execution_count": null,
   "metadata": {},
   "outputs": [],
   "source": []
  },
  {
   "cell_type": "code",
   "execution_count": null,
   "metadata": {},
   "outputs": [],
   "source": []
  },
  {
   "cell_type": "code",
   "execution_count": null,
   "metadata": {},
   "outputs": [],
   "source": []
  },
  {
   "cell_type": "markdown",
   "metadata": {},
   "source": [
    "## Consensus clustering on combined data"
   ]
  },
  {
   "cell_type": "markdown",
   "metadata": {},
   "source": [
    "There are various ways to integrate the representation of H&E image and RNA sequencing. The simple way includes \n",
    "* concatenation\n",
    "* median aggregation \n",
    "* summation \n",
    "\n",
    "The complex way is to use contrastive learning to build a joint representation by maximize the mutual information between H&E and RNA sequencing."
   ]
  },
  {
   "cell_type": "code",
   "execution_count": null,
   "metadata": {},
   "outputs": [],
   "source": []
  },
  {
   "cell_type": "code",
   "execution_count": null,
   "metadata": {},
   "outputs": [],
   "source": []
  },
  {
   "cell_type": "code",
   "execution_count": null,
   "metadata": {},
   "outputs": [],
   "source": []
  },
  {
   "cell_type": "code",
   "execution_count": null,
   "metadata": {},
   "outputs": [],
   "source": []
  },
  {
   "cell_type": "markdown",
   "metadata": {},
   "source": []
  },
  {
   "cell_type": "markdown",
   "metadata": {},
   "source": [
    "# Differential analysis"
   ]
  },
  {
   "cell_type": "markdown",
   "metadata": {},
   "source": [
    "## Cluster-specific differential analysis"
   ]
  },
  {
   "cell_type": "code",
   "execution_count": null,
   "metadata": {},
   "outputs": [],
   "source": []
  },
  {
   "cell_type": "code",
   "execution_count": null,
   "metadata": {},
   "outputs": [],
   "source": []
  },
  {
   "cell_type": "code",
   "execution_count": null,
   "metadata": {},
   "outputs": [],
   "source": []
  },
  {
   "cell_type": "markdown",
   "metadata": {},
   "source": []
  },
  {
   "cell_type": "markdown",
   "metadata": {},
   "source": [
    "# Pathway analysis and enrichment analysis"
   ]
  },
  {
   "cell_type": "code",
   "execution_count": null,
   "metadata": {},
   "outputs": [],
   "source": []
  },
  {
   "cell_type": "code",
   "execution_count": null,
   "metadata": {},
   "outputs": [],
   "source": []
  },
  {
   "cell_type": "code",
   "execution_count": null,
   "metadata": {},
   "outputs": [],
   "source": []
  },
  {
   "cell_type": "code",
   "execution_count": null,
   "metadata": {},
   "outputs": [],
   "source": []
  },
  {
   "cell_type": "code",
   "execution_count": null,
   "metadata": {},
   "outputs": [],
   "source": []
  }
 ],
 "metadata": {
  "language_info": {
   "name": "python"
  }
 },
 "nbformat": 4,
 "nbformat_minor": 2
}
