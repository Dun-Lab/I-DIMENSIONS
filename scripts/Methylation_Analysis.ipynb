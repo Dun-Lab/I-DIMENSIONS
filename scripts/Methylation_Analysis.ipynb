{
 "cells": [
  {
   "cell_type": "code",
   "execution_count": null,
   "metadata": {
    "vscode": {
     "languageId": "r"
    }
   },
   "outputs": [],
   "source": [
    "# Install BiocManager if not already installed\n",
    "if (!requireNamespace(\"BiocManager\", quietly = TRUE)) {\n",
    "  install.packages(\"BiocManager\")\n",
    "}\n",
    "\n",
    "# Install CRAN packages\n",
    "install.packages(c(\"knitr\", \"RColorBrewer\", \"stringr\"))\n",
    "\n",
    "# Install Bioconductor packages\n",
    "BiocManager::install(c(\n",
    "  \"limma\",\n",
    "  \"minfi\",\n",
    "  \"IlluminaHumanMethylation450kanno.ilmn12.hg19\",\n",
    "  \"IlluminaHumanMethylation450kmanifest\",\n",
    "  \"missMethyl\",\n",
    "  \"minfiData\",\n",
    "  \"Gviz\",\n",
    "  \"DMRcate\",\n",
    "  \"methylationArrayAnalysis\"\n",
    "))\n"
   ]
  },
  {
   "cell_type": "markdown",
   "metadata": {},
   "source": [
    "# Differential methylation analysis"
   ]
  },
  {
   "cell_type": "markdown",
   "metadata": {},
   "source": [
    "## Environemnt setup"
   ]
  },
  {
   "cell_type": "code",
   "execution_count": 29,
   "metadata": {
    "vscode": {
     "languageId": "r"
    }
   },
   "outputs": [],
   "source": [
    "library(IlluminaHumanMethylationEPICanno.ilm10b4.hg19)\n"
   ]
  },
  {
   "cell_type": "code",
   "execution_count": 2,
   "metadata": {
    "vscode": {
     "languageId": "r"
    }
   },
   "outputs": [
    {
     "name": "stderr",
     "output_type": "stream",
     "text": [
      "Loading required package: BiocGenerics\n",
      "\n",
      "\n",
      "Attaching package: ‘BiocGenerics’\n",
      "\n",
      "\n",
      "The following object is masked from ‘package:limma’:\n",
      "\n",
      "    plotMA\n",
      "\n",
      "\n",
      "The following objects are masked from ‘package:stats’:\n",
      "\n",
      "    IQR, mad, sd, var, xtabs\n",
      "\n",
      "\n",
      "The following objects are masked from ‘package:base’:\n",
      "\n",
      "    Filter, Find, Map, Position, Reduce, anyDuplicated, aperm, append,\n",
      "    as.data.frame, basename, cbind, colnames, dirname, do.call,\n",
      "    duplicated, eval, evalq, get, grep, grepl, intersect, is.unsorted,\n",
      "    lapply, mapply, match, mget, order, paste, pmax, pmax.int, pmin,\n",
      "    pmin.int, rank, rbind, rownames, sapply, setdiff, sort, table,\n",
      "    tapply, union, unique, unsplit, which.max, which.min\n",
      "\n",
      "\n",
      "Loading required package: GenomicRanges\n",
      "\n",
      "Loading required package: stats4\n",
      "\n",
      "Loading required package: S4Vectors\n",
      "\n",
      "\n",
      "Attaching package: ‘S4Vectors’\n",
      "\n",
      "\n",
      "The following objects are masked from ‘package:base’:\n",
      "\n",
      "    I, expand.grid, unname\n",
      "\n",
      "\n",
      "Loading required package: IRanges\n",
      "\n",
      "Loading required package: GenomeInfoDb\n",
      "\n",
      "Loading required package: SummarizedExperiment\n",
      "\n",
      "Loading required package: MatrixGenerics\n",
      "\n",
      "Loading required package: matrixStats\n",
      "\n",
      "\n",
      "Attaching package: ‘MatrixGenerics’\n",
      "\n",
      "\n",
      "The following objects are masked from ‘package:matrixStats’:\n",
      "\n",
      "    colAlls, colAnyNAs, colAnys, colAvgsPerRowSet, colCollapse,\n",
      "    colCounts, colCummaxs, colCummins, colCumprods, colCumsums,\n",
      "    colDiffs, colIQRDiffs, colIQRs, colLogSumExps, colMadDiffs,\n",
      "    colMads, colMaxs, colMeans2, colMedians, colMins, colOrderStats,\n",
      "    colProds, colQuantiles, colRanges, colRanks, colSdDiffs, colSds,\n",
      "    colSums2, colTabulates, colVarDiffs, colVars, colWeightedMads,\n",
      "    colWeightedMeans, colWeightedMedians, colWeightedSds,\n",
      "    colWeightedVars, rowAlls, rowAnyNAs, rowAnys, rowAvgsPerColSet,\n",
      "    rowCollapse, rowCounts, rowCummaxs, rowCummins, rowCumprods,\n",
      "    rowCumsums, rowDiffs, rowIQRDiffs, rowIQRs, rowLogSumExps,\n",
      "    rowMadDiffs, rowMads, rowMaxs, rowMeans2, rowMedians, rowMins,\n",
      "    rowOrderStats, rowProds, rowQuantiles, rowRanges, rowRanks,\n",
      "    rowSdDiffs, rowSds, rowSums2, rowTabulates, rowVarDiffs, rowVars,\n",
      "    rowWeightedMads, rowWeightedMeans, rowWeightedMedians,\n",
      "    rowWeightedSds, rowWeightedVars\n",
      "\n",
      "\n",
      "Loading required package: Biobase\n",
      "\n",
      "Welcome to Bioconductor\n",
      "\n",
      "    Vignettes contain introductory material; view with\n",
      "    'browseVignettes()'. To cite Bioconductor, see\n",
      "    'citation(\"Biobase\")', and for packages 'citation(\"pkgname\")'.\n",
      "\n",
      "\n",
      "\n",
      "Attaching package: ‘Biobase’\n",
      "\n",
      "\n",
      "The following object is masked from ‘package:MatrixGenerics’:\n",
      "\n",
      "    rowMedians\n",
      "\n",
      "\n",
      "The following objects are masked from ‘package:matrixStats’:\n",
      "\n",
      "    anyMissing, rowMedians\n",
      "\n",
      "\n",
      "Loading required package: Biostrings\n",
      "\n",
      "Loading required package: XVector\n",
      "\n",
      "\n",
      "Attaching package: ‘Biostrings’\n",
      "\n",
      "\n",
      "The following object is masked from ‘package:base’:\n",
      "\n",
      "    strsplit\n",
      "\n",
      "\n",
      "Loading required package: bumphunter\n",
      "\n",
      "Loading required package: foreach\n",
      "\n",
      "Loading required package: iterators\n",
      "\n",
      "Loading required package: parallel\n",
      "\n",
      "Loading required package: locfit\n",
      "\n",
      "locfit 1.5-9.9 \t 2024-03-01\n",
      "\n",
      "Setting options('download.file.method.GEOquery'='auto')\n",
      "\n",
      "Setting options('GEOquery.inmemory.gpl'=FALSE)\n",
      "\n",
      "Loading required package: IlluminaHumanMethylationEPICanno.ilm10b4.hg19\n",
      "\n",
      "\n",
      "Attaching package: ‘IlluminaHumanMethylationEPICanno.ilm10b4.hg19’\n",
      "\n",
      "\n",
      "The following objects are masked from ‘package:IlluminaHumanMethylation450kanno.ilmn12.hg19’:\n",
      "\n",
      "    Islands.UCSC, Locations, Manifest, Other, SNPs.132CommonSingle,\n",
      "    SNPs.135CommonSingle, SNPs.137CommonSingle, SNPs.138CommonSingle,\n",
      "    SNPs.141CommonSingle, SNPs.142CommonSingle, SNPs.144CommonSingle,\n",
      "    SNPs.146CommonSingle, SNPs.147CommonSingle, SNPs.Illumina\n",
      "\n",
      "\n",
      "\n",
      "\n",
      "Loading required package: grid\n",
      "\n",
      "\n",
      "Attaching package: ‘grid’\n",
      "\n",
      "\n",
      "The following object is masked from ‘package:Biostrings’:\n",
      "\n",
      "    pattern\n",
      "\n",
      "\n"
     ]
    }
   ],
   "source": [
    "# Load the libraries\n",
    "library(knitr)\n",
    "library(limma)\n",
    "library(minfi)\n",
    "library(IlluminaHumanMethylation450kanno.ilmn12.hg19)\n",
    "library(IlluminaHumanMethylation450kmanifest)\n",
    "library(RColorBrewer)\n",
    "library(missMethyl)\n",
    "library(minfiData)\n",
    "library(Gviz)\n",
    "library(DMRcate)\n",
    "library(stringr)"
   ]
  },
  {
   "cell_type": "markdown",
   "metadata": {},
   "source": [
    "## Loading the data"
   ]
  },
  {
   "cell_type": "code",
   "execution_count": 73,
   "metadata": {
    "vscode": {
     "languageId": "r"
    }
   },
   "outputs": [
    {
     "data": {
      "text/html": [
       "<style>\n",
       ".list-inline {list-style: none; margin:0; padding: 0}\n",
       ".list-inline>li {display: inline-block}\n",
       ".list-inline>li:not(:last-child)::after {content: \"\\00b7\"; padding: 0 .5ex}\n",
       "</style>\n",
       "<ol class=list-inline><li>485512</li><li>33</li></ol>\n"
      ],
      "text/latex": [
       "\\begin{enumerate*}\n",
       "\\item 485512\n",
       "\\item 33\n",
       "\\end{enumerate*}\n"
      ],
      "text/markdown": [
       "1. 485512\n",
       "2. 33\n",
       "\n",
       "\n"
      ],
      "text/plain": [
       "[1] 485512     33"
      ]
     },
     "metadata": {},
     "output_type": "display_data"
    }
   ],
   "source": [
    "# get the 450k annotation data\n",
    "ann450k <- getAnnotation(IlluminaHumanMethylation450kanno.ilmn12.hg19)\n",
    "dim(ann450k)"
   ]
  },
  {
   "cell_type": "code",
   "execution_count": 74,
   "metadata": {
    "vscode": {
     "languageId": "r"
    }
   },
   "outputs": [],
   "source": [
    "# write.csv(ann450k, file = paste(dataDirectory, \"48639-non-specific-probes-Illumina450k.csv\", sep='/'))"
   ]
  },
  {
   "cell_type": "code",
   "execution_count": 72,
   "metadata": {
    "vscode": {
     "languageId": "r"
    }
   },
   "outputs": [
    {
     "name": "stderr",
     "output_type": "stream",
     "text": [
      "[read.metharray.sheet] Found the following CSV files:\n",
      "\n"
     ]
    },
    {
     "name": "stdout",
     "output_type": "stream",
     "text": [
      " [1] \"../Dataset/Methylomics/FIN13296/iDAT/207881760004/Sample_Sheet.csv\"\n",
      " [2] \"../Dataset/Methylomics/FIN13296/iDAT/207881760037/Sample_Sheet.csv\"\n",
      " [3] \"../Dataset/Methylomics/FIN13296/iDAT/207881760097/Sample_Sheet.csv\"\n",
      " [4] \"../Dataset/Methylomics/FIN13296/iDAT/207881760106/Sample_Sheet.csv\"\n",
      " [5] \"../Dataset/Methylomics/FIN13296/iDAT/207881760108/Sample_Sheet.csv\"\n",
      " [6] \"../Dataset/Methylomics/FIN13296/iDAT/207881760117/Sample_Sheet.csv\"\n",
      " [7] \"../Dataset/Methylomics/FIN13296/iDAT/207881760119/Sample_Sheet.csv\"\n",
      " [8] \"../Dataset/Methylomics/FIN13296/iDAT/207881760120/Sample_Sheet.csv\"\n",
      " [9] \"../Dataset/Methylomics/FIN13296/iDAT/207881760121/Sample_Sheet.csv\"\n",
      "[10] \"../Dataset/Methylomics/FIN13296/iDAT/207881760123/Sample_Sheet.csv\"\n",
      "[11] \"../Dataset/Methylomics/FIN13296/iDAT/207881760128/Sample_Sheet.csv\"\n",
      "[12] \"../Dataset/Methylomics/FIN13296/iDAT/207881760129/Sample_Sheet.csv\"\n"
     ]
    },
    {
     "data": {
      "text/html": [
       "<table class=\"dataframe\">\n",
       "<caption>A data.frame: 6 × 9</caption>\n",
       "<thead>\n",
       "\t<tr><th></th><th scope=col>Sample_ID</th><th scope=col>Sample_Well</th><th scope=col>Sample_Plate</th><th scope=col>Sample_Name</th><th scope=col>Pool_ID</th><th scope=col>Sample_Group</th><th scope=col>Array</th><th scope=col>Slide</th><th scope=col>Basename</th></tr>\n",
       "\t<tr><th></th><th scope=col>&lt;chr&gt;</th><th scope=col>&lt;chr&gt;</th><th scope=col>&lt;chr&gt;</th><th scope=col>&lt;chr&gt;</th><th scope=col>&lt;chr&gt;</th><th scope=col>&lt;chr&gt;</th><th scope=col>&lt;chr&gt;</th><th scope=col>&lt;chr&gt;</th><th scope=col>&lt;chr&gt;</th></tr>\n",
       "</thead>\n",
       "<tbody>\n",
       "\t<tr><th scope=row>1</th><td>FIN13295A89</td><td>A12</td><td>207881760004_R01C01_FIN13295A89_A12</td><td>I_D_102_DNA</td><td>NA</td><td>207881760004_R01C01</td><td>R01C01</td><td>207881760004</td><td>../Dataset/Methylomics/FIN13296/iDAT/207881760004/207881760004_R01C01/207881760004_R01C01</td></tr>\n",
       "\t<tr><th scope=row>2</th><td>FIN13295A90</td><td>B12</td><td>207881760004_R02C01_FIN13295A90_B12</td><td>I_D_103_DNA</td><td>NA</td><td>207881760004_R02C01</td><td>R02C01</td><td>207881760004</td><td>../Dataset/Methylomics/FIN13296/iDAT/207881760004/207881760004_R02C01/207881760004_R02C01</td></tr>\n",
       "\t<tr><th scope=row>3</th><td>FIN13295A91</td><td>C12</td><td>207881760004_R03C01_FIN13295A91_C12</td><td>I_D_104_DNA</td><td>NA</td><td>207881760004_R03C01</td><td>R03C01</td><td>207881760004</td><td>../Dataset/Methylomics/FIN13296/iDAT/207881760004/207881760004_R03C01/207881760004_R03C01</td></tr>\n",
       "\t<tr><th scope=row>4</th><td>FIN13295A92</td><td>D12</td><td>207881760004_R04C01_FIN13295A92_D12</td><td>I_D_105_DNA</td><td>NA</td><td>207881760004_R04C01</td><td>R04C01</td><td>207881760004</td><td>../Dataset/Methylomics/FIN13296/iDAT/207881760004/207881760004_R04C01/207881760004_R04C01</td></tr>\n",
       "\t<tr><th scope=row>5</th><td>FIN13295A93</td><td>E12</td><td>207881760004_R05C01_FIN13295A93_E12</td><td>I_D_106_DNA</td><td>NA</td><td>207881760004_R05C01</td><td>R05C01</td><td>207881760004</td><td>../Dataset/Methylomics/FIN13296/iDAT/207881760004/207881760004_R05C01/207881760004_R05C01</td></tr>\n",
       "\t<tr><th scope=row>6</th><td>FIN13295A94</td><td>F12</td><td>207881760004_R06C01_FIN13295A94_F12</td><td>I_D_107_DNA</td><td>NA</td><td>207881760004_R06C01</td><td>R06C01</td><td>207881760004</td><td>../Dataset/Methylomics/FIN13296/iDAT/207881760004/207881760004_R06C01/207881760004_R06C01</td></tr>\n",
       "</tbody>\n",
       "</table>\n"
      ],
      "text/latex": [
       "A data.frame: 6 × 9\n",
       "\\begin{tabular}{r|lllllllll}\n",
       "  & Sample\\_ID & Sample\\_Well & Sample\\_Plate & Sample\\_Name & Pool\\_ID & Sample\\_Group & Array & Slide & Basename\\\\\n",
       "  & <chr> & <chr> & <chr> & <chr> & <chr> & <chr> & <chr> & <chr> & <chr>\\\\\n",
       "\\hline\n",
       "\t1 & FIN13295A89 & A12 & 207881760004\\_R01C01\\_FIN13295A89\\_A12 & I\\_D\\_102\\_DNA & NA & 207881760004\\_R01C01 & R01C01 & 207881760004 & ../Dataset/Methylomics/FIN13296/iDAT/207881760004/207881760004\\_R01C01/207881760004\\_R01C01\\\\\n",
       "\t2 & FIN13295A90 & B12 & 207881760004\\_R02C01\\_FIN13295A90\\_B12 & I\\_D\\_103\\_DNA & NA & 207881760004\\_R02C01 & R02C01 & 207881760004 & ../Dataset/Methylomics/FIN13296/iDAT/207881760004/207881760004\\_R02C01/207881760004\\_R02C01\\\\\n",
       "\t3 & FIN13295A91 & C12 & 207881760004\\_R03C01\\_FIN13295A91\\_C12 & I\\_D\\_104\\_DNA & NA & 207881760004\\_R03C01 & R03C01 & 207881760004 & ../Dataset/Methylomics/FIN13296/iDAT/207881760004/207881760004\\_R03C01/207881760004\\_R03C01\\\\\n",
       "\t4 & FIN13295A92 & D12 & 207881760004\\_R04C01\\_FIN13295A92\\_D12 & I\\_D\\_105\\_DNA & NA & 207881760004\\_R04C01 & R04C01 & 207881760004 & ../Dataset/Methylomics/FIN13296/iDAT/207881760004/207881760004\\_R04C01/207881760004\\_R04C01\\\\\n",
       "\t5 & FIN13295A93 & E12 & 207881760004\\_R05C01\\_FIN13295A93\\_E12 & I\\_D\\_106\\_DNA & NA & 207881760004\\_R05C01 & R05C01 & 207881760004 & ../Dataset/Methylomics/FIN13296/iDAT/207881760004/207881760004\\_R05C01/207881760004\\_R05C01\\\\\n",
       "\t6 & FIN13295A94 & F12 & 207881760004\\_R06C01\\_FIN13295A94\\_F12 & I\\_D\\_107\\_DNA & NA & 207881760004\\_R06C01 & R06C01 & 207881760004 & ../Dataset/Methylomics/FIN13296/iDAT/207881760004/207881760004\\_R06C01/207881760004\\_R06C01\\\\\n",
       "\\end{tabular}\n"
      ],
      "text/markdown": [
       "\n",
       "A data.frame: 6 × 9\n",
       "\n",
       "| <!--/--> | Sample_ID &lt;chr&gt; | Sample_Well &lt;chr&gt; | Sample_Plate &lt;chr&gt; | Sample_Name &lt;chr&gt; | Pool_ID &lt;chr&gt; | Sample_Group &lt;chr&gt; | Array &lt;chr&gt; | Slide &lt;chr&gt; | Basename &lt;chr&gt; |\n",
       "|---|---|---|---|---|---|---|---|---|---|\n",
       "| 1 | FIN13295A89 | A12 | 207881760004_R01C01_FIN13295A89_A12 | I_D_102_DNA | NA | 207881760004_R01C01 | R01C01 | 207881760004 | ../Dataset/Methylomics/FIN13296/iDAT/207881760004/207881760004_R01C01/207881760004_R01C01 |\n",
       "| 2 | FIN13295A90 | B12 | 207881760004_R02C01_FIN13295A90_B12 | I_D_103_DNA | NA | 207881760004_R02C01 | R02C01 | 207881760004 | ../Dataset/Methylomics/FIN13296/iDAT/207881760004/207881760004_R02C01/207881760004_R02C01 |\n",
       "| 3 | FIN13295A91 | C12 | 207881760004_R03C01_FIN13295A91_C12 | I_D_104_DNA | NA | 207881760004_R03C01 | R03C01 | 207881760004 | ../Dataset/Methylomics/FIN13296/iDAT/207881760004/207881760004_R03C01/207881760004_R03C01 |\n",
       "| 4 | FIN13295A92 | D12 | 207881760004_R04C01_FIN13295A92_D12 | I_D_105_DNA | NA | 207881760004_R04C01 | R04C01 | 207881760004 | ../Dataset/Methylomics/FIN13296/iDAT/207881760004/207881760004_R04C01/207881760004_R04C01 |\n",
       "| 5 | FIN13295A93 | E12 | 207881760004_R05C01_FIN13295A93_E12 | I_D_106_DNA | NA | 207881760004_R05C01 | R05C01 | 207881760004 | ../Dataset/Methylomics/FIN13296/iDAT/207881760004/207881760004_R05C01/207881760004_R05C01 |\n",
       "| 6 | FIN13295A94 | F12 | 207881760004_R06C01_FIN13295A94_F12 | I_D_107_DNA | NA | 207881760004_R06C01 | R06C01 | 207881760004 | ../Dataset/Methylomics/FIN13296/iDAT/207881760004/207881760004_R06C01/207881760004_R06C01 |\n",
       "\n"
      ],
      "text/plain": [
       "  Sample_ID   Sample_Well Sample_Plate                        Sample_Name\n",
       "1 FIN13295A89 A12         207881760004_R01C01_FIN13295A89_A12 I_D_102_DNA\n",
       "2 FIN13295A90 B12         207881760004_R02C01_FIN13295A90_B12 I_D_103_DNA\n",
       "3 FIN13295A91 C12         207881760004_R03C01_FIN13295A91_C12 I_D_104_DNA\n",
       "4 FIN13295A92 D12         207881760004_R04C01_FIN13295A92_D12 I_D_105_DNA\n",
       "5 FIN13295A93 E12         207881760004_R05C01_FIN13295A93_E12 I_D_106_DNA\n",
       "6 FIN13295A94 F12         207881760004_R06C01_FIN13295A94_F12 I_D_107_DNA\n",
       "  Pool_ID Sample_Group        Array  Slide       \n",
       "1 NA      207881760004_R01C01 R01C01 207881760004\n",
       "2 NA      207881760004_R02C01 R02C01 207881760004\n",
       "3 NA      207881760004_R03C01 R03C01 207881760004\n",
       "4 NA      207881760004_R04C01 R04C01 207881760004\n",
       "5 NA      207881760004_R05C01 R05C01 207881760004\n",
       "6 NA      207881760004_R06C01 R06C01 207881760004\n",
       "  Basename                                                                                 \n",
       "1 ../Dataset/Methylomics/FIN13296/iDAT/207881760004/207881760004_R01C01/207881760004_R01C01\n",
       "2 ../Dataset/Methylomics/FIN13296/iDAT/207881760004/207881760004_R02C01/207881760004_R02C01\n",
       "3 ../Dataset/Methylomics/FIN13296/iDAT/207881760004/207881760004_R03C01/207881760004_R03C01\n",
       "4 ../Dataset/Methylomics/FIN13296/iDAT/207881760004/207881760004_R04C01/207881760004_R04C01\n",
       "5 ../Dataset/Methylomics/FIN13296/iDAT/207881760004/207881760004_R05C01/207881760004_R05C01\n",
       "6 ../Dataset/Methylomics/FIN13296/iDAT/207881760004/207881760004_R06C01/207881760004_R06C01"
      ]
     },
     "metadata": {},
     "output_type": "display_data"
    }
   ],
   "source": [
    "# set up a path to the data directory\n",
    "# batch <- '207881760037'\n",
    "# dataDirectory <- paste('../Dataset/Methylomics/FIN13296/iDAT', batch, sep='/')\n",
    "dataDirectory <- '../Dataset/Methylomics/FIN13296/iDAT'\n",
    "\n",
    "# read in the sample sheet for the experiment\n",
    "targets <- read.metharray.sheet(dataDirectory, pattern=\"Sample_Sheet.csv\")\n",
    "head(targets)"
   ]
  },
  {
   "cell_type": "code",
   "execution_count": 68,
   "metadata": {
    "vscode": {
     "languageId": "r"
    }
   },
   "outputs": [
    {
     "name": "stderr",
     "output_type": "stream",
     "text": [
      "[read.metharray.sheet] Found the following CSV files:\n",
      "\n"
     ]
    },
    {
     "name": "stdout",
     "output_type": "stream",
     "text": [
      "[1] \"/opt/anaconda3/envs/Idimension/lib/R/library/methylationArrayAnalysis/extdata/SampleSheet.csv\"\n"
     ]
    },
    {
     "data": {
      "text/html": [
       "<table class=\"dataframe\">\n",
       "<caption>A data.frame: 11 × 9</caption>\n",
       "<thead>\n",
       "\t<tr><th scope=col>Sample_Name</th><th scope=col>Sample_Well</th><th scope=col>Sample_Source</th><th scope=col>Sample_Group</th><th scope=col>Sample_Label</th><th scope=col>Pool_ID</th><th scope=col>Array</th><th scope=col>Slide</th><th scope=col>Basename</th></tr>\n",
       "\t<tr><th scope=col>&lt;int&gt;</th><th scope=col>&lt;chr&gt;</th><th scope=col>&lt;chr&gt;</th><th scope=col>&lt;chr&gt;</th><th scope=col>&lt;chr&gt;</th><th scope=col>&lt;chr&gt;</th><th scope=col>&lt;chr&gt;</th><th scope=col>&lt;chr&gt;</th><th scope=col>&lt;chr&gt;</th></tr>\n",
       "</thead>\n",
       "<tbody>\n",
       "\t<tr><td> 1</td><td>A1 </td><td>M28            </td><td>naive    </td><td>naive    </td><td>NA</td><td>R01C01</td><td>6264509100</td><td>/opt/anaconda3/envs/Idimension/lib/R/library/methylationArrayAnalysis/extdata/6264509100/6264509100_R01C01</td></tr>\n",
       "\t<tr><td> 2</td><td>B1 </td><td>M28            </td><td>rTreg    </td><td>rTreg    </td><td>NA</td><td>R02C01</td><td>6264509100</td><td>/opt/anaconda3/envs/Idimension/lib/R/library/methylationArrayAnalysis/extdata/6264509100/6264509100_R02C01</td></tr>\n",
       "\t<tr><td> 3</td><td>C1 </td><td>M28            </td><td>act_naive</td><td>act_naive</td><td>NA</td><td>R03C01</td><td>6264509100</td><td>/opt/anaconda3/envs/Idimension/lib/R/library/methylationArrayAnalysis/extdata/6264509100/6264509100_R03C01</td></tr>\n",
       "\t<tr><td> 4</td><td>D1 </td><td>M29            </td><td>naive    </td><td>naive    </td><td>NA</td><td>R04C01</td><td>6264509100</td><td>/opt/anaconda3/envs/Idimension/lib/R/library/methylationArrayAnalysis/extdata/6264509100/6264509100_R04C01</td></tr>\n",
       "\t<tr><td> 5</td><td>E1 </td><td>M29            </td><td>act_naive</td><td>act_naive</td><td>NA</td><td>R05C01</td><td>6264509100</td><td>/opt/anaconda3/envs/Idimension/lib/R/library/methylationArrayAnalysis/extdata/6264509100/6264509100_R05C01</td></tr>\n",
       "\t<tr><td> 6</td><td>F1 </td><td>M29            </td><td>act_rTreg</td><td>act_rTreg</td><td>NA</td><td>R06C01</td><td>6264509100</td><td>/opt/anaconda3/envs/Idimension/lib/R/library/methylationArrayAnalysis/extdata/6264509100/6264509100_R06C01</td></tr>\n",
       "\t<tr><td> 7</td><td>G1 </td><td>M30            </td><td>naive    </td><td>naive    </td><td>NA</td><td>R01C02</td><td>6264509100</td><td>/opt/anaconda3/envs/Idimension/lib/R/library/methylationArrayAnalysis/extdata/6264509100/6264509100_R01C02</td></tr>\n",
       "\t<tr><td> 8</td><td>H1 </td><td>M30            </td><td>rTreg    </td><td>rTreg    </td><td>NA</td><td>R02C02</td><td>6264509100</td><td>/opt/anaconda3/envs/Idimension/lib/R/library/methylationArrayAnalysis/extdata/6264509100/6264509100_R02C02</td></tr>\n",
       "\t<tr><td> 9</td><td>A2 </td><td>M30            </td><td>act_naive</td><td>act_naive</td><td>NA</td><td>R03C02</td><td>6264509100</td><td>/opt/anaconda3/envs/Idimension/lib/R/library/methylationArrayAnalysis/extdata/6264509100/6264509100_R03C02</td></tr>\n",
       "\t<tr><td>10</td><td>B2 </td><td>M30            </td><td>act_rTreg</td><td>act_rTreg</td><td>NA</td><td>R04C02</td><td>6264509100</td><td>/opt/anaconda3/envs/Idimension/lib/R/library/methylationArrayAnalysis/extdata/6264509100/6264509100_R04C02</td></tr>\n",
       "\t<tr><td>11</td><td>H06</td><td>VICS-72098-18-B</td><td>birth    </td><td>birth    </td><td>NA</td><td>R06C02</td><td>5975827018</td><td>/opt/anaconda3/envs/Idimension/lib/R/library/methylationArrayAnalysis/extdata/5975827018/5975827018_R06C02</td></tr>\n",
       "</tbody>\n",
       "</table>\n"
      ],
      "text/latex": [
       "A data.frame: 11 × 9\n",
       "\\begin{tabular}{lllllllll}\n",
       " Sample\\_Name & Sample\\_Well & Sample\\_Source & Sample\\_Group & Sample\\_Label & Pool\\_ID & Array & Slide & Basename\\\\\n",
       " <int> & <chr> & <chr> & <chr> & <chr> & <chr> & <chr> & <chr> & <chr>\\\\\n",
       "\\hline\n",
       "\t  1 & A1  & M28             & naive     & naive     & NA & R01C01 & 6264509100 & /opt/anaconda3/envs/Idimension/lib/R/library/methylationArrayAnalysis/extdata/6264509100/6264509100\\_R01C01\\\\\n",
       "\t  2 & B1  & M28             & rTreg     & rTreg     & NA & R02C01 & 6264509100 & /opt/anaconda3/envs/Idimension/lib/R/library/methylationArrayAnalysis/extdata/6264509100/6264509100\\_R02C01\\\\\n",
       "\t  3 & C1  & M28             & act\\_naive & act\\_naive & NA & R03C01 & 6264509100 & /opt/anaconda3/envs/Idimension/lib/R/library/methylationArrayAnalysis/extdata/6264509100/6264509100\\_R03C01\\\\\n",
       "\t  4 & D1  & M29             & naive     & naive     & NA & R04C01 & 6264509100 & /opt/anaconda3/envs/Idimension/lib/R/library/methylationArrayAnalysis/extdata/6264509100/6264509100\\_R04C01\\\\\n",
       "\t  5 & E1  & M29             & act\\_naive & act\\_naive & NA & R05C01 & 6264509100 & /opt/anaconda3/envs/Idimension/lib/R/library/methylationArrayAnalysis/extdata/6264509100/6264509100\\_R05C01\\\\\n",
       "\t  6 & F1  & M29             & act\\_rTreg & act\\_rTreg & NA & R06C01 & 6264509100 & /opt/anaconda3/envs/Idimension/lib/R/library/methylationArrayAnalysis/extdata/6264509100/6264509100\\_R06C01\\\\\n",
       "\t  7 & G1  & M30             & naive     & naive     & NA & R01C02 & 6264509100 & /opt/anaconda3/envs/Idimension/lib/R/library/methylationArrayAnalysis/extdata/6264509100/6264509100\\_R01C02\\\\\n",
       "\t  8 & H1  & M30             & rTreg     & rTreg     & NA & R02C02 & 6264509100 & /opt/anaconda3/envs/Idimension/lib/R/library/methylationArrayAnalysis/extdata/6264509100/6264509100\\_R02C02\\\\\n",
       "\t  9 & A2  & M30             & act\\_naive & act\\_naive & NA & R03C02 & 6264509100 & /opt/anaconda3/envs/Idimension/lib/R/library/methylationArrayAnalysis/extdata/6264509100/6264509100\\_R03C02\\\\\n",
       "\t 10 & B2  & M30             & act\\_rTreg & act\\_rTreg & NA & R04C02 & 6264509100 & /opt/anaconda3/envs/Idimension/lib/R/library/methylationArrayAnalysis/extdata/6264509100/6264509100\\_R04C02\\\\\n",
       "\t 11 & H06 & VICS-72098-18-B & birth     & birth     & NA & R06C02 & 5975827018 & /opt/anaconda3/envs/Idimension/lib/R/library/methylationArrayAnalysis/extdata/5975827018/5975827018\\_R06C02\\\\\n",
       "\\end{tabular}\n"
      ],
      "text/markdown": [
       "\n",
       "A data.frame: 11 × 9\n",
       "\n",
       "| Sample_Name &lt;int&gt; | Sample_Well &lt;chr&gt; | Sample_Source &lt;chr&gt; | Sample_Group &lt;chr&gt; | Sample_Label &lt;chr&gt; | Pool_ID &lt;chr&gt; | Array &lt;chr&gt; | Slide &lt;chr&gt; | Basename &lt;chr&gt; |\n",
       "|---|---|---|---|---|---|---|---|---|\n",
       "|  1 | A1  | M28             | naive     | naive     | NA | R01C01 | 6264509100 | /opt/anaconda3/envs/Idimension/lib/R/library/methylationArrayAnalysis/extdata/6264509100/6264509100_R01C01 |\n",
       "|  2 | B1  | M28             | rTreg     | rTreg     | NA | R02C01 | 6264509100 | /opt/anaconda3/envs/Idimension/lib/R/library/methylationArrayAnalysis/extdata/6264509100/6264509100_R02C01 |\n",
       "|  3 | C1  | M28             | act_naive | act_naive | NA | R03C01 | 6264509100 | /opt/anaconda3/envs/Idimension/lib/R/library/methylationArrayAnalysis/extdata/6264509100/6264509100_R03C01 |\n",
       "|  4 | D1  | M29             | naive     | naive     | NA | R04C01 | 6264509100 | /opt/anaconda3/envs/Idimension/lib/R/library/methylationArrayAnalysis/extdata/6264509100/6264509100_R04C01 |\n",
       "|  5 | E1  | M29             | act_naive | act_naive | NA | R05C01 | 6264509100 | /opt/anaconda3/envs/Idimension/lib/R/library/methylationArrayAnalysis/extdata/6264509100/6264509100_R05C01 |\n",
       "|  6 | F1  | M29             | act_rTreg | act_rTreg | NA | R06C01 | 6264509100 | /opt/anaconda3/envs/Idimension/lib/R/library/methylationArrayAnalysis/extdata/6264509100/6264509100_R06C01 |\n",
       "|  7 | G1  | M30             | naive     | naive     | NA | R01C02 | 6264509100 | /opt/anaconda3/envs/Idimension/lib/R/library/methylationArrayAnalysis/extdata/6264509100/6264509100_R01C02 |\n",
       "|  8 | H1  | M30             | rTreg     | rTreg     | NA | R02C02 | 6264509100 | /opt/anaconda3/envs/Idimension/lib/R/library/methylationArrayAnalysis/extdata/6264509100/6264509100_R02C02 |\n",
       "|  9 | A2  | M30             | act_naive | act_naive | NA | R03C02 | 6264509100 | /opt/anaconda3/envs/Idimension/lib/R/library/methylationArrayAnalysis/extdata/6264509100/6264509100_R03C02 |\n",
       "| 10 | B2  | M30             | act_rTreg | act_rTreg | NA | R04C02 | 6264509100 | /opt/anaconda3/envs/Idimension/lib/R/library/methylationArrayAnalysis/extdata/6264509100/6264509100_R04C02 |\n",
       "| 11 | H06 | VICS-72098-18-B | birth     | birth     | NA | R06C02 | 5975827018 | /opt/anaconda3/envs/Idimension/lib/R/library/methylationArrayAnalysis/extdata/5975827018/5975827018_R06C02 |\n",
       "\n"
      ],
      "text/plain": [
       "   Sample_Name Sample_Well Sample_Source   Sample_Group Sample_Label Pool_ID\n",
       "1   1          A1          M28             naive        naive        NA     \n",
       "2   2          B1          M28             rTreg        rTreg        NA     \n",
       "3   3          C1          M28             act_naive    act_naive    NA     \n",
       "4   4          D1          M29             naive        naive        NA     \n",
       "5   5          E1          M29             act_naive    act_naive    NA     \n",
       "6   6          F1          M29             act_rTreg    act_rTreg    NA     \n",
       "7   7          G1          M30             naive        naive        NA     \n",
       "8   8          H1          M30             rTreg        rTreg        NA     \n",
       "9   9          A2          M30             act_naive    act_naive    NA     \n",
       "10 10          B2          M30             act_rTreg    act_rTreg    NA     \n",
       "11 11          H06         VICS-72098-18-B birth        birth        NA     \n",
       "   Array  Slide     \n",
       "1  R01C01 6264509100\n",
       "2  R02C01 6264509100\n",
       "3  R03C01 6264509100\n",
       "4  R04C01 6264509100\n",
       "5  R05C01 6264509100\n",
       "6  R06C01 6264509100\n",
       "7  R01C02 6264509100\n",
       "8  R02C02 6264509100\n",
       "9  R03C02 6264509100\n",
       "10 R04C02 6264509100\n",
       "11 R06C02 5975827018\n",
       "   Basename                                                                                                  \n",
       "1  /opt/anaconda3/envs/Idimension/lib/R/library/methylationArrayAnalysis/extdata/6264509100/6264509100_R01C01\n",
       "2  /opt/anaconda3/envs/Idimension/lib/R/library/methylationArrayAnalysis/extdata/6264509100/6264509100_R02C01\n",
       "3  /opt/anaconda3/envs/Idimension/lib/R/library/methylationArrayAnalysis/extdata/6264509100/6264509100_R03C01\n",
       "4  /opt/anaconda3/envs/Idimension/lib/R/library/methylationArrayAnalysis/extdata/6264509100/6264509100_R04C01\n",
       "5  /opt/anaconda3/envs/Idimension/lib/R/library/methylationArrayAnalysis/extdata/6264509100/6264509100_R05C01\n",
       "6  /opt/anaconda3/envs/Idimension/lib/R/library/methylationArrayAnalysis/extdata/6264509100/6264509100_R06C01\n",
       "7  /opt/anaconda3/envs/Idimension/lib/R/library/methylationArrayAnalysis/extdata/6264509100/6264509100_R01C02\n",
       "8  /opt/anaconda3/envs/Idimension/lib/R/library/methylationArrayAnalysis/extdata/6264509100/6264509100_R02C02\n",
       "9  /opt/anaconda3/envs/Idimension/lib/R/library/methylationArrayAnalysis/extdata/6264509100/6264509100_R03C02\n",
       "10 /opt/anaconda3/envs/Idimension/lib/R/library/methylationArrayAnalysis/extdata/6264509100/6264509100_R04C02\n",
       "11 /opt/anaconda3/envs/Idimension/lib/R/library/methylationArrayAnalysis/extdata/5975827018/5975827018_R06C02"
      ]
     },
     "metadata": {},
     "output_type": "display_data"
    }
   ],
   "source": [
    "# set up a path to the data directory\n",
    "dataDirectory <- system.file(\"extdata\", package = \"methylationArrayAnalysis\")\n",
    "targets <- read.metharray.sheet(dataDirectory, pattern=\"SampleSheet.csv\")\n",
    "targets"
   ]
  },
  {
   "cell_type": "code",
   "execution_count": 69,
   "metadata": {
    "vscode": {
     "languageId": "r"
    }
   },
   "outputs": [
    {
     "data": {
      "text/plain": [
       "class: RGChannelSet \n",
       "dim: 622399 11 \n",
       "metadata(0):\n",
       "assays(2): Green Red\n",
       "rownames(622399): 10600313 10600322 ... 74810490 74810492\n",
       "rowData names(0):\n",
       "colnames(11): 6264509100_R01C01 6264509100_R02C01 ... 6264509100_R04C02\n",
       "  5975827018_R06C02\n",
       "colData names(10): Sample_Name Sample_Well ... Basename filenames\n",
       "Annotation\n",
       "  array: IlluminaHumanMethylation450k\n",
       "  annotation: ilmn12.hg19"
      ]
     },
     "metadata": {},
     "output_type": "display_data"
    }
   ],
   "source": [
    "# read in the raw data from the IDAT files\n",
    "rgSet <- read.metharray.exp(targets=targets)\n",
    "rgSet\n"
   ]
  },
  {
   "cell_type": "code",
   "execution_count": 70,
   "metadata": {
    "vscode": {
     "languageId": "r"
    }
   },
   "outputs": [
    {
     "data": {
      "text/html": [
       "<style>\n",
       ".dl-inline {width: auto; margin:0; padding: 0}\n",
       ".dl-inline>dt, .dl-inline>dd {float: none; width: auto; display: inline-block}\n",
       ".dl-inline>dt::after {content: \":\\0020\"; padding-right: .5ex}\n",
       ".dl-inline>dt:not(:first-of-type) {padding-left: .5ex}\n",
       "</style><dl class=dl-inline><dt>array</dt><dd>'IlluminaHumanMethylation450k'</dd><dt>annotation</dt><dd>'ilmn12.hg19'</dd></dl>\n"
      ],
      "text/latex": [
       "\\begin{description*}\n",
       "\\item[array] 'IlluminaHumanMethylation450k'\n",
       "\\item[annotation] 'ilmn12.hg19'\n",
       "\\end{description*}\n"
      ],
      "text/markdown": [
       "array\n",
       ":   'IlluminaHumanMethylation450k'annotation\n",
       ":   'ilmn12.hg19'\n",
       "\n"
      ],
      "text/plain": [
       "                         array                     annotation \n",
       "\"IlluminaHumanMethylation450k\"                  \"ilmn12.hg19\" "
      ]
     },
     "metadata": {},
     "output_type": "display_data"
    }
   ],
   "source": [
    "annotation(rgSet) "
   ]
  },
  {
   "cell_type": "code",
   "execution_count": 75,
   "metadata": {
    "vscode": {
     "languageId": "r"
    }
   },
   "outputs": [
    {
     "ename": "ERROR",
     "evalue": "Error in `rownames<-`(`*tmp*`, value = value[[2L]]): invalid rownames length\n",
     "output_type": "error",
     "traceback": [
      "Error in `rownames<-`(`*tmp*`, value = value[[2L]]): invalid rownames length\nTraceback:\n",
      "1. `sampleNames<-`(`*tmp*`, value = c(\"207881760004_R01C01.I_D_102_DNA\", \n . \"207881760004_R02C01.I_D_103_DNA\", \"207881760004_R03C01.I_D_104_DNA\", \n . \"207881760004_R04C01.I_D_105_DNA\", \"207881760004_R05C01.I_D_106_DNA\", \n . \"207881760004_R06C01.I_D_107_DNA\", \"207881760004_R07C01.I_D_108_DNA\", \n . \"207881760004_R08C01.I_D_109_DNA\", \"207881760037_R01C01.I_D_050_DNA\", \n . \"207881760037_R02C01.I_D_051_DNA\", \"207881760037_R03C01.I_D_052_DNA\", \n . \"207881760037_R04C01.I_D_053_DNA\", \"207881760037_R05C01.I_D_054_DNA\", \n . \"207881760037_R06C01.I_D_055_DNA\", \"207881760037_R07C01.I_D_056_DNA\", \n . \"207881760037_R08C01.I_D_057_DNA\", \"207881760097_R01C01.I_D_058_DNA\", \n . \"207881760097_R02C01.I_D_060_DNA\", \"207881760097_R03C01.I_D_061_DNA\", \n . \"207881760097_R04C01.I_D_062_DNA\", \"207881760097_R05C01.I_D_063_DNA\", \n . \"207881760097_R06C01.I_D_064_DNA\", \"207881760097_R07C01.I_D_065_DNA\", \n . \"207881760097_R08C01.I_D_066_DNA\", \"207881760106_R01C01.I_D_025_DNA\", \n . \"207881760106_R02C01.I_D_026_DNA\", \"207881760106_R03C01.I_D_027_DNA\", \n . \"207881760106_R04C01.I_D_028_DNA\", \"207881760106_R05C01.I_D_029_DNA\", \n . \"207881760106_R06C01.I_D_030_DNA\", \"207881760106_R07C01.I_D_031_DNA\", \n . \"207881760106_R08C01.I_D_032_DNA\", \"207881760108_R01C01.I_D_001_DNA\", \n . \"207881760108_R02C01.I_D_002_DNA\", \"207881760108_R03C01.I_D_003_DNA\", \n . \"207881760108_R04C01.I_D_004_DNA\", \"207881760108_R05C01.I_D_005_DNA\", \n . \"207881760108_R06C01.I_D_006_DNA\", \"207881760108_R07C01.I_D_007_DNA\", \n . \"207881760108_R08C01.I_D_008_DNA\", \"207881760117_R01C01.I_D_089_DNA\", \n . \"207881760117_R02C01.I_D_090_DNA\", \"207881760117_R03C01.I_D_091_DNA\", \n . \"207881760117_R04C01.I_D_095_DNA\", \"207881760117_R05C01.I_D_098_DNA\", \n . \"207881760117_R06C01.I_D_099_DNA\", \"207881760117_R07C01.I_D_100_DNA\", \n . \"207881760117_R08C01.I_D_101_DNA\", \"207881760119_R01C01.I_D_017_DNA\", \n . \"207881760119_R02C01.I_D_018_DNA\", \"207881760119_R03C01.I_D_019_DNA\", \n . \"207881760119_R04C01.I_D_020_DNA\", \"207881760119_R05C01.I_D_021_DNA\", \n . \"207881760119_R06C01.I_D_022_DNA\", \"207881760119_R07C01.I_D_023_DNA\", \n . \"207881760119_R08C01.I_D_024_DNA\", \"207881760120_R01C01.I_D_080_DNA\", \n . \"207881760120_R02C01.I_D_081_DNA\", \"207881760120_R03C01.I_D_082_DNA\", \n . \"207881760120_R04C01.I_D_083_DNA\", \"207881760120_R05C01.I_D_085_DNA\", \n . \"207881760120_R06C01.I_D_086_DNA\", \"207881760120_R07C01.I_D_087_DNA\", \n . \"207881760120_R08C01.I_D_088_DNA\", \"207881760121_R01C01.I_D_041_DNA\", \n . \"207881760121_R02C01.I_D_043_DNA\", \"207881760121_R03C01.I_D_044_DNA\", \n . \"207881760121_R04C01.I_D_045_DNA\", \"207881760121_R05C01.I_D_046_DNA\", \n . \"207881760121_R06C01.I_D_047_DNA\", \"207881760121_R07C01.I_D_048_DNA\", \n . \"207881760121_R08C01.I_D_049_DNA\", \"207881760123_R01C01.I_D_009_DNA\", \n . \"207881760123_R02C01.I_D_010_DNA\", \"207881760123_R03C01.I_D_011_DNA\", \n . \"207881760123_R04C01.I_D_012_DNA\", \"207881760123_R05C01.I_D_013_DNA\", \n . \"207881760123_R06C01.I_D_014_DNA\", \"207881760123_R07C01.I_D_015_DNA\", \n . \"207881760123_R08C01.I_D_016_DNA\", \"207881760128_R01C01.I_D_033_DNA\", \n . \"207881760128_R02C01.I_D_034_DNA\", \"207881760128_R03C01.I_D_035_DNA\", \n . \"207881760128_R04C01.I_D_036_DNA\", \"207881760128_R05C01.I_D_037_DNA\", \n . \"207881760128_R06C01.I_D_038_DNA\", \"207881760128_R07C01.I_D_039_DNA\", \n . \"207881760128_R08C01.I_D_040_DNA\", \"207881760129_R01C01.I_D_067_DNA\", \n . \"207881760129_R02C01.I_D_069_DNA\", \"207881760129_R03C01.I_D_070_DNA\", \n . \"207881760129_R04C01.I_D_071_DNA\", \"207881760129_R05C01.I_D_074_DNA\", \n . \"207881760129_R06C01.I_D_076_DNA\", \"207881760129_R07C01.I_D_078_DNA\", \n . \"207881760129_R08C01.I_D_079_DNA\"))",
      "2. `sampleNames<-`(`*tmp*`, value = c(\"207881760004_R01C01.I_D_102_DNA\", \n . \"207881760004_R02C01.I_D_103_DNA\", \"207881760004_R03C01.I_D_104_DNA\", \n . \"207881760004_R04C01.I_D_105_DNA\", \"207881760004_R05C01.I_D_106_DNA\", \n . \"207881760004_R06C01.I_D_107_DNA\", \"207881760004_R07C01.I_D_108_DNA\", \n . \"207881760004_R08C01.I_D_109_DNA\", \"207881760037_R01C01.I_D_050_DNA\", \n . \"207881760037_R02C01.I_D_051_DNA\", \"207881760037_R03C01.I_D_052_DNA\", \n . \"207881760037_R04C01.I_D_053_DNA\", \"207881760037_R05C01.I_D_054_DNA\", \n . \"207881760037_R06C01.I_D_055_DNA\", \"207881760037_R07C01.I_D_056_DNA\", \n . \"207881760037_R08C01.I_D_057_DNA\", \"207881760097_R01C01.I_D_058_DNA\", \n . \"207881760097_R02C01.I_D_060_DNA\", \"207881760097_R03C01.I_D_061_DNA\", \n . \"207881760097_R04C01.I_D_062_DNA\", \"207881760097_R05C01.I_D_063_DNA\", \n . \"207881760097_R06C01.I_D_064_DNA\", \"207881760097_R07C01.I_D_065_DNA\", \n . \"207881760097_R08C01.I_D_066_DNA\", \"207881760106_R01C01.I_D_025_DNA\", \n . \"207881760106_R02C01.I_D_026_DNA\", \"207881760106_R03C01.I_D_027_DNA\", \n . \"207881760106_R04C01.I_D_028_DNA\", \"207881760106_R05C01.I_D_029_DNA\", \n . \"207881760106_R06C01.I_D_030_DNA\", \"207881760106_R07C01.I_D_031_DNA\", \n . \"207881760106_R08C01.I_D_032_DNA\", \"207881760108_R01C01.I_D_001_DNA\", \n . \"207881760108_R02C01.I_D_002_DNA\", \"207881760108_R03C01.I_D_003_DNA\", \n . \"207881760108_R04C01.I_D_004_DNA\", \"207881760108_R05C01.I_D_005_DNA\", \n . \"207881760108_R06C01.I_D_006_DNA\", \"207881760108_R07C01.I_D_007_DNA\", \n . \"207881760108_R08C01.I_D_008_DNA\", \"207881760117_R01C01.I_D_089_DNA\", \n . \"207881760117_R02C01.I_D_090_DNA\", \"207881760117_R03C01.I_D_091_DNA\", \n . \"207881760117_R04C01.I_D_095_DNA\", \"207881760117_R05C01.I_D_098_DNA\", \n . \"207881760117_R06C01.I_D_099_DNA\", \"207881760117_R07C01.I_D_100_DNA\", \n . \"207881760117_R08C01.I_D_101_DNA\", \"207881760119_R01C01.I_D_017_DNA\", \n . \"207881760119_R02C01.I_D_018_DNA\", \"207881760119_R03C01.I_D_019_DNA\", \n . \"207881760119_R04C01.I_D_020_DNA\", \"207881760119_R05C01.I_D_021_DNA\", \n . \"207881760119_R06C01.I_D_022_DNA\", \"207881760119_R07C01.I_D_023_DNA\", \n . \"207881760119_R08C01.I_D_024_DNA\", \"207881760120_R01C01.I_D_080_DNA\", \n . \"207881760120_R02C01.I_D_081_DNA\", \"207881760120_R03C01.I_D_082_DNA\", \n . \"207881760120_R04C01.I_D_083_DNA\", \"207881760120_R05C01.I_D_085_DNA\", \n . \"207881760120_R06C01.I_D_086_DNA\", \"207881760120_R07C01.I_D_087_DNA\", \n . \"207881760120_R08C01.I_D_088_DNA\", \"207881760121_R01C01.I_D_041_DNA\", \n . \"207881760121_R02C01.I_D_043_DNA\", \"207881760121_R03C01.I_D_044_DNA\", \n . \"207881760121_R04C01.I_D_045_DNA\", \"207881760121_R05C01.I_D_046_DNA\", \n . \"207881760121_R06C01.I_D_047_DNA\", \"207881760121_R07C01.I_D_048_DNA\", \n . \"207881760121_R08C01.I_D_049_DNA\", \"207881760123_R01C01.I_D_009_DNA\", \n . \"207881760123_R02C01.I_D_010_DNA\", \"207881760123_R03C01.I_D_011_DNA\", \n . \"207881760123_R04C01.I_D_012_DNA\", \"207881760123_R05C01.I_D_013_DNA\", \n . \"207881760123_R06C01.I_D_014_DNA\", \"207881760123_R07C01.I_D_015_DNA\", \n . \"207881760123_R08C01.I_D_016_DNA\", \"207881760128_R01C01.I_D_033_DNA\", \n . \"207881760128_R02C01.I_D_034_DNA\", \"207881760128_R03C01.I_D_035_DNA\", \n . \"207881760128_R04C01.I_D_036_DNA\", \"207881760128_R05C01.I_D_037_DNA\", \n . \"207881760128_R06C01.I_D_038_DNA\", \"207881760128_R07C01.I_D_039_DNA\", \n . \"207881760128_R08C01.I_D_040_DNA\", \"207881760129_R01C01.I_D_067_DNA\", \n . \"207881760129_R02C01.I_D_069_DNA\", \"207881760129_R03C01.I_D_070_DNA\", \n . \"207881760129_R04C01.I_D_071_DNA\", \"207881760129_R05C01.I_D_074_DNA\", \n . \"207881760129_R06C01.I_D_076_DNA\", \"207881760129_R07C01.I_D_078_DNA\", \n . \"207881760129_R08C01.I_D_079_DNA\"))",
      "3. `colnames<-`(`*tmp*`, value = value)",
      "4. `colnames<-`(`*tmp*`, value = value)",
      "5. `dimnames<-`(`*tmp*`, value = dn)",
      "6. `dimnames<-`(`*tmp*`, value = dn)",
      "7. `rownames<-`(`*tmp*`, value = value[[2L]])",
      "8. `rownames<-`(`*tmp*`, value = value[[2L]])",
      "9. stop(\"invalid rownames length\")"
     ]
    }
   ],
   "source": [
    "# give the samples descriptive names\n",
    "targets$ID <- paste(targets$Sample_Group, targets$Sample_Name, sep=\".\")\n",
    "sampleNames(rgSet) <- targets$ID\n",
    "rgSet"
   ]
  },
  {
   "cell_type": "markdown",
   "metadata": {},
   "source": [
    "## Quality control"
   ]
  },
  {
   "cell_type": "code",
   "execution_count": 65,
   "metadata": {
    "vscode": {
     "languageId": "r"
    }
   },
   "outputs": [
    {
     "name": "stderr",
     "output_type": "stream",
     "text": [
      "[preprocessQuantile] Mapping to genome.\n",
      "\n"
     ]
    },
    {
     "ename": "ERROR",
     "evalue": "Error: [matrixStats (>= 1.2.0)] useNames = NA is defunct. Instead, specify either useNames = TRUE or useNames = FALSE. See also ?matrixStats::matrixStats.options\n",
     "output_type": "error",
     "traceback": [
      "Error: [matrixStats (>= 1.2.0)] useNames = NA is defunct. Instead, specify either useNames = TRUE or useNames = FALSE. See also ?matrixStats::matrixStats.options\nTraceback:\n",
      "1. preprocessQuantile(rgSet)",
      "2. addSex(object)",
      "3. getSex(object)",
      "4. .getSex(CN = CN, xIndex = xIndex, yIndex = yIndex, cutoff = cutoff)",
      "5. colMedians(CN, rows = xIndex, na.rm = TRUE)",
      "6. colMedians(CN, rows = xIndex, na.rm = TRUE)",
      "7. .local(x, rows, cols, na.rm, ..., useNames = useNames)",
      "8. matrixStats::colMedians(x, rows = rows, cols = cols, na.rm = na.rm, \n .     dim. = dim., ..., useNames = useNames)",
      "9. deprecatedUseNamesNA()",
      "10. .Defunct(msg = sprintf(\"[%s (>= 1.2.0)] useNames = NA is defunct. Instead, specify either useNames = TRUE or useNames = FALSE. See also ?matrixStats::matrixStats.options\", \n  .     .packageName), package = .packageName)"
     ]
    }
   ],
   "source": [
    "# normalize the data; this results in a GenomicRatioSet object\n",
    "mSetSq <- preprocessQuantile(rgSet) "
   ]
  },
  {
   "cell_type": "code",
   "execution_count": null,
   "metadata": {
    "vscode": {
     "languageId": "r"
    }
   },
   "outputs": [],
   "source": []
  },
  {
   "cell_type": "code",
   "execution_count": null,
   "metadata": {
    "vscode": {
     "languageId": "r"
    }
   },
   "outputs": [],
   "source": []
  }
 ],
 "metadata": {
  "kernelspec": {
   "display_name": "R",
   "language": "R",
   "name": "ir"
  },
  "language_info": {
   "codemirror_mode": "r",
   "file_extension": ".r",
   "mimetype": "text/x-r-source",
   "name": "R",
   "pygments_lexer": "r",
   "version": "4.2.3"
  }
 },
 "nbformat": 4,
 "nbformat_minor": 2
}
