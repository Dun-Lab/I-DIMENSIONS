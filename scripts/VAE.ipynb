{
 "cells": [
  {
   "cell_type": "markdown",
   "metadata": {},
   "source": [
    "# Deep learning-based algorithm for methylation profile reconstruction"
   ]
  },
  {
   "cell_type": "markdown",
   "metadata": {},
   "source": [
    "* Motivation\n",
    "  * DNA methylation data includes high-dimensional biological signals which is difficult to be used for downstream analysis. Popular feature selection strategy like choosing most variable or differential signals introduce the bias. We introduce the a deep learning model in autoencoder fashion to address this problem. The high-dimensional methylation data will be reconstructed by a low-dimensional latent space. \n",
    "* Model selection\n",
    "  * Autoencoder\n",
    "  * Variational autoencoder\n"
   ]
  },
  {
   "cell_type": "code",
   "execution_count": 2,
   "metadata": {},
   "outputs": [],
   "source": [
    "import torch\n",
    "import torch.nn as nn\n",
    "import torch.nn.functional as F\n",
    "import torch.optim as optim\n",
    "from torch.distributions import Beta\n",
    "from torch.utils.data import DataLoader, TensorDataset\n"
   ]
  },
  {
   "cell_type": "code",
   "execution_count": 7,
   "metadata": {},
   "outputs": [],
   "source": [
    "device = torch.device('cpu' if not torch.cpu.is_available() else 'mps')"
   ]
  },
  {
   "cell_type": "code",
   "execution_count": 8,
   "metadata": {},
   "outputs": [],
   "source": [
    "# Define a simple VAE with Beta distribution as the latent variable\n",
    "\n",
    "class VAE(nn.Module):\n",
    "    def __init__(self, input_dim, latent_dim):\n",
    "        super(VAE, self).__init__()\n",
    "        self.input_dim = input_dim\n",
    "        self.latent_dim = latent_dim\n",
    "        \n",
    "        # Encoder\n",
    "        self.fc1 = nn.Linear(input_dim, 128)\n",
    "        self.fc_alpha = nn.Linear(128, latent_dim)  # for alpha parameter\n",
    "        self.fc_beta = nn.Linear(128, latent_dim)   # for beta parameter\n",
    "        \n",
    "        # Decoder\n",
    "        self.fc2 = nn.Linear(latent_dim, 128)\n",
    "        self.fc3 = nn.Linear(128, input_dim)\n",
    "        \n",
    "    def encode(self, x):\n",
    "        x = F.relu(self.fc1(x))\n",
    "        alpha = torch.exp(self.fc_alpha(x)) + 1e-6  # adding small epsilon to avoid zero\n",
    "        beta = torch.exp(self.fc_beta(x)) + 1e-6    # adding small epsilon to avoid zero\n",
    "        return alpha, beta\n",
    "    \n",
    "    def reparameterize(self, alpha, beta):\n",
    "        # Sample from Beta distribution\n",
    "        batch_size = alpha.size(0)\n",
    "        epsilon = torch.rand_like(alpha)\n",
    "        z = alpha * epsilon + beta * (1.0 - epsilon)\n",
    "        return z\n",
    "    \n",
    "    def decode(self, z):\n",
    "        z = F.relu(self.fc2(z))\n",
    "        x_recon = torch.sigmoid(self.fc3(z))  # assuming input data is normalized to [0, 1]\n",
    "        return x_recon\n",
    "    \n",
    "    def forward(self, x):\n",
    "        # Encode\n",
    "        alpha, beta = self.encode(x)\n",
    "        \n",
    "        # Reparameterize and sample z\n",
    "        z = self.reparameterize(alpha, beta)\n",
    "        \n",
    "        # Decode\n",
    "        x_recon = self.decode(z)\n",
    "        \n",
    "        return x_recon, alpha, beta\n",
    "    \n",
    "    def compute_loss(self, x, x_recon, alpha, beta, beta_factor=1.0):\n",
    "        # Reconstruction loss (MSE)\n",
    "        reconstruction_loss = F.mse_loss(x_recon, x, reduction='mean')\n",
    "        \n",
    "        # KL divergence between Beta(alpha, beta) and Beta(1, 1)\n",
    "        prior_alpha = torch.ones_like(alpha)\n",
    "        prior_beta = torch.ones_like(beta)\n",
    "        \n",
    "        kl_divergence = self.compute_beta_kl(alpha, beta, prior_alpha, prior_beta)\n",
    "        \n",
    "        # Total loss\n",
    "        total_loss = reconstruction_loss + beta_factor * kl_divergence\n",
    "        \n",
    "        return total_loss, reconstruction_loss, kl_divergence\n",
    "    \n",
    "    def compute_beta_kl(self, alpha_q, beta_q, alpha_p, beta_p):\n",
    "        # Compute KL divergence between Beta distributions\n",
    "        kl_divergence = (torch.lgamma(alpha_p) + torch.lgamma(beta_p) - torch.lgamma(alpha_p + beta_p) -\n",
    "                         torch.lgamma(alpha_q) - torch.lgamma(beta_q) + torch.lgamma(alpha_q + beta_q) +\n",
    "                         (alpha_q - alpha_p) * (torch.digamma(alpha_q) - torch.digamma(alpha_q + beta_q)) +\n",
    "                         (beta_q - beta_p) * (torch.digamma(beta_q) - torch.digamma(alpha_q + beta_q)))\n",
    "        \n",
    "        return kl_divergence.mean()\n"
   ]
  },
  {
   "cell_type": "code",
   "execution_count": 18,
   "metadata": {},
   "outputs": [],
   "source": [
    "# Example usage\n",
    "\n",
    "# Initialize the VAE\n",
    "input_dim = 500\n",
    "latent_dim = 128\n",
    "vae = VAE(input_dim, latent_dim)\n",
    "\n",
    "# Move the VAE to the device\n",
    "vae.to(device)\n",
    "\n",
    "# Define optimizer\n",
    "optimizer = optim.Adam(vae.parameters(), lr=1e-3)\n",
    "\n",
    "# Training loop\n",
    "num_epochs = 20\n",
    "beta_factor = 1.0  # weight of KL divergence term\n",
    "\n",
    "# Initialize data loader\n",
    "train_data = torch.randn(1000, input_dim)\n",
    "test_data = torch.randn(100, input_dim)\n",
    "train_dataset = TensorDataset(train_data)\n",
    "test_dataset = TensorDataset(test_data)\n",
    "train_loader = DataLoader(train_dataset, batch_size=10, shuffle=True)\n",
    "test_loader = DataLoader(test_dataset, batch_size=10, shuffle=True)"
   ]
  },
  {
   "cell_type": "code",
   "execution_count": 19,
   "metadata": {},
   "outputs": [
    {
     "name": "stdout",
     "output_type": "stream",
     "text": [
      "torch.Size([100, 128])\n"
     ]
    }
   ],
   "source": [
    "model = VAE(input_dim, latent_dim) \n",
    "alpha, beta = model.encode(test_data)\n",
    "z = model.reparameterize(alpha, beta)\n",
    "print(z.shape)"
   ]
  },
  {
   "cell_type": "code",
   "execution_count": 12,
   "metadata": {},
   "outputs": [
    {
     "name": "stdout",
     "output_type": "stream",
     "text": [
      "Epoch [1/20], Loss: 1.0709, Rec Loss: 1.0465, KL Loss: 0.0244\n",
      "Epoch [2/20], Loss: 1.0025, Rec Loss: 0.9981, KL Loss: 0.0044\n",
      "Epoch [3/20], Loss: 0.9988, Rec Loss: 0.9975, KL Loss: 0.0013\n",
      "Epoch [4/20], Loss: 0.9980, Rec Loss: 0.9974, KL Loss: 0.0006\n",
      "Epoch [5/20], Loss: 0.9977, Rec Loss: 0.9973, KL Loss: 0.0004\n",
      "Epoch [6/20], Loss: 0.9975, Rec Loss: 0.9973, KL Loss: 0.0002\n",
      "Epoch [7/20], Loss: 0.9974, Rec Loss: 0.9973, KL Loss: 0.0002\n",
      "Epoch [8/20], Loss: 0.9974, Rec Loss: 0.9973, KL Loss: 0.0001\n",
      "Epoch [9/20], Loss: 0.9974, Rec Loss: 0.9973, KL Loss: 0.0001\n",
      "Epoch [10/20], Loss: 0.9973, Rec Loss: 0.9973, KL Loss: 0.0001\n",
      "Epoch [11/20], Loss: 0.9973, Rec Loss: 0.9973, KL Loss: 0.0001\n",
      "Epoch [12/20], Loss: 0.9973, Rec Loss: 0.9973, KL Loss: 0.0001\n",
      "Epoch [13/20], Loss: 0.9973, Rec Loss: 0.9973, KL Loss: 0.0001\n",
      "Epoch [14/20], Loss: 0.9974, Rec Loss: 0.9972, KL Loss: 0.0001\n",
      "Epoch [15/20], Loss: 0.9974, Rec Loss: 0.9972, KL Loss: 0.0002\n",
      "Epoch [16/20], Loss: 0.9974, Rec Loss: 0.9973, KL Loss: 0.0002\n",
      "Epoch [17/20], Loss: 0.9974, Rec Loss: 0.9972, KL Loss: 0.0002\n",
      "Epoch [18/20], Loss: 0.9974, Rec Loss: 0.9972, KL Loss: 0.0002\n",
      "Epoch [19/20], Loss: 0.9973, Rec Loss: 0.9972, KL Loss: 0.0001\n",
      "Epoch [20/20], Loss: 0.9973, Rec Loss: 0.9972, KL Loss: 0.0001\n"
     ]
    }
   ],
   "source": [
    "def train_loop(model, train_loader, optimizer):\n",
    "    for epoch in range(num_epochs):\n",
    "        vae.train()\n",
    "        total_loss = 0.0\n",
    "        total_rec_loss = 0.0\n",
    "        total_kl_loss = 0.0\n",
    "        \n",
    "        for batch_idx, (data, ) in enumerate(train_loader):\n",
    "            data = data.view(-1, input_dim)\n",
    "            data = data.to(device)  # Move data to the device\n",
    "            optimizer.zero_grad()\n",
    "            \n",
    "            # Forward pass\n",
    "            recon_batch, alpha, beta = vae(data)\n",
    "            \n",
    "            # Compute loss\n",
    "            loss, rec_loss, kl_loss = vae.compute_loss(data, recon_batch, alpha, beta, beta_factor)\n",
    "            \n",
    "            # Backward pass\n",
    "            loss.backward()\n",
    "            optimizer.step()\n",
    "            \n",
    "            # Accumulate losses\n",
    "            total_loss += loss.item()\n",
    "            total_rec_loss += rec_loss.item()\n",
    "            total_kl_loss += kl_loss.item()\n",
    "            \n",
    "        # Print average losses\n",
    "        avg_loss = total_loss / len(train_loader)\n",
    "        avg_rec_loss = total_rec_loss / len(train_loader)\n",
    "        avg_kl_loss = total_kl_loss / len(train_loader)\n",
    "        print(f\"Epoch [{epoch+1}/{num_epochs}], Loss: {avg_loss:.4f}, Rec Loss: {avg_rec_loss:.4f}, KL Loss: {avg_kl_loss:.4f}\")\n"
   ]
  },
  {
   "cell_type": "code",
   "execution_count": null,
   "metadata": {},
   "outputs": [],
   "source": [
    "def test_loop(dataloader, model):\n",
    "    for i, data in enumerate(dataloader):\n",
    "        x = data[0].to(device)\n",
    "        x_recon, alpha, beta = model(x)\n",
    "        z = model.reparameterize(alpha, beta)\n",
    "    return x_recon, z"
   ]
  },
  {
   "cell_type": "code",
   "execution_count": null,
   "metadata": {},
   "outputs": [],
   "source": []
  }
 ],
 "metadata": {
  "kernelspec": {
   "display_name": "IDIMENSIONS",
   "language": "python",
   "name": "python3"
  },
  "language_info": {
   "codemirror_mode": {
    "name": "ipython",
    "version": 3
   },
   "file_extension": ".py",
   "mimetype": "text/x-python",
   "name": "python",
   "nbconvert_exporter": "python",
   "pygments_lexer": "ipython3",
   "version": "3.9.18"
  }
 },
 "nbformat": 4,
 "nbformat_minor": 2
}
