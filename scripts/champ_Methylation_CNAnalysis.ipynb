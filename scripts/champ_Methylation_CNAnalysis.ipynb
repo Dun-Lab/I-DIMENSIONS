{
 "cells": [
  {
   "cell_type": "code",
   "execution_count": 10,
   "metadata": {
    "vscode": {
     "languageId": "r"
    }
   },
   "outputs": [
    {
     "name": "stderr",
     "output_type": "stream",
     "text": [
      "\n",
      "Attaching package: 'limma'\n",
      "\n",
      "\n",
      "The following object is masked from 'package:BiocGenerics':\n",
      "\n",
      "    plotMA\n",
      "\n",
      "\n",
      "\n",
      "Attaching package: 'IlluminaHumanMethylationEPICanno.ilm10b4.hg19'\n",
      "\n",
      "\n",
      "The following objects are masked from 'package:IlluminaHumanMethylationEPICv2anno.20a1.hg38':\n",
      "\n",
      "    Islands.UCSC, Locations, Manifest, Other, SNPs.141CommonSingle,\n",
      "    SNPs.142CommonSingle, SNPs.144CommonSingle, SNPs.146CommonSingle,\n",
      "    SNPs.147CommonSingle, SNPs.Illumina\n",
      "\n",
      "\n",
      "Loading required package: IlluminaHumanMethylation450kanno.ilmn12.hg19\n",
      "\n",
      "\n",
      "Attaching package: 'IlluminaHumanMethylation450kanno.ilmn12.hg19'\n",
      "\n",
      "\n",
      "The following objects are masked from 'package:IlluminaHumanMethylationEPICanno.ilm10b4.hg19':\n",
      "\n",
      "    Islands.UCSC, Locations, Manifest, Other, SNPs.132CommonSingle,\n",
      "    SNPs.135CommonSingle, SNPs.137CommonSingle, SNPs.138CommonSingle,\n",
      "    SNPs.141CommonSingle, SNPs.142CommonSingle, SNPs.144CommonSingle,\n",
      "    SNPs.146CommonSingle, SNPs.147CommonSingle, SNPs.Illumina\n",
      "\n",
      "\n",
      "The following objects are masked from 'package:IlluminaHumanMethylationEPICv2anno.20a1.hg38':\n",
      "\n",
      "    Islands.UCSC, Locations, Manifest, Other, SNPs.141CommonSingle,\n",
      "    SNPs.142CommonSingle, SNPs.144CommonSingle, SNPs.146CommonSingle,\n",
      "    SNPs.147CommonSingle, SNPs.Illumina\n",
      "\n",
      "\n",
      "Loading required package: IlluminaHumanMethylation450kmanifest\n",
      "\n",
      "Loading required package: grid\n",
      "\n",
      "\n",
      "Attaching package: 'grid'\n",
      "\n",
      "\n",
      "The following object is masked from 'package:Biostrings':\n",
      "\n",
      "    pattern\n",
      "\n",
      "\n",
      "Loading required package: AnnotationDbi\n",
      "\n"
     ]
    }
   ],
   "source": [
    "# Load the libraries\n",
    "library(knitr)\n",
    "library(limma)\n",
    "library(minfi)\n",
    "library(IlluminaHumanMethylationEPICv2manifest)\n",
    "library(IlluminaHumanMethylationEPICv2anno.20a1.hg38)\n",
    "library(IlluminaHumanMethylationEPICanno.ilm10b4.hg19)\n",
    "library(RColorBrewer)\n",
    "library(missMethyl)\n",
    "library(minfiData)\n",
    "library(Gviz)\n",
    "library(DMRcate)\n",
    "library(stringr)\n",
    "library(ChAMP)\n",
    "library(org.Hs.eg.db)\n"
   ]
  },
  {
   "cell_type": "code",
   "execution_count": 18,
   "metadata": {
    "vscode": {
     "languageId": "r"
    }
   },
   "outputs": [
    {
     "name": "stderr",
     "output_type": "stream",
     "text": [
      "[read.metharray.sheet] Found the following CSV files:\n",
      "\n"
     ]
    },
    {
     "name": "stdout",
     "output_type": "stream",
     "text": [
      " [1] \"../Dataset/Izac_Methylomics/FIN13296/iDAT/207881760004/Sample_Sheet_Diagnosis.csv\"\n",
      " [2] \"../Dataset/Izac_Methylomics/FIN13296/iDAT/207881760037/Sample_Sheet_Diagnosis.csv\"\n",
      " [3] \"../Dataset/Izac_Methylomics/FIN13296/iDAT/207881760097/Sample_Sheet_Diagnosis.csv\"\n",
      " [4] \"../Dataset/Izac_Methylomics/FIN13296/iDAT/207881760106/Sample_Sheet_Diagnosis.csv\"\n",
      " [5] \"../Dataset/Izac_Methylomics/FIN13296/iDAT/207881760108/Sample_Sheet_Diagnosis.csv\"\n",
      " [6] \"../Dataset/Izac_Methylomics/FIN13296/iDAT/207881760117/Sample_Sheet_Diagnosis.csv\"\n",
      " [7] \"../Dataset/Izac_Methylomics/FIN13296/iDAT/207881760119/Sample_Sheet_Diagnosis.csv\"\n",
      " [8] \"../Dataset/Izac_Methylomics/FIN13296/iDAT/207881760120/Sample_Sheet_Diagnosis.csv\"\n",
      " [9] \"../Dataset/Izac_Methylomics/FIN13296/iDAT/207881760121/Sample_Sheet_Diagnosis.csv\"\n",
      "[10] \"../Dataset/Izac_Methylomics/FIN13296/iDAT/207881760123/Sample_Sheet_Diagnosis.csv\"\n",
      "[11] \"../Dataset/Izac_Methylomics/FIN13296/iDAT/207881760128/Sample_Sheet_Diagnosis.csv\"\n",
      "[12] \"../Dataset/Izac_Methylomics/FIN13296/iDAT/207881760129/Sample_Sheet_Diagnosis.csv\"\n"
     ]
    }
   ],
   "source": [
    "res_path <- \"../Intermediate_results\"\n",
    "# set up a path to the data directory\n",
    "dataDirectory <- '../Dataset/Izac_Methylomics/FIN13296/iDAT'\n",
    "\n",
    "# read in the sample sheet for the experiment\n",
    "targets <- read.metharray.sheet(dataDirectory, pattern=\"Sample_Sheet_Diagnosis.csv\")\n",
    "\n",
    "# read in the raw data from the IDAT files\n",
    "rgSet <- read.metharray.exp(targets=targets)\n",
    "\n",
    "# Load annotation\n",
    "annEPICv2 <- getAnnotation(IlluminaHumanMethylationEPICv2anno.20a1.hg38)\n",
    "\n",
    "# give the samples descriptive names\n",
    "targets$ID <- targets$Sample_Name\n",
    "sampleNames(rgSet) <- targets$ID\n",
    "\n"
   ]
  },
  {
   "cell_type": "markdown",
   "metadata": {},
   "source": [
    "# QC"
   ]
  },
  {
   "cell_type": "code",
   "execution_count": 19,
   "metadata": {
    "vscode": {
     "languageId": "r"
    }
   },
   "outputs": [
    {
     "name": "stderr",
     "output_type": "stream",
     "text": [
      "[preprocessFunnorm] Background and dye bias correction with noob\n",
      "\n",
      "[preprocessFunnorm] Mapping to genome\n",
      "\n",
      "[preprocessFunnorm] Quantile extraction\n",
      "\n",
      "Warning message in .getSex(CN = CN, xIndex = xIndex, yIndex = yIndex, cutoff = cutoff):\n",
      "\"An inconsistency was encountered while determining sex. One possibility is that only one sex is present. We recommend further checks, for example with the plotSex function.\"\n",
      "[preprocessFunnorm] Normalization\n",
      "\n"
     ]
    }
   ],
   "source": [
    "# calculate the detection p-values\n",
    "detP <- detectionP(rgSet)\n",
    "\n",
    "# remove poor quality samples\n",
    "keep <- colMeans(detP) <= 0.02\n",
    "rgSet <- rgSet[, keep]\n",
    "\n",
    "# remove poor quality samples from targets data\n",
    "targets <- targets[keep, ]\n",
    "\n",
    "# remove poor quality samples from detection p-value table\n",
    "detP <- detP[, keep]\n",
    "\n",
    "# normalize the data; this results in a GenomicRatioSet object\n",
    "mSetSn <- preprocessFunnorm(rgSet) \n"
   ]
  },
  {
   "cell_type": "code",
   "execution_count": 20,
   "metadata": {
    "vscode": {
     "languageId": "r"
    }
   },
   "outputs": [
    {
     "data": {
      "text/html": [
       "<table class=\"dataframe\">\n",
       "<caption>A matrix: 6 x 5 of type dbl</caption>\n",
       "<thead>\n",
       "\t<tr><th></th><th scope=col>I_D_102</th><th scope=col>I_D_103</th><th scope=col>I_D_104</th><th scope=col>I_D_105</th><th scope=col>I_D_106</th></tr>\n",
       "</thead>\n",
       "<tbody>\n",
       "\t<tr><th scope=row>cg00381604_BC11</th><td>0.02506614</td><td>0.02738411</td><td>0.0258803</td><td>0.02514083</td><td>0.02645971</td></tr>\n",
       "\t<tr><th scope=row>cg21870274_BC21</th><td>0.02902466</td><td>0.29048458</td><td>0.5270121</td><td>0.13674814</td><td>0.52941273</td></tr>\n",
       "\t<tr><th scope=row>cg00002271_BC21</th><td>0.56381436</td><td>0.13428840</td><td>0.3561911</td><td>0.52883263</td><td>0.47953919</td></tr>\n",
       "\t<tr><th scope=row>cg00004581_TC21</th><td>0.38983669</td><td>0.42059204</td><td>0.3882163</td><td>0.25960807</td><td>0.33045484</td></tr>\n",
       "\t<tr><th scope=row>cg09261435_BC21</th><td>0.18146340</td><td>0.13962648</td><td>0.1447528</td><td>0.13627775</td><td>0.13958023</td></tr>\n",
       "\t<tr><th scope=row>cg00005473_TC21</th><td>0.92029837</td><td>0.92830399</td><td>0.9060129</td><td>0.92814239</td><td>0.88103126</td></tr>\n",
       "</tbody>\n",
       "</table>\n"
      ],
      "text/latex": [
       "A matrix: 6 x 5 of type dbl\n",
       "\\begin{tabular}{r|lllll}\n",
       "  & I\\_D\\_102 & I\\_D\\_103 & I\\_D\\_104 & I\\_D\\_105 & I\\_D\\_106\\\\\n",
       "\\hline\n",
       "\tcg00381604\\_BC11 & 0.02506614 & 0.02738411 & 0.0258803 & 0.02514083 & 0.02645971\\\\\n",
       "\tcg21870274\\_BC21 & 0.02902466 & 0.29048458 & 0.5270121 & 0.13674814 & 0.52941273\\\\\n",
       "\tcg00002271\\_BC21 & 0.56381436 & 0.13428840 & 0.3561911 & 0.52883263 & 0.47953919\\\\\n",
       "\tcg00004581\\_TC21 & 0.38983669 & 0.42059204 & 0.3882163 & 0.25960807 & 0.33045484\\\\\n",
       "\tcg09261435\\_BC21 & 0.18146340 & 0.13962648 & 0.1447528 & 0.13627775 & 0.13958023\\\\\n",
       "\tcg00005473\\_TC21 & 0.92029837 & 0.92830399 & 0.9060129 & 0.92814239 & 0.88103126\\\\\n",
       "\\end{tabular}\n"
      ],
      "text/markdown": [
       "\n",
       "A matrix: 6 x 5 of type dbl\n",
       "\n",
       "| <!--/--> | I_D_102 | I_D_103 | I_D_104 | I_D_105 | I_D_106 |\n",
       "|---|---|---|---|---|---|\n",
       "| cg00381604_BC11 | 0.02506614 | 0.02738411 | 0.0258803 | 0.02514083 | 0.02645971 |\n",
       "| cg21870274_BC21 | 0.02902466 | 0.29048458 | 0.5270121 | 0.13674814 | 0.52941273 |\n",
       "| cg00002271_BC21 | 0.56381436 | 0.13428840 | 0.3561911 | 0.52883263 | 0.47953919 |\n",
       "| cg00004581_TC21 | 0.38983669 | 0.42059204 | 0.3882163 | 0.25960807 | 0.33045484 |\n",
       "| cg09261435_BC21 | 0.18146340 | 0.13962648 | 0.1447528 | 0.13627775 | 0.13958023 |\n",
       "| cg00005473_TC21 | 0.92029837 | 0.92830399 | 0.9060129 | 0.92814239 | 0.88103126 |\n",
       "\n"
      ],
      "text/plain": [
       "                I_D_102    I_D_103    I_D_104   I_D_105    I_D_106   \n",
       "cg00381604_BC11 0.02506614 0.02738411 0.0258803 0.02514083 0.02645971\n",
       "cg21870274_BC21 0.02902466 0.29048458 0.5270121 0.13674814 0.52941273\n",
       "cg00002271_BC21 0.56381436 0.13428840 0.3561911 0.52883263 0.47953919\n",
       "cg00004581_TC21 0.38983669 0.42059204 0.3882163 0.25960807 0.33045484\n",
       "cg09261435_BC21 0.18146340 0.13962648 0.1447528 0.13627775 0.13958023\n",
       "cg00005473_TC21 0.92029837 0.92830399 0.9060129 0.92814239 0.88103126"
      ]
     },
     "metadata": {},
     "output_type": "display_data"
    }
   ],
   "source": [
    "# ensure probes are in the same order in the mSetSq and detP objects\n",
    "detP <- detP[match(featureNames(mSetSn),rownames(detP)),] \n",
    "\n",
    "# remove any probes that have failed in one or more samples\n",
    "keep <- rowSums(detP < 0.01) == ncol(mSetSn) \n",
    "mSetSnFlt <- mSetSn[keep, ]\n",
    "\n",
    "# if your data includes males and females, remove probes on the sex chromosomes\n",
    "keep <- !(featureNames(mSetSnFlt) %in% annEPICv2$Name[annEPICv2$chr %in% \n",
    "                                                        c(\"chrX\",\"chrY\")])\n",
    "mSetSnFlt <- mSetSnFlt[keep,]\n",
    "\n",
    "# remove probes with SNPs at CpG site\n",
    "mSetSnFlt <- dropLociWithSnps(mSetSnFlt)\n",
    "\n",
    "bVals <- getBeta(mSetSnFlt)\n",
    "head(bVals[, 1:5])\n"
   ]
  },
  {
   "cell_type": "code",
   "execution_count": 23,
   "metadata": {
    "vscode": {
     "languageId": "r"
    }
   },
   "outputs": [],
   "source": [
    "mset <- preprocessRaw(rgSet)"
   ]
  },
  {
   "cell_type": "code",
   "execution_count": 25,
   "metadata": {
    "vscode": {
     "languageId": "r"
    }
   },
   "outputs": [
    {
     "data": {
      "text/html": [
       "<table class=\"dataframe\">\n",
       "<caption>A matrix: 6 x 96 of type int</caption>\n",
       "<thead>\n",
       "\t<tr><th></th><th scope=col>I_D_102</th><th scope=col>I_D_103</th><th scope=col>I_D_104</th><th scope=col>I_D_105</th><th scope=col>I_D_106</th><th scope=col>I_D_107</th><th scope=col>I_D_108</th><th scope=col>I_D_109</th><th scope=col>I_D_050</th><th scope=col>I_D_051</th><th scope=col>...</th><th scope=col>I_D_039</th><th scope=col>I_D_040</th><th scope=col>I_D_067</th><th scope=col>I_D_069</th><th scope=col>I_D_070</th><th scope=col>I_D_071</th><th scope=col>I_D_074</th><th scope=col>I_D_076</th><th scope=col>I_D_078</th><th scope=col>I_D_079</th></tr>\n",
       "</thead>\n",
       "<tbody>\n",
       "\t<tr><th scope=row>cg25324105_BC11</th><td>24561</td><td>26240</td><td>26267</td><td>33085</td><td>31854</td><td>28603</td><td>31051</td><td>34291</td><td>21268</td><td>23085</td><td>...</td><td>27803</td><td>27854</td><td>27951</td><td>28057</td><td>29077</td><td>30023</td><td>29625</td><td>29884</td><td>31342</td><td>33948</td></tr>\n",
       "\t<tr><th scope=row>cg25383568_TC11</th><td> 5191</td><td> 9549</td><td> 8059</td><td>11405</td><td> 9788</td><td>11925</td><td> 9495</td><td>11689</td><td> 6464</td><td>10828</td><td>...</td><td> 8474</td><td>12576</td><td> 9204</td><td> 7307</td><td>14636</td><td>11050</td><td>11873</td><td>11421</td><td>11918</td><td> 9366</td></tr>\n",
       "\t<tr><th scope=row>cg25455143_BC11</th><td>21815</td><td>23271</td><td>22541</td><td>24476</td><td>25308</td><td>23492</td><td>25697</td><td>31720</td><td>17660</td><td>20603</td><td>...</td><td>23521</td><td>24151</td><td>21681</td><td>19859</td><td>24816</td><td>27159</td><td>25977</td><td>24128</td><td>21715</td><td>25727</td></tr>\n",
       "\t<tr><th scope=row>cg25459778_BC11</th><td>16490</td><td>16261</td><td>14178</td><td>16875</td><td>16037</td><td>17960</td><td>17728</td><td>18464</td><td>12269</td><td>13496</td><td>...</td><td>16543</td><td>19159</td><td>15300</td><td>17194</td><td>17846</td><td>19573</td><td>20336</td><td>19898</td><td>21523</td><td>19098</td></tr>\n",
       "\t<tr><th scope=row>cg25487775_BC11</th><td>18865</td><td>14293</td><td>16120</td><td>17720</td><td>15584</td><td>15135</td><td>21675</td><td>20728</td><td>15790</td><td>14890</td><td>...</td><td>18065</td><td>13103</td><td>16729</td><td>15401</td><td>17408</td><td>16373</td><td>14715</td><td>14698</td><td>11883</td><td> 9900</td></tr>\n",
       "\t<tr><th scope=row>cg25595446_BC11</th><td>10378</td><td>12976</td><td>10368</td><td>17422</td><td>16108</td><td>15921</td><td>15389</td><td>15562</td><td> 9215</td><td>10031</td><td>...</td><td>11094</td><td>14691</td><td>12287</td><td>11456</td><td>14690</td><td>14743</td><td>16044</td><td>17486</td><td>14351</td><td>15697</td></tr>\n",
       "</tbody>\n",
       "</table>\n"
      ],
      "text/latex": [
       "A matrix: 6 x 96 of type int\n",
       "\\begin{tabular}{r|lllllllllllllllllllll}\n",
       "  & I\\_D\\_102 & I\\_D\\_103 & I\\_D\\_104 & I\\_D\\_105 & I\\_D\\_106 & I\\_D\\_107 & I\\_D\\_108 & I\\_D\\_109 & I\\_D\\_050 & I\\_D\\_051 & ... & I\\_D\\_039 & I\\_D\\_040 & I\\_D\\_067 & I\\_D\\_069 & I\\_D\\_070 & I\\_D\\_071 & I\\_D\\_074 & I\\_D\\_076 & I\\_D\\_078 & I\\_D\\_079\\\\\n",
       "\\hline\n",
       "\tcg25324105\\_BC11 & 24561 & 26240 & 26267 & 33085 & 31854 & 28603 & 31051 & 34291 & 21268 & 23085 & ... & 27803 & 27854 & 27951 & 28057 & 29077 & 30023 & 29625 & 29884 & 31342 & 33948\\\\\n",
       "\tcg25383568\\_TC11 &  5191 &  9549 &  8059 & 11405 &  9788 & 11925 &  9495 & 11689 &  6464 & 10828 & ... &  8474 & 12576 &  9204 &  7307 & 14636 & 11050 & 11873 & 11421 & 11918 &  9366\\\\\n",
       "\tcg25455143\\_BC11 & 21815 & 23271 & 22541 & 24476 & 25308 & 23492 & 25697 & 31720 & 17660 & 20603 & ... & 23521 & 24151 & 21681 & 19859 & 24816 & 27159 & 25977 & 24128 & 21715 & 25727\\\\\n",
       "\tcg25459778\\_BC11 & 16490 & 16261 & 14178 & 16875 & 16037 & 17960 & 17728 & 18464 & 12269 & 13496 & ... & 16543 & 19159 & 15300 & 17194 & 17846 & 19573 & 20336 & 19898 & 21523 & 19098\\\\\n",
       "\tcg25487775\\_BC11 & 18865 & 14293 & 16120 & 17720 & 15584 & 15135 & 21675 & 20728 & 15790 & 14890 & ... & 18065 & 13103 & 16729 & 15401 & 17408 & 16373 & 14715 & 14698 & 11883 &  9900\\\\\n",
       "\tcg25595446\\_BC11 & 10378 & 12976 & 10368 & 17422 & 16108 & 15921 & 15389 & 15562 &  9215 & 10031 & ... & 11094 & 14691 & 12287 & 11456 & 14690 & 14743 & 16044 & 17486 & 14351 & 15697\\\\\n",
       "\\end{tabular}\n"
      ],
      "text/markdown": [
       "\n",
       "A matrix: 6 x 96 of type int\n",
       "\n",
       "| <!--/--> | I_D_102 | I_D_103 | I_D_104 | I_D_105 | I_D_106 | I_D_107 | I_D_108 | I_D_109 | I_D_050 | I_D_051 | ... | I_D_039 | I_D_040 | I_D_067 | I_D_069 | I_D_070 | I_D_071 | I_D_074 | I_D_076 | I_D_078 | I_D_079 |\n",
       "|---|---|---|---|---|---|---|---|---|---|---|---|---|---|---|---|---|---|---|---|---|---|\n",
       "| cg25324105_BC11 | 24561 | 26240 | 26267 | 33085 | 31854 | 28603 | 31051 | 34291 | 21268 | 23085 | ... | 27803 | 27854 | 27951 | 28057 | 29077 | 30023 | 29625 | 29884 | 31342 | 33948 |\n",
       "| cg25383568_TC11 |  5191 |  9549 |  8059 | 11405 |  9788 | 11925 |  9495 | 11689 |  6464 | 10828 | ... |  8474 | 12576 |  9204 |  7307 | 14636 | 11050 | 11873 | 11421 | 11918 |  9366 |\n",
       "| cg25455143_BC11 | 21815 | 23271 | 22541 | 24476 | 25308 | 23492 | 25697 | 31720 | 17660 | 20603 | ... | 23521 | 24151 | 21681 | 19859 | 24816 | 27159 | 25977 | 24128 | 21715 | 25727 |\n",
       "| cg25459778_BC11 | 16490 | 16261 | 14178 | 16875 | 16037 | 17960 | 17728 | 18464 | 12269 | 13496 | ... | 16543 | 19159 | 15300 | 17194 | 17846 | 19573 | 20336 | 19898 | 21523 | 19098 |\n",
       "| cg25487775_BC11 | 18865 | 14293 | 16120 | 17720 | 15584 | 15135 | 21675 | 20728 | 15790 | 14890 | ... | 18065 | 13103 | 16729 | 15401 | 17408 | 16373 | 14715 | 14698 | 11883 |  9900 |\n",
       "| cg25595446_BC11 | 10378 | 12976 | 10368 | 17422 | 16108 | 15921 | 15389 | 15562 |  9215 | 10031 | ... | 11094 | 14691 | 12287 | 11456 | 14690 | 14743 | 16044 | 17486 | 14351 | 15697 |\n",
       "\n"
      ],
      "text/plain": [
       "                I_D_102 I_D_103 I_D_104 I_D_105 I_D_106 I_D_107 I_D_108 I_D_109\n",
       "cg25324105_BC11 24561   26240   26267   33085   31854   28603   31051   34291  \n",
       "cg25383568_TC11  5191    9549    8059   11405    9788   11925    9495   11689  \n",
       "cg25455143_BC11 21815   23271   22541   24476   25308   23492   25697   31720  \n",
       "cg25459778_BC11 16490   16261   14178   16875   16037   17960   17728   18464  \n",
       "cg25487775_BC11 18865   14293   16120   17720   15584   15135   21675   20728  \n",
       "cg25595446_BC11 10378   12976   10368   17422   16108   15921   15389   15562  \n",
       "                I_D_050 I_D_051 ... I_D_039 I_D_040 I_D_067 I_D_069 I_D_070\n",
       "cg25324105_BC11 21268   23085   ... 27803   27854   27951   28057   29077  \n",
       "cg25383568_TC11  6464   10828   ...  8474   12576    9204    7307   14636  \n",
       "cg25455143_BC11 17660   20603   ... 23521   24151   21681   19859   24816  \n",
       "cg25459778_BC11 12269   13496   ... 16543   19159   15300   17194   17846  \n",
       "cg25487775_BC11 15790   14890   ... 18065   13103   16729   15401   17408  \n",
       "cg25595446_BC11  9215   10031   ... 11094   14691   12287   11456   14690  \n",
       "                I_D_071 I_D_074 I_D_076 I_D_078 I_D_079\n",
       "cg25324105_BC11 30023   29625   29884   31342   33948  \n",
       "cg25383568_TC11 11050   11873   11421   11918    9366  \n",
       "cg25455143_BC11 27159   25977   24128   21715   25727  \n",
       "cg25459778_BC11 19573   20336   19898   21523   19098  \n",
       "cg25487775_BC11 16373   14715   14698   11883    9900  \n",
       "cg25595446_BC11 14743   16044   17486   14351   15697  "
      ]
     },
     "metadata": {},
     "output_type": "display_data"
    }
   ],
   "source": [
    "intensity <-  minfi::getMeth(mset) + minfi::getUnmeth(mset)\n",
    "head(intensity)"
   ]
  },
  {
   "cell_type": "code",
   "execution_count": 27,
   "metadata": {
    "vscode": {
     "languageId": "r"
    }
   },
   "outputs": [
    {
     "data": {
      "text/html": [
       "<table class=\"dataframe\">\n",
       "<caption>A data.frame: 6 x 16</caption>\n",
       "<thead>\n",
       "\t<tr><th></th><th scope=col>Sample_ID</th><th scope=col>Sample_Well</th><th scope=col>Sample_Plate</th><th scope=col>Sample_Name</th><th scope=col>Pool_ID</th><th scope=col>Sample_Group</th><th scope=col>I.D.Code</th><th scope=col>Sample</th><th scope=col>Sample.Type</th><th scope=col>Tumour.Normal</th><th scope=col>Collection</th><th scope=col>Institution</th><th scope=col>Array</th><th scope=col>Slide</th><th scope=col>Basename</th><th scope=col>ID</th></tr>\n",
       "\t<tr><th></th><th scope=col>&lt;chr&gt;</th><th scope=col>&lt;chr&gt;</th><th scope=col>&lt;chr&gt;</th><th scope=col>&lt;chr&gt;</th><th scope=col>&lt;chr&gt;</th><th scope=col>&lt;chr&gt;</th><th scope=col>&lt;chr&gt;</th><th scope=col>&lt;chr&gt;</th><th scope=col>&lt;chr&gt;</th><th scope=col>&lt;chr&gt;</th><th scope=col>&lt;chr&gt;</th><th scope=col>&lt;chr&gt;</th><th scope=col>&lt;chr&gt;</th><th scope=col>&lt;chr&gt;</th><th scope=col>&lt;chr&gt;</th><th scope=col>&lt;chr&gt;</th></tr>\n",
       "</thead>\n",
       "<tbody>\n",
       "\t<tr><th scope=row>1</th><td>FIN13295A89</td><td>A12</td><td>207881760004_R01C01_FIN13295A89_A12</td><td>I_D_102</td><td>NA</td><td>Diffuse midline glioma</td><td>I-D-102</td><td>SU-DIPG-17         </td><td>Cell-line</td><td>Tumour</td><td>Post-mortem</td><td>Stanford Univeristy        </td><td>R01C01</td><td>207881760004</td><td>../Dataset/Izac_Methylomics/FIN13296/iDAT/207881760004/207881760004_R01C01/207881760004_R01C01</td><td>I_D_102</td></tr>\n",
       "\t<tr><th scope=row>2</th><td>FIN13295A90</td><td>B12</td><td>207881760004_R02C01_FIN13295A90_B12</td><td>I_D_103</td><td>NA</td><td>Diffuse midline glioma</td><td>I-D-103</td><td>RA055              </td><td>Cell-line</td><td>Tumour</td><td>Progression</td><td>Zero Childhood Cancer      </td><td>R02C01</td><td>207881760004</td><td>../Dataset/Izac_Methylomics/FIN13296/iDAT/207881760004/207881760004_R02C01/207881760004_R02C01</td><td>I_D_103</td></tr>\n",
       "\t<tr><th scope=row>3</th><td>FIN13295A91</td><td>C12</td><td>207881760004_R03C01_FIN13295A91_C12</td><td>I_D_104</td><td>NA</td><td>Diffuse midline glioma</td><td>I-D-104</td><td>PBT-28             </td><td>Cell-line</td><td>Tumour</td><td>Diagnosis  </td><td>Seattle Children's Hospital</td><td>R03C01</td><td>207881760004</td><td>../Dataset/Izac_Methylomics/FIN13296/iDAT/207881760004/207881760004_R03C01/207881760004_R03C01</td><td>I_D_104</td></tr>\n",
       "\t<tr><th scope=row>4</th><td>FIN13295A92</td><td>D12</td><td>207881760004_R04C01_FIN13295A92_D12</td><td>I_D_105</td><td>NA</td><td>Diffuse midline glioma</td><td>I-D-105</td><td>P002306            </td><td>Cell-line</td><td>Tumour</td><td>Unknown    </td><td>Zero Childhood Cancer      </td><td>R04C01</td><td>207881760004</td><td>../Dataset/Izac_Methylomics/FIN13296/iDAT/207881760004/207881760004_R04C01/207881760004_R04C01</td><td>I_D_105</td></tr>\n",
       "\t<tr><th scope=row>5</th><td>FIN13295A93</td><td>E12</td><td>207881760004_R05C01_FIN13295A93_E12</td><td>I_D_106</td><td>NA</td><td>Diffuse midline glioma</td><td>I-D-106</td><td>P007601            </td><td>Cell-line</td><td>Tumour</td><td>Unknown    </td><td>Zero Childhood Cancer      </td><td>R05C01</td><td>207881760004</td><td>../Dataset/Izac_Methylomics/FIN13296/iDAT/207881760004/207881760004_R05C01/207881760004_R05C01</td><td>I_D_106</td></tr>\n",
       "\t<tr><th scope=row>6</th><td>FIN13295A94</td><td>F12</td><td>207881760004_R06C01_FIN13295A94_F12</td><td>I_D_107</td><td>NA</td><td>Diffuse midline glioma</td><td>I-D-107</td><td>P005401 Progression</td><td>Cell-line</td><td>Tumour</td><td>Progression</td><td>Zero Childhood Cancer      </td><td>R06C01</td><td>207881760004</td><td>../Dataset/Izac_Methylomics/FIN13296/iDAT/207881760004/207881760004_R06C01/207881760004_R06C01</td><td>I_D_107</td></tr>\n",
       "</tbody>\n",
       "</table>\n"
      ],
      "text/latex": [
       "A data.frame: 6 x 16\n",
       "\\begin{tabular}{r|llllllllllllllll}\n",
       "  & Sample\\_ID & Sample\\_Well & Sample\\_Plate & Sample\\_Name & Pool\\_ID & Sample\\_Group & I.D.Code & Sample & Sample.Type & Tumour.Normal & Collection & Institution & Array & Slide & Basename & ID\\\\\n",
       "  & <chr> & <chr> & <chr> & <chr> & <chr> & <chr> & <chr> & <chr> & <chr> & <chr> & <chr> & <chr> & <chr> & <chr> & <chr> & <chr>\\\\\n",
       "\\hline\n",
       "\t1 & FIN13295A89 & A12 & 207881760004\\_R01C01\\_FIN13295A89\\_A12 & I\\_D\\_102 & NA & Diffuse midline glioma & I-D-102 & SU-DIPG-17          & Cell-line & Tumour & Post-mortem & Stanford Univeristy         & R01C01 & 207881760004 & ../Dataset/Izac\\_Methylomics/FIN13296/iDAT/207881760004/207881760004\\_R01C01/207881760004\\_R01C01 & I\\_D\\_102\\\\\n",
       "\t2 & FIN13295A90 & B12 & 207881760004\\_R02C01\\_FIN13295A90\\_B12 & I\\_D\\_103 & NA & Diffuse midline glioma & I-D-103 & RA055               & Cell-line & Tumour & Progression & Zero Childhood Cancer       & R02C01 & 207881760004 & ../Dataset/Izac\\_Methylomics/FIN13296/iDAT/207881760004/207881760004\\_R02C01/207881760004\\_R02C01 & I\\_D\\_103\\\\\n",
       "\t3 & FIN13295A91 & C12 & 207881760004\\_R03C01\\_FIN13295A91\\_C12 & I\\_D\\_104 & NA & Diffuse midline glioma & I-D-104 & PBT-28              & Cell-line & Tumour & Diagnosis   & Seattle Children's Hospital & R03C01 & 207881760004 & ../Dataset/Izac\\_Methylomics/FIN13296/iDAT/207881760004/207881760004\\_R03C01/207881760004\\_R03C01 & I\\_D\\_104\\\\\n",
       "\t4 & FIN13295A92 & D12 & 207881760004\\_R04C01\\_FIN13295A92\\_D12 & I\\_D\\_105 & NA & Diffuse midline glioma & I-D-105 & P002306             & Cell-line & Tumour & Unknown     & Zero Childhood Cancer       & R04C01 & 207881760004 & ../Dataset/Izac\\_Methylomics/FIN13296/iDAT/207881760004/207881760004\\_R04C01/207881760004\\_R04C01 & I\\_D\\_105\\\\\n",
       "\t5 & FIN13295A93 & E12 & 207881760004\\_R05C01\\_FIN13295A93\\_E12 & I\\_D\\_106 & NA & Diffuse midline glioma & I-D-106 & P007601             & Cell-line & Tumour & Unknown     & Zero Childhood Cancer       & R05C01 & 207881760004 & ../Dataset/Izac\\_Methylomics/FIN13296/iDAT/207881760004/207881760004\\_R05C01/207881760004\\_R05C01 & I\\_D\\_106\\\\\n",
       "\t6 & FIN13295A94 & F12 & 207881760004\\_R06C01\\_FIN13295A94\\_F12 & I\\_D\\_107 & NA & Diffuse midline glioma & I-D-107 & P005401 Progression & Cell-line & Tumour & Progression & Zero Childhood Cancer       & R06C01 & 207881760004 & ../Dataset/Izac\\_Methylomics/FIN13296/iDAT/207881760004/207881760004\\_R06C01/207881760004\\_R06C01 & I\\_D\\_107\\\\\n",
       "\\end{tabular}\n"
      ],
      "text/markdown": [
       "\n",
       "A data.frame: 6 x 16\n",
       "\n",
       "| <!--/--> | Sample_ID &lt;chr&gt; | Sample_Well &lt;chr&gt; | Sample_Plate &lt;chr&gt; | Sample_Name &lt;chr&gt; | Pool_ID &lt;chr&gt; | Sample_Group &lt;chr&gt; | I.D.Code &lt;chr&gt; | Sample &lt;chr&gt; | Sample.Type &lt;chr&gt; | Tumour.Normal &lt;chr&gt; | Collection &lt;chr&gt; | Institution &lt;chr&gt; | Array &lt;chr&gt; | Slide &lt;chr&gt; | Basename &lt;chr&gt; | ID &lt;chr&gt; |\n",
       "|---|---|---|---|---|---|---|---|---|---|---|---|---|---|---|---|---|\n",
       "| 1 | FIN13295A89 | A12 | 207881760004_R01C01_FIN13295A89_A12 | I_D_102 | NA | Diffuse midline glioma | I-D-102 | SU-DIPG-17          | Cell-line | Tumour | Post-mortem | Stanford Univeristy         | R01C01 | 207881760004 | ../Dataset/Izac_Methylomics/FIN13296/iDAT/207881760004/207881760004_R01C01/207881760004_R01C01 | I_D_102 |\n",
       "| 2 | FIN13295A90 | B12 | 207881760004_R02C01_FIN13295A90_B12 | I_D_103 | NA | Diffuse midline glioma | I-D-103 | RA055               | Cell-line | Tumour | Progression | Zero Childhood Cancer       | R02C01 | 207881760004 | ../Dataset/Izac_Methylomics/FIN13296/iDAT/207881760004/207881760004_R02C01/207881760004_R02C01 | I_D_103 |\n",
       "| 3 | FIN13295A91 | C12 | 207881760004_R03C01_FIN13295A91_C12 | I_D_104 | NA | Diffuse midline glioma | I-D-104 | PBT-28              | Cell-line | Tumour | Diagnosis   | Seattle Children's Hospital | R03C01 | 207881760004 | ../Dataset/Izac_Methylomics/FIN13296/iDAT/207881760004/207881760004_R03C01/207881760004_R03C01 | I_D_104 |\n",
       "| 4 | FIN13295A92 | D12 | 207881760004_R04C01_FIN13295A92_D12 | I_D_105 | NA | Diffuse midline glioma | I-D-105 | P002306             | Cell-line | Tumour | Unknown     | Zero Childhood Cancer       | R04C01 | 207881760004 | ../Dataset/Izac_Methylomics/FIN13296/iDAT/207881760004/207881760004_R04C01/207881760004_R04C01 | I_D_105 |\n",
       "| 5 | FIN13295A93 | E12 | 207881760004_R05C01_FIN13295A93_E12 | I_D_106 | NA | Diffuse midline glioma | I-D-106 | P007601             | Cell-line | Tumour | Unknown     | Zero Childhood Cancer       | R05C01 | 207881760004 | ../Dataset/Izac_Methylomics/FIN13296/iDAT/207881760004/207881760004_R05C01/207881760004_R05C01 | I_D_106 |\n",
       "| 6 | FIN13295A94 | F12 | 207881760004_R06C01_FIN13295A94_F12 | I_D_107 | NA | Diffuse midline glioma | I-D-107 | P005401 Progression | Cell-line | Tumour | Progression | Zero Childhood Cancer       | R06C01 | 207881760004 | ../Dataset/Izac_Methylomics/FIN13296/iDAT/207881760004/207881760004_R06C01/207881760004_R06C01 | I_D_107 |\n",
       "\n"
      ],
      "text/plain": [
       "  Sample_ID   Sample_Well Sample_Plate                        Sample_Name\n",
       "1 FIN13295A89 A12         207881760004_R01C01_FIN13295A89_A12 I_D_102    \n",
       "2 FIN13295A90 B12         207881760004_R02C01_FIN13295A90_B12 I_D_103    \n",
       "3 FIN13295A91 C12         207881760004_R03C01_FIN13295A91_C12 I_D_104    \n",
       "4 FIN13295A92 D12         207881760004_R04C01_FIN13295A92_D12 I_D_105    \n",
       "5 FIN13295A93 E12         207881760004_R05C01_FIN13295A93_E12 I_D_106    \n",
       "6 FIN13295A94 F12         207881760004_R06C01_FIN13295A94_F12 I_D_107    \n",
       "  Pool_ID Sample_Group           I.D.Code Sample              Sample.Type\n",
       "1 NA      Diffuse midline glioma I-D-102  SU-DIPG-17          Cell-line  \n",
       "2 NA      Diffuse midline glioma I-D-103  RA055               Cell-line  \n",
       "3 NA      Diffuse midline glioma I-D-104  PBT-28              Cell-line  \n",
       "4 NA      Diffuse midline glioma I-D-105  P002306             Cell-line  \n",
       "5 NA      Diffuse midline glioma I-D-106  P007601             Cell-line  \n",
       "6 NA      Diffuse midline glioma I-D-107  P005401 Progression Cell-line  \n",
       "  Tumour.Normal Collection  Institution                 Array  Slide       \n",
       "1 Tumour        Post-mortem Stanford Univeristy         R01C01 207881760004\n",
       "2 Tumour        Progression Zero Childhood Cancer       R02C01 207881760004\n",
       "3 Tumour        Diagnosis   Seattle Children's Hospital R03C01 207881760004\n",
       "4 Tumour        Unknown     Zero Childhood Cancer       R04C01 207881760004\n",
       "5 Tumour        Unknown     Zero Childhood Cancer       R05C01 207881760004\n",
       "6 Tumour        Progression Zero Childhood Cancer       R06C01 207881760004\n",
       "  Basename                                                                                      \n",
       "1 ../Dataset/Izac_Methylomics/FIN13296/iDAT/207881760004/207881760004_R01C01/207881760004_R01C01\n",
       "2 ../Dataset/Izac_Methylomics/FIN13296/iDAT/207881760004/207881760004_R02C01/207881760004_R02C01\n",
       "3 ../Dataset/Izac_Methylomics/FIN13296/iDAT/207881760004/207881760004_R03C01/207881760004_R03C01\n",
       "4 ../Dataset/Izac_Methylomics/FIN13296/iDAT/207881760004/207881760004_R04C01/207881760004_R04C01\n",
       "5 ../Dataset/Izac_Methylomics/FIN13296/iDAT/207881760004/207881760004_R05C01/207881760004_R05C01\n",
       "6 ../Dataset/Izac_Methylomics/FIN13296/iDAT/207881760004/207881760004_R06C01/207881760004_R06C01\n",
       "  ID     \n",
       "1 I_D_102\n",
       "2 I_D_103\n",
       "3 I_D_104\n",
       "4 I_D_105\n",
       "5 I_D_106\n",
       "6 I_D_107"
      ]
     },
     "metadata": {},
     "output_type": "display_data"
    }
   ],
   "source": [
    "head(targets)"
   ]
  },
  {
   "cell_type": "code",
   "execution_count": 31,
   "metadata": {
    "vscode": {
     "languageId": "r"
    }
   },
   "outputs": [
    {
     "name": "stderr",
     "output_type": "stream",
     "text": [
      "[===========================]\n",
      "\n",
      "[<<<<< ChAMP.CNA START >>>>>]\n",
      "\n",
      "-----------------------------\n",
      "\n",
      "champ.CNA Results will be saved in ./CHAMP_CNA .\n",
      "\n",
      "\n",
      "ChaMP.CNA does not provide batch Correct on intensity data now, but you can use champ.runCombat to correct slides batch yourself.\n",
      "\n",
      "<< Create Control Data >>\n",
      "\n",
      "<< Calculate mean value difference between each sample to mean control samples >>\n",
      "\n"
     ]
    }
   ],
   "source": [
    "myCNA <- champ.CNA(intensity=intensity, controlGroup= \"Cell-line\", pheno=targets$Sample.Type, arraytype=\"EPIC\")\n"
   ]
  },
  {
   "cell_type": "code",
   "execution_count": null,
   "metadata": {
    "vscode": {
     "languageId": "r"
    }
   },
   "outputs": [],
   "source": []
  }
 ],
 "metadata": {
  "kernelspec": {
   "display_name": "R",
   "language": "R",
   "name": "ir"
  },
  "language_info": {
   "codemirror_mode": "r",
   "file_extension": ".r",
   "mimetype": "text/x-r-source",
   "name": "R",
   "pygments_lexer": "r",
   "version": "4.4.0"
  }
 },
 "nbformat": 4,
 "nbformat_minor": 2
}
